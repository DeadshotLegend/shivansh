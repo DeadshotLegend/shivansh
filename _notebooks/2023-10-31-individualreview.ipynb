{
 "cells": [
  {
   "cell_type": "markdown",
   "metadata": {},
   "source": [
    "---\n",
    "toc: true\n",
    "comments: true\n",
    "layout: post\n",
    "title: Individual Review Shivansh Goel\n",
    "description:  Individual Review for Shivansh Goel\n",
    "courses: { csa: {week: 10} }\n",
    "type: hacks\n",
    "---"
   ]
  },
  {
   "cell_type": "markdown",
   "metadata": {},
   "source": [
    "# Key Github Commits\n",
    "![]({{ site.baseurl }}/images/keygithubcommitspart1.JPG)\n",
    "\n",
    "This is where I changed the Original DriveTrain Code which had the features of defining GPIO pins for controlling the motors, defining the PWM Range, defining the PWM frequency, initailizing the Pi4J library, initialzing the GPIO Pins, and a some test moves...\n",
    "\n",
    "to the new DriveTrain code which had methods for moving forward, right, left, and backwards.\n",
    "\n",
    "Trouble that I went through"
   ]
  },
  {
   "cell_type": "markdown",
   "metadata": {},
   "source": [
    "# Original DriveTrain Code\n"
   ]
  },
  {
   "cell_type": "code",
   "execution_count": null,
   "metadata": {
    "vscode": {
     "languageId": "java"
    }
   },
   "outputs": [],
   "source": [
    "import com.pi4j.io.gpio.*;\n",
    "import com.pi4j.wiringpi.Gpio;\n",
    "import com.pi4j.wiringpi.GpioUtil;\n",
    "\n",
    "public class TurnRobot {\n",
    "\n",
    "    // Define the GPIO pins for controlling the motors\n",
    "    private static final Pin LEFT_FORWARD_PIN = RaspiPin.GPIO_00;\n",
    "    private static final Pin LEFT_BACKWARD_PIN = RaspiPin.GPIO_01;\n",
    "    private static final Pin RIGHT_FORWARD_PIN = RaspiPin.GPIO_02;\n",
    "    private static final Pin RIGHT_BACKWARD_PIN = RaspiPin.GPIO_03;\n",
    "\n",
    "    // Define the PWM range (0 to 1000)\n",
    "    private static final int PWM_RANGE = 1000;\n",
    "\n",
    "    // Define the PWM frequency (in Hz)\n",
    "    private static final int PWM_FREQUENCY = 100;\n",
    "\n",
    "    public static void main(String[] args) {\n",
    "        // Initialize Pi4J\n",
    "        GpioController gpio = GpioFactory.getInstance();\n",
    "\n",
    "        // Set PWM range and frequency\n",
    "        Gpio.pwmSetMode(Gpio.PWM_MODE_MS);\n",
    "        Gpio.pwmSetRange(PWM_RANGE);\n",
    "        Gpio.pwmSetClock(192);\n",
    "\n",
    "        // Initialize GPIO pins\n",
    "        GpioPinPwmOutput leftForward = gpio.provisionPwmOutputPin(LEFT_FORWARD_PIN);\n",
    "        GpioPinPwmOutput leftBackward = gpio.provisionPwmOutputPin(LEFT_BACKWARD_PIN);\n",
    "        GpioPinPwmOutput rightForward = gpio.provisionPwmOutputPin(RIGHT_FORWARD_PIN);\n",
    "        GpioPinPwmOutput rightBackward = gpio.provisionPwmOutputPin(RIGHT_BACKWARD_PIN);\n",
    "\n",
    "        // Set all pins to zero (off)\n",
    "        leftForward.setPwm(0);\n",
    "        leftBackward.setPwm(0);\n",
    "        rightForward.setPwm(0);\n",
    "        rightBackward.setPwm(0);\n",
    "\n",
    "        try {\n",
    "            // Set left motor forward, right motor backward\n",
    "            leftForward.setPwm(500);  // Adjust the PWM value for your specific motors\n",
    "            rightBackward.setPwm(500);  // Adjust the PWM value for your specific motors\n",
    "\n",
    "            // Run for some time (you can adjust this based on your needs)\n",
    "            Thread.sleep(2000);\n",
    "\n",
    "            // Stop the motors\n",
    "            leftForward.setPwm(0);\n",
    "            rightBackward.setPwm(0);\n",
    "        } catch (InterruptedException e) {\n",
    "            e.printStackTrace();\n",
    "        }\n",
    "\n",
    "        // Cleanup GPIO resources\n",
    "        gpio.shutdown();\n",
    "    }\n",
    "}\n",
    "\n",
    "\n",
    "\n",
    "\n",
    "\n",
    "\n"
   ]
  },
  {
   "cell_type": "markdown",
   "metadata": {},
   "source": [
    "Summary of the Code:\n",
    "GPIO pins can be used to read digital signals, which can be either high (1) or low (0). This is useful for reading sensors, switches, buttons, etc. GPIO pins can be used to send digital signals, which can be either high (1) or low (0). This is useful for controlling LEDs, relays, transistors, etc.\n",
    "First we defined GPIO pins for controlling the motors. Then we started defining the PWM frequency\n"
   ]
  },
  {
   "cell_type": "markdown",
   "metadata": {},
   "source": [
    "# New DriveTrain Code\n",
    "What Changed: Adding the methods for moving forward, moving backward, turning right, and truning left."
   ]
  },
  {
   "cell_type": "code",
   "execution_count": null,
   "metadata": {
    "vscode": {
     "languageId": "java"
    }
   },
   "outputs": [],
   "source": [
    "import com.pi4j.io.gpio.*;\n",
    "import com.pi4j.wiringpi.Gpio;\n",
    "import com.pi4j.wiringpi.GpioUtil;\n",
    "\n",
    "public class RobotControl {\n",
    "\n",
    "    private static final Pin LEFT_FORWARD_PIN = RaspiPin.GPIO_00;\n",
    "    private static final Pin LEFT_BACKWARD_PIN = RaspiPin.GPIO_01;\n",
    "    private static final Pin RIGHT_FORWARD_PIN = RaspiPin.GPIO_02;\n",
    "    private static final Pin RIGHT_BACKWARD_PIN = RaspiPin.GPIO_03;\n",
    "    private static final int PWM_RANGE = 1000;\n",
    "    private static final int PWM_FREQUENCY = 100;\n",
    "    \n",
    "    private static GpioController gpio;\n",
    "    private static GpioPinPwmOutput leftForward;\n",
    "    private static GpioPinPwmOutput leftBackward;\n",
    "    private static GpioPinPwmOutput rightForward;\n",
    "    private static GpioPinPwmOutput rightBackward;\n",
    "\n",
    "    public static void initialize() {\n",
    "        gpio = GpioFactory.getInstance();\n",
    "        Gpio.pwmSetMode(Gpio.PWM_MODE_MS);\n",
    "        Gpio.pwmSetRange(PWM_RANGE);\n",
    "        Gpio.pwmSetClock(192);\n",
    "\n",
    "        leftForward = gpio.provisionPwmOutputPin(LEFT_FORWARD_PIN);\n",
    "        leftBackward = gpio.provisionPwmOutputPin(LEFT_BACKWARD_PIN);\n",
    "        rightForward = gpio.provisionPwmOutputPin(RIGHT_FORWARD_PIN);\n",
    "        rightBackward = gpio.provisionPwmOutputPin(RIGHT_BACKWARD_PIN);\n",
    "\n",
    "        leftForward.setPwm(0);\n",
    "        leftBackward.setPwm(0);\n",
    "        rightForward.setPwm(0);\n",
    "        rightBackward.setPwm(0);\n",
    "    }\n",
    "\n",
    "    public static void stop() {\n",
    "        leftForward.setPwm(0);\n",
    "        leftBackward.setPwm(0);\n",
    "        rightForward.setPwm(0);\n",
    "        rightBackward.setPwm(0);\n",
    "    }\n",
    "\n",
    "    public static void moveForward(int speed) {\n",
    "        leftForward.setPwm(speed);\n",
    "        rightForward.setPwm(speed);\n",
    "    }\n",
    "\n",
    "    public static void moveBackward(int speed) {\n",
    "        leftBackward.setPwm(speed);\n",
    "        rightBackward.setPwm(speed);\n",
    "    }\n",
    "\n",
    "    public static void turnLeft(int speed) {\n",
    "        leftBackward.setPwm(speed);\n",
    "        rightForward.setPwm(speed);\n",
    "    }\n",
    "\n",
    "    public static void turnRight(int speed) {\n",
    "        leftForward.setPwm(speed);\n",
    "        rightBackward.setPwm(speed);\n",
    "    }\n",
    "\n",
    "    public static void cleanup() {\n",
    "        gpio.shutdown();\n",
    "    }\n",
    "\n",
    "    public static void main(String[] args) {\n",
    "        initialize();\n",
    "\n",
    "        // Move forward at speed 500 for 2 seconds\n",
    "        moveForward(500);\n",
    "        try {\n",
    "            Thread.sleep(2000);\n",
    "        } catch (InterruptedException e) {\n",
    "            e.printStackTrace();\n",
    "        }\n",
    "        stop();\n",
    "\n",
    "        cleanup();\n",
    "    }\n",
    "}\n"
   ]
  },
  {
   "cell_type": "markdown",
   "metadata": {},
   "source": [
    "Summary of the Code"
   ]
  },
  {
   "cell_type": "markdown",
   "metadata": {},
   "source": [
    "# 2nd Key Github Commit\n",
    "![]({{ site.baseurl }}/images/keygithubcommitspart2.JPG)\n",
    "The last key github commit which I did for the project was finally connecting the methods to be used in the project."
   ]
  },
  {
   "cell_type": "markdown",
   "metadata": {},
   "source": [
    "# College Board\n",
    "\n",
    "\n",
    "Stuff that I searched up during the collegeboard quiz was how to recurse through the arraylist and the outputs that would come out. This was espeially useful in questions: 5, mystery method returning Arraylist, and question 18, Generate random index for ArrayList. \n",
    "Questions that I really struggled on was question 4, selection with variables x and y becuase I forgota the different math expressions that were used in java which is really important for integer calculations.\n",
    "![]({{ site.baseurl }}/images/2014practiceexammcqscore.JPG)\n",
    "\n",
    "Questions that I got Wrong:\n",
    "Question 4:\n",
    "I chose answer E, which would be the result if the expression x / y was x % y instead. So the correct answer from value: 2, which was the correct expression. For the future I will review the different mathematical expressions that are possible in java.\n",
    "![]({{ site.baseurl }}/images/question4colleboardmcq.JPG)\n",
    "\n",
    "Question 22:\n",
    "I chose answer D, which was wrong since the methods of the superclass can be overridden in the subclass. Since the books array is declared of type Book, the compiler will check to see if Book has a length() method. Since Book has a length() method, there is not a compile time error. At run-time, the length() method in AudioBook will be executed since the object at books[0] is an AudioBook. The correct answer was actually B, Line 4 will not compile because variables of type Book may only call methods in the Book class.\n",
    "\n",
    "Question 23: I chose answer E, which would be the result if when words that started with “b” were found, they were added to the end instead of inserted at index animals.size() – k such as if the statement in the for loop was animals.add(animals.remove(k));. The correct answer was B, for the future I will focus more on working arraylists in relation to interfaces by watching collegeboared videos 2.7 and 7.4.\n",
    "\n",
    "Question 25: Q25 RBox interfaces\n",
    "I chose answer A which was wrong since Choice II provides the user with methods smallerHeight, smallerWidth, and smallerDepth that let the user know if one box is smaller than the other in each of the three dimensions, so the only correct answer was choice 1. To prepare better for the future I will focus more on java interfaces and watch colleborad videos 5.4 and try to code some projects or classwork using interfaces.\n",
    "\n",
    "\n",
    "\n"
   ]
  },
  {
   "cell_type": "markdown",
   "metadata": {},
   "source": [
    "# Trimester 1 Reflection\n",
    "Main learning from trimester 1 was definetly the learning of java, I already had a lot of experience with java and I knew most of the basic concepts such as arrays, arraylists, classess, and inheritance. Something which I really appreciated doing this trimester was definetly presenting 2D arrays. Previously I had absolutely no experience using 2D arrays, and not only did I learn about the topic I presented which I think solidified my learning of the topic even more. I also learned about polymorphism and inheritanced which really increased my world in java and can improve my code and projects a lot. Positive accomplishments that I think really happened was an increase in overral knowledge of java and more expereince in drivetrain with robots as I am in the robotics team. For future trimesters I intend to learn to learn the more complicated parts of Java including JavaDB so i can solidify and master my learning in java. In the future timesters I aim to imporve the project and improve my drivetrain code\n",
    "\n"
   ]
  }
 ],
 "metadata": {
  "language_info": {
   "name": "python"
  }
 },
 "nbformat": 4,
 "nbformat_minor": 2
}
