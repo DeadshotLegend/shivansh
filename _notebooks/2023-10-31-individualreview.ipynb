{
 "cells": [
  {
   "cell_type": "markdown",
   "metadata": {},
   "source": [
    "---\n",
    "toc: true\n",
    "comments: true\n",
    "layout: post\n",
    "title: Individual Review Shivansh Goel\n",
    "description:  Individual Review for Shivansh Goel\n",
    "courses: { csa: {week: 10} }\n",
    "type: hacks\n",
    "---"
   ]
  },
  {
   "cell_type": "markdown",
   "metadata": {},
   "source": [
    "# Original DriveTrain Code\n"
   ]
  },
  {
   "cell_type": "markdown",
   "metadata": {},
   "source": [
    "What we are Tring to do:\n",
    "To control a drivetrain using PWM signals on a Raspberry Pi 4 in Java, you'll first need to make sure you have the necessary hardware set up (e.g., motor controllers, motors, etc.). Then, you can use a library like Pi4J to interact with the GPIO pins and generate PWM signals.\n"
   ]
  },
  {
   "cell_type": "code",
   "execution_count": null,
   "metadata": {
    "vscode": {
     "languageId": "java"
    }
   },
   "outputs": [],
   "source": [
    "import com.pi4j.io.gpio.*;\n",
    "import com.pi4j.wiringpi.Gpio;\n",
    "import com.pi4j.wiringpi.GpioUtil;\n",
    "\n",
    "public class TurnRobot {\n",
    "\n",
    "    // Define the GPIO pins for controlling the motors\n",
    "    private static final Pin LEFT_FORWARD_PIN = RaspiPin.GPIO_00;\n",
    "    private static final Pin LEFT_BACKWARD_PIN = RaspiPin.GPIO_01;\n",
    "    private static final Pin RIGHT_FORWARD_PIN = RaspiPin.GPIO_02;\n",
    "    private static final Pin RIGHT_BACKWARD_PIN = RaspiPin.GPIO_03;\n",
    "\n",
    "    // Define the PWM range (0 to 1000)\n",
    "    private static final int PWM_RANGE = 1000;\n",
    "\n",
    "    // Define the PWM frequency (in Hz)\n",
    "    private static final int PWM_FREQUENCY = 100;\n",
    "\n",
    "    public static void main(String[] args) {\n",
    "        // Initialize Pi4J\n",
    "        GpioController gpio = GpioFactory.getInstance();\n",
    "\n",
    "        // Set PWM range and frequency\n",
    "        Gpio.pwmSetMode(Gpio.PWM_MODE_MS);\n",
    "        Gpio.pwmSetRange(PWM_RANGE);\n",
    "        Gpio.pwmSetClock(192);\n",
    "\n",
    "        // Initialize GPIO pins\n",
    "        GpioPinPwmOutput leftForward = gpio.provisionPwmOutputPin(LEFT_FORWARD_PIN);\n",
    "        GpioPinPwmOutput leftBackward = gpio.provisionPwmOutputPin(LEFT_BACKWARD_PIN);\n",
    "        GpioPinPwmOutput rightForward = gpio.provisionPwmOutputPin(RIGHT_FORWARD_PIN);\n",
    "        GpioPinPwmOutput rightBackward = gpio.provisionPwmOutputPin(RIGHT_BACKWARD_PIN);\n",
    "\n",
    "        // Set all pins to zero (off)\n",
    "        leftForward.setPwm(0);\n",
    "        leftBackward.setPwm(0);\n",
    "        rightForward.setPwm(0);\n",
    "        rightBackward.setPwm(0);\n",
    "\n",
    "        try {\n",
    "            // Set left motor forward, right motor backward\n",
    "            leftForward.setPwm(500);  // Adjust the PWM value for your specific motors\n",
    "            rightBackward.setPwm(500);  // Adjust the PWM value for your specific motors\n",
    "\n",
    "            // Run for some time (you can adjust this based on your needs)\n",
    "            Thread.sleep(2000);\n",
    "\n",
    "            // Stop the motors\n",
    "            leftForward.setPwm(0);\n",
    "            rightBackward.setPwm(0);\n",
    "        } catch (InterruptedException e) {\n",
    "            e.printStackTrace();\n",
    "        }\n",
    "\n",
    "        // Cleanup GPIO resources\n",
    "        gpio.shutdown();\n",
    "    }\n",
    "}\n",
    "\n",
    "\n",
    "\n",
    "\n",
    "\n",
    "\n"
   ]
  },
  {
   "cell_type": "markdown",
   "metadata": {},
   "source": [
    "Summary of the Code:\n",
    "GPIO pins can be used to read digital signals, which can be either high (1) or low (0). This is useful for reading sensors, switches, buttons, etc. GPIO pins can be used to send digital signals, which can be either high (1) or low (0). This is useful for controlling LEDs, relays, transistors, etc.\n",
    "First we defined GPIO pins for controlling the motors. Then we started defining the PWM frequency\n"
   ]
  },
  {
   "cell_type": "markdown",
   "metadata": {},
   "source": [
    "# New DriveTrain Code\n",
    "What Changed: Adding the methods for moving forward, moving backward, turning right, and truning left."
   ]
  },
  {
   "cell_type": "code",
   "execution_count": null,
   "metadata": {
    "vscode": {
     "languageId": "java"
    }
   },
   "outputs": [],
   "source": [
    "import com.pi4j.io.gpio.*;\n",
    "import com.pi4j.wiringpi.Gpio;\n",
    "import com.pi4j.wiringpi.GpioUtil;\n",
    "\n",
    "public class RobotControl {\n",
    "\n",
    "    private static final Pin LEFT_FORWARD_PIN = RaspiPin.GPIO_00;\n",
    "    private static final Pin LEFT_BACKWARD_PIN = RaspiPin.GPIO_01;\n",
    "    private static final Pin RIGHT_FORWARD_PIN = RaspiPin.GPIO_02;\n",
    "    private static final Pin RIGHT_BACKWARD_PIN = RaspiPin.GPIO_03;\n",
    "    private static final int PWM_RANGE = 1000;\n",
    "    private static final int PWM_FREQUENCY = 100;\n",
    "    \n",
    "    private static GpioController gpio;\n",
    "    private static GpioPinPwmOutput leftForward;\n",
    "    private static GpioPinPwmOutput leftBackward;\n",
    "    private static GpioPinPwmOutput rightForward;\n",
    "    private static GpioPinPwmOutput rightBackward;\n",
    "\n",
    "    public static void initialize() {\n",
    "        gpio = GpioFactory.getInstance();\n",
    "        Gpio.pwmSetMode(Gpio.PWM_MODE_MS);\n",
    "        Gpio.pwmSetRange(PWM_RANGE);\n",
    "        Gpio.pwmSetClock(192);\n",
    "\n",
    "        leftForward = gpio.provisionPwmOutputPin(LEFT_FORWARD_PIN);\n",
    "        leftBackward = gpio.provisionPwmOutputPin(LEFT_BACKWARD_PIN);\n",
    "        rightForward = gpio.provisionPwmOutputPin(RIGHT_FORWARD_PIN);\n",
    "        rightBackward = gpio.provisionPwmOutputPin(RIGHT_BACKWARD_PIN);\n",
    "\n",
    "        leftForward.setPwm(0);\n",
    "        leftBackward.setPwm(0);\n",
    "        rightForward.setPwm(0);\n",
    "        rightBackward.setPwm(0);\n",
    "    }\n",
    "\n",
    "    public static void stop() {\n",
    "        leftForward.setPwm(0);\n",
    "        leftBackward.setPwm(0);\n",
    "        rightForward.setPwm(0);\n",
    "        rightBackward.setPwm(0);\n",
    "    }\n",
    "\n",
    "    public static void moveForward(int speed) {\n",
    "        leftForward.setPwm(speed);\n",
    "        rightForward.setPwm(speed);\n",
    "    }\n",
    "\n",
    "    public static void moveBackward(int speed) {\n",
    "        leftBackward.setPwm(speed);\n",
    "        rightBackward.setPwm(speed);\n",
    "    }\n",
    "\n",
    "    public static void turnLeft(int speed) {\n",
    "        leftBackward.setPwm(speed);\n",
    "        rightForward.setPwm(speed);\n",
    "    }\n",
    "\n",
    "    public static void turnRight(int speed) {\n",
    "        leftForward.setPwm(speed);\n",
    "        rightBackward.setPwm(speed);\n",
    "    }\n",
    "\n",
    "    public static void cleanup() {\n",
    "        gpio.shutdown();\n",
    "    }\n",
    "\n",
    "    public static void main(String[] args) {\n",
    "        initialize();\n",
    "\n",
    "        // Move forward at speed 500 for 2 seconds\n",
    "        moveForward(500);\n",
    "        try {\n",
    "            Thread.sleep(2000);\n",
    "        } catch (InterruptedException e) {\n",
    "            e.printStackTrace();\n",
    "        }\n",
    "        stop();\n",
    "\n",
    "        cleanup();\n",
    "    }\n",
    "}\n"
   ]
  },
  {
   "cell_type": "markdown",
   "metadata": {},
   "source": [
    "Summary of the Code"
   ]
  }
 ],
 "metadata": {
  "language_info": {
   "name": "python"
  }
 },
 "nbformat": 4,
 "nbformat_minor": 2
}
