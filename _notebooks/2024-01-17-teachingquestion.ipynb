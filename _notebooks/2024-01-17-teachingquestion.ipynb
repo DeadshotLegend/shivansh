{
 "cells": [
  {
   "cell_type": "markdown",
   "metadata": {},
   "source": [
    "---\n",
    "toc: true\n",
    "comments: true\n",
    "layout: post\n",
    "title: Question 37\n",
    "description: Backup Plan Idea Criteria and Segments\n",
    "type: hacks\n",
    "courses: { csa:c {week: 18} }\n",
    "authors: Shivansh Goel\n",
    "---"
   ]
  },
  {
   "cell_type": "markdown",
   "metadata": {},
   "source": [
    "Q37 concatWords method with String array(focus: for, while, length, speed),\n",
    "![Screenshot]({{ site.baseurl }}/images/question37collegeboard.JPG)\n",
    "\n"
   ]
  },
  {
   "cell_type": "code",
   "execution_count": null,
   "metadata": {},
   "outputs": [],
   "source": [
    "for (int k = startIndex)\n",
    "The following three code segments have been proposed as replacements for / * missing code * /.\n",
    "\n",
    "Three code segments. The first segment has 4 lines of code that read as follows.  Line 1: for, open parenthesis, int k equals start Index, semicolon, k less than words, dot, length, semicolon, k, plus, plus, close parenthesis. Line 2: open brace. Line 3: result, plus, equals, words, open square bracket, k, close square bracket, plus words, open square bracket, words, dot, length minus k minus 1, close square bracket, semicolon. Line 4: close brace.\n",
    "The second segment has 6 lines of code that read as follows.  Line 1: int k equals words, dot, length minus 1, semicolon. Line 2: while, open parenthesis, k greater than or equal to start Index, close parenthesis. Line 3: open brace. Line 4: result, plus, equals, words, open square bracket, k, close square bracket, semicolon. Line 5: k, minus, minus, semicolon. Line 6: close brace.\n",
    "The third segment has 11 lines of code that read as follows.  Line 1: String, open square bracket, close square bracket, temp equals new String, open square bracket, words, dot, length, close square bracket, semicolon. Line 2: for, open parenthesis, int k equals 0, semicolon, k less than equals words, dot, length, forward slash, 2, semicolon, k, plus, plus, close parenthesis. Line 3: open brace. Line 4: temp, open square bracket, k, close square bracket, equals, words, open square bracket, words, dot, length minus k minus 1, close square bracket, semicolon. Line 5: temp, open square bracket, words, dot, length minus k minus 1, close square bracket, equals words, open square bracket, k, close square bracket, semicolon. Line 6: close brace. Line 7: blank. Line 8: for, open parenthesis, int k equals 0, semicolon, k less than temp, dot, length minus start Index, semicolon, k, plus, plus, close parenthesis. Line 9: open brace. Line 10: result plus equals temp, open square bracket, k, close square bracket, semicolon. Line 11: close brace."
   ]
  }
 ],
 "metadata": {
  "kernelspec": {
   "display_name": "Java",
   "language": "java",
   "name": "java"
  },
  "language_info": {
   "name": "java"
  }
 },
 "nbformat": 4,
 "nbformat_minor": 2
}
