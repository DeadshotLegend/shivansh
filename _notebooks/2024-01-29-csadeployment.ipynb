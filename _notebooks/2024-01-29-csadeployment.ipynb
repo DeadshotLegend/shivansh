{
 "cells": [
  {
   "cell_type": "markdown",
   "metadata": {},
   "source": [
    "# CSA Deployment Quiz\n",
    "Show JWT signup and/or login process\n",
    "\n",
    "There is something called a proxy pass ina reverse configuration proxy file"
   ]
  }
 ],
 "metadata": {
  "kernelspec": {
   "display_name": "Java",
   "language": "java",
   "name": "java"
  },
  "language_info": {
   "name": "java"
  }
 },
 "nbformat": 4,
 "nbformat_minor": 2
}
