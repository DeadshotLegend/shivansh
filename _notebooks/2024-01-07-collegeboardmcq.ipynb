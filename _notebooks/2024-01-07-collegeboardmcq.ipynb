{
 "cells": [
  {
   "cell_type": "markdown",
   "metadata": {},
   "source": [
    "# CollegeBoard MCQ"
   ]
  },
  {
   "cell_type": "markdown",
   "metadata": {},
   "source": [
    "# Screenshot of Collegeboard MCQ\n",
    "![Screenshot]({{ site.baseurl }}/images/2015practiceexammcq.JPG)\n",
    "\n",
    "## Basis Overview\n",
    "I did very good with the topics of Using Objects, Boolean Expressions and If Statements, Iteration, Writing classes, Array, ArrayLists, 2D Array, Inheritance, and Recursion. I feel like my use of projects has helped me get used to interacting with Using Objects, and Inheritance. The different lessons that were presented in class helped me get used to Iteration, Recursion, Array, and ArrayLists.\n",
    "\n",
    "The topic which I didn't meet was Primitive Types."
   ]
  },
  {
   "cell_type": "markdown",
   "metadata": {},
   "source": [
    "# Question 11"
   ]
  },
  {
   "cell_type": "code",
   "execution_count": null,
   "metadata": {},
   "outputs": [],
   "source": []
  }
 ],
 "metadata": {
  "kernelspec": {
   "display_name": "Java",
   "language": "java",
   "name": "java"
  },
  "language_info": {
   "name": "java"
  }
 },
 "nbformat": 4,
 "nbformat_minor": 2
}
