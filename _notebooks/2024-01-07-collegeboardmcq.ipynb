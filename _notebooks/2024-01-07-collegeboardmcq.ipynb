{
 "cells": [
  {
   "cell_type": "markdown",
   "metadata": {},
   "source": [
    "---\n",
    "toc: true\n",
    "comments: true\n",
    "layout: post\n",
    "title: Colleboard MCQ Blog\n",
    "description: Review on Collegeboared MCQ\n",
    "type: hacks\n",
    "courses: { csa: {week: 17} }\n",
    "authors: Shivansh Goel\n",
    "---"
   ]
  },
  {
   "cell_type": "markdown",
   "metadata": {},
   "source": [
    "# Screenshot of Collegeboard MCQ\n",
    "![Screenshot]({{ site.baseurl }}/images/2015practiceexammcq.JPG)\n",
    "\n",
    "## Basis Overview\n",
    "I did very good with the topics of Using Objects, Boolean Expressions and If Statements, Iteration, Writing classes, Array, ArrayLists, 2D Array, Inheritance, and Recursion. I feel like my use of projects has helped me get used to interacting with Using Objects, and Inheritance. The different lessons that were presented in class helped me get used to Iteration, Recursion, Array, and ArrayLists.\n",
    "\n",
    "The topic which I didn't meet was Primitive Types."
   ]
  },
  {
   "cell_type": "code",
   "execution_count": 3,
   "metadata": {},
   "outputs": [
    {
     "name": "stdout",
     "output_type": "stream",
     "text": [
      "true\n"
     ]
    },
    {
     "name": "stdout",
     "output_type": "stream",
     "text": [
      "10\n"
     ]
    }
   ],
   "source": [
    "boolean data1 = true;\n",
    "System.out.println(data1);\n",
    "int data2 = 10;\n",
    "System.out.println(data2);"
   ]
  },
  {
   "cell_type": "markdown",
   "metadata": {},
   "source": [
    "## Question 18\n",
    "![Screenshot]({{ site.baseurl }}/images/questionigotwrong.JPG)\n",
    "\n",
    "This is the only question that I got wrong in the collegeboard MCQ quiz, and this was a mistake in order of operations and mathematics. I understood all the math symbols and tried to attmept the problem but I got it wrong. Now lookiong back at it, I think that this mistake could have been avoided with multiple rechecks and reviewing the problem multiple times."
   ]
  },
  {
   "cell_type": "code",
   "execution_count": 1,
   "metadata": {},
   "outputs": [
    {
     "name": "stdout",
     "output_type": "stream",
     "text": [
      "401\n"
     ]
    }
   ],
   "source": [
    "System.out.println(404/ 10 * 10 + 1);"
   ]
  },
  {
   "cell_type": "markdown",
   "metadata": {},
   "source": [
    "## Question 11\n",
    "![Screenshot]({{ site.baseurl }}/images/question11collegeboard.JPG)\n",
    "\n",
    "This question took exceptiopnally long for me because at the time I didn't work with boolean methods and this question really stumped me. To get better understanding of the question I went online and researched different boolean methods and various methods which take in String paramters. Eventually I was able to solve the problem and get the correct answer.\n"
   ]
  },
  {
   "cell_type": "markdown",
   "metadata": {},
   "source": [
    "### Reflection\n",
    "Learning boolea"
   ]
  },
  {
   "cell_type": "markdown",
   "metadata": {},
   "source": [
    "## Question 12\n",
    "![Screenshot]({{ site.baseurl }}/images/question12collegeboard.JPG)\n",
    "\n",
    "This question is extremely complicated for me since I was not very well versed with booleans and especially compound booleans with two different variables, x and y. I spent a lot of time researching how compound booleans work and spent a lot of time on the internet learning how to solve compound boolean problems. In the end, not only did I get the answer correct but got a better overall understanding of using compound booleans which can be used in later projects."
   ]
  },
  {
   "cell_type": "markdown",
   "metadata": {},
   "source": [
    "## Practice\n",
    "\n",
    "To Practice I did an AP Practice Problem online. The problem was about compound booleans and predict the output of the code. I predicted \"First\" and \"Second\", which helped me practice for the actual problem on the Collegeboard Quiz."
   ]
  },
  {
   "cell_type": "code",
   "execution_count": 4,
   "metadata": {},
   "outputs": [
    {
     "name": "stdout",
     "output_type": "stream",
     "text": [
      "First Second "
     ]
    }
   ],
   "source": [
    "int x = 10;\n",
    "int y = 5;\n",
    "\n",
    "if (x % 2 == 0 && y % 2 == 0 || x > y)\n",
    "{\n",
    "    System.out.print(\"First \");\n",
    "\n",
    "    if (y * 2 == x || y > 5 && x <= 10)\n",
    "    {\n",
    "       System.out.print(\"Second \");\n",
    "    }\n",
    "    else\n",
    "    {\n",
    "       System.out.print(\"Third \");\n",
    "    }\n",
    "}"
   ]
  },
  {
   "cell_type": "markdown",
   "metadata": {},
   "source": [
    "## Question 35\n",
    "![Screenshot]({{ site.baseurl }}/images/question35collegeboard.JPG)\n",
    "\n",
    "This was the haredest question for me in the entire collegeboard mcq quiz, because I was not well versed in binary search. Also iteration on binary search was something that I only did once in a lesson and I still wasn't very comfortable with doing it as I haven't implemented it within other projects. \n"
   ]
  },
  {
   "cell_type": "code",
   "execution_count": 6,
   "metadata": {},
   "outputs": [
    {
     "name": "stdout",
     "output_type": "stream",
     "text": [
      "Element is present at index 3\n"
     ]
    }
   ],
   "source": [
    "// Java implementation of iterative Binary Search\n",
    " \n",
    "import java.io.*;\n",
    " \n",
    "class BinarySearch {\n",
    "   \n",
    "    // Returns index of x if it is present in arr[].\n",
    "    int binarySearch(int arr[], int x)\n",
    "    {\n",
    "        int l = 0, r = arr.length - 1;\n",
    "        while (l <= r) {\n",
    "            int m = l + (r - l) / 2;\n",
    " \n",
    "            // Check if x is present at mid\n",
    "            if (arr[m] == x)\n",
    "                return m;\n",
    " \n",
    "            // If x greater, ignore left half\n",
    "            if (arr[m] < x)\n",
    "                l = m + 1;\n",
    " \n",
    "            // If x is smaller, ignore right half\n",
    "            else\n",
    "                r = m - 1;\n",
    "        }\n",
    " \n",
    "        // If we reach here, then element was\n",
    "        // not present\n",
    "        return -1;\n",
    "    }\n",
    " \n",
    "    // Driver code\n",
    "    public static void main(String args[])\n",
    "    {\n",
    "        BinarySearch ob = new BinarySearch();\n",
    "        int arr[] = { 2, 3, 4, 10, 40 };\n",
    "        int n = arr.length;\n",
    "        int x = 10;\n",
    "        int result = ob.binarySearch(arr, x);\n",
    "        if (result == -1)\n",
    "            System.out.println(\n",
    "                \"Element is not present in array\");\n",
    "        else\n",
    "            System.out.println(\"Element is present at \"\n",
    "                               + \"index \" + result);\n",
    "    }\n",
    "}\n",
    "BinarySearch.main(null);"
   ]
  }
 ],
 "metadata": {
  "kernelspec": {
   "display_name": "Java",
   "language": "java",
   "name": "java"
  },
  "language_info": {
   "codemirror_mode": "java",
   "file_extension": ".jshell",
   "mimetype": "text/x-java-source",
   "name": "java",
   "pygments_lexer": "java",
   "version": "17.0.9+9-Ubuntu-120.04"
  }
 },
 "nbformat": 4,
 "nbformat_minor": 2
}
