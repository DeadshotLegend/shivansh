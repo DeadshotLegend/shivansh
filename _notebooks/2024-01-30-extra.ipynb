{
 "cells": [
  {
   "cell_type": "code",
   "execution_count": null,
   "metadata": {},
   "outputs": [],
   "source": [
    "import org.springframework.context.annotation.Configuration;\n",
    "\n",
    "\n",
    "@Configuration\n",
    "public class SecurityConfig extends sample_class {\n",
    "\n",
    "    @Override\n",
    "    public void configure(HttpSecurity http) throws Exception {\n",
    "        http.csrf().disable()\n",
    "            .authorizeRequests()\n",
    "            .addFilter(new JwtAuthenticationFilter(authenticationManager()))\n",
    "            // Request Matcher for All Requests:\n",
    "            .antMatchers(\"/**\").permitAll();\n",
    "            //Request Matcher for Authentication\n",
    "            .antMatchers(\"/api/private/**\").authenticated();\n",
    "\n",
    "\n",
    "    }\n",
    "\n",
    "    private Object antMatchers(String string) {\n",
    "        // TODO Auto-generated method stub\n",
    "        throw new UnsupportedOperationException(\"Unimplemented method 'antMatchers'\");\n",
    "    }\n",
    "}\n"
   ]
  },
  {
   "cell_type": "code",
   "execution_count": null,
   "metadata": {},
   "outputs": [],
   "source": [
    "import org.springframework.context.annotation.Configuration;\n",
    "\n"
   ]
  },
  {
   "cell_type": "markdown",
   "metadata": {},
   "source": [
    "Coding Practice\n",
    "Calculate the final grade based on the following criteria:\n",
    "\n",
    "If the student didn’t complete homework, the grade is automatically “F.”\n",
    "If the student completed homework and the average of midterm and final exam scores is >= 70, the grade is “Pass.”\n",
    "Otherwise, the grade is “Fail.”"
   ]
  },
  {
   "cell_type": "code",
   "execution_count": 13,
   "metadata": {},
   "outputs": [
    {
     "name": "stdout",
     "output_type": "stream",
     "text": [
      " Enter your midterm score (0-100): \n"
     ]
    },
    {
     "name": "stdout",
     "output_type": "stream",
     "text": [
      "60\n",
      " Enter your final exam score (0-100): \n",
      "70\n",
      " Did you complete the homework (yes/no): \n",
      "yes\n",
      " Your final grade is: fail\n"
     ]
    }
   ],
   "source": [
    "import java.util.Scanner;\n",
    "\n",
    "public class GradeCalculator {\n",
    "    public static void main(String[] args) {\n",
    "        Scanner scanner = new Scanner(System.in);\n",
    "\n",
    "        System.out.print(\" Enter your midterm score (0-100): \\n\");\n",
    "        int midtermScore = scanner.nextInt();\n",
    "        System.out.print(midtermScore);\n",
    "\n",
    "        System.out.print(\"\\n Enter your final exam score (0-100): \\n\");\n",
    "        int finalExamScore = scanner.nextInt();\n",
    "        System.out.print(finalExamScore);\n",
    "\n",
    "        System.out.print(\"\\n Did you complete the homework (yes/no): \\n\");\n",
    "        String homeworkComplete = scanner.next().toLowerCase();\n",
    "        System.out.print(homeworkComplete);\n",
    "\n",
    "\n",
    "        // write code here\n",
    "        if (homeworkComplete.equals(\"no\")) {\n",
    "            System.out.println(\"\\n Your final grade is: \" + \"fail\");\n",
    "\n",
    "        } \n",
    "        else if(homeworkComplete.equals(\"yes\") && (finalExamScore + midtermScore)/2 >= 70){\n",
    "            System.out.println(\"\\n Your final grade is: \" + \"pass\");\n",
    "        }\n",
    "        else {\n",
    "            System.out.println(\"\\n Your final grade is: \" + \"fail\");\n",
    "        }\n",
    "\n",
    "\n",
    "        scanner.close();\n",
    "    }\n",
    "}\n",
    "\n",
    "GradeCalculator.main(null)"
   ]
  },
  {
   "cell_type": "code",
   "execution_count": null,
   "metadata": {},
   "outputs": [],
   "source": []
  }
 ],
 "metadata": {
  "kernelspec": {
   "display_name": "Java",
   "language": "java",
   "name": "java"
  },
  "language_info": {
   "codemirror_mode": "java",
   "file_extension": ".jshell",
   "mimetype": "text/x-java-source",
   "name": "java",
   "pygments_lexer": "java",
   "version": "17.0.9+9-Ubuntu-120.04"
  }
 },
 "nbformat": 4,
 "nbformat_minor": 2
}
