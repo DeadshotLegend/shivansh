{
 "cells": [
  {
   "cell_type": "markdown",
   "metadata": {},
   "source": [
    "---\n",
    "toc: true\n",
    "comments: true\n",
    "layout: post\n",
    "title: Question 1 2015 FRQ\n",
    "description: Question 1 2015 FRQ\n",
    "type: hacks\n",
    "courses: { csa: {week: 24} }\n",
    "authors: Shivansh Goel\n",
    "---"
   ]
  },
  {
   "cell_type": "markdown",
   "metadata": {},
   "source": [
    "### (a) Write a static method arraySum that calculates and returns the sum of the entries in a specified one-dimensional array. The following example shows an array arr1 and the value returned by a call to arraySum."
   ]
  },
  {
   "cell_type": "markdown",
   "metadata": {},
   "source": [
    "### Solution\n",
    "the arraySum method goes through each number in the list, adds them all together, and tells you the total sum of all the numbers."
   ]
  },
  {
   "cell_type": "code",
   "execution_count": 3,
   "metadata": {},
   "outputs": [
    {
     "name": "stdout",
     "output_type": "stream",
     "text": [
      "Sum of arr1: 16\n"
     ]
    }
   ],
   "source": [
    "public class ArrayUtils {\n",
    "    public static void main(String[] args) {\n",
    "        int[] arr1 = {1, 3, 2, 7, 3};\n",
    "        System.out.println(\"Sum of arr1: \" + arraySum(arr1));\n",
    "    }\n",
    "\n",
    "    public static int arraySum(int[] arr) {\n",
    "        int sum = 0;\n",
    "        for (int i = 0; i < arr.length; i++) {\n",
    "            sum += arr[i];\n",
    "        }\n",
    "        return sum;\n",
    "    }\n",
    "}\n",
    "\n",
    "ArrayUtils.main(null);"
   ]
  },
  {
   "cell_type": "markdown",
   "metadata": {},
   "source": [
    "### (b) Write a static method rowSums that calculates the sums of each of the rows in a given two-dimensional array and returns these sums in a one-dimensional array. The method has one parameter, a two-dimensional array arr2D of int values. The array is in row-major order: arr2D [ r ] [ c ] is the entry at row r and column c. The method returns a one-dimensional array with one entry for each row of arr2D such that each entry is the sum of the corresponding row in arr2D. As a reminder, each row of a two-dimensional array is a one-dimensional array."
   ]
  },
  {
   "cell_type": "markdown",
   "metadata": {},
   "source": [
    "### Solution\n",
    "I wanted to try a new way to iterate through a 2D Array instead of the traditional method, so I intorduced a new method getRowSum that calculates the sum of elements in a single row of the 2D array. The rowSums method then uses this getRowSum method to calculate and store the sums of all rows in the 2D array mat1. "
   ]
  },
  {
   "cell_type": "code",
   "execution_count": null,
   "metadata": {},
   "outputs": [],
   "source": [
    "public class ArrayUtils {\n",
    "    public static void main(String[] args) {\n",
    "        // Define a 2D array \n",
    "        int[][] mat1 = {\n",
    "            {1, 3, 2, 7, 3},\n",
    "            {10, 10, 4, 6, 2},\n",
    "            {5, 3, 5, 9, 6},\n",
    "            {7, 6, 4, 2, 1}\n",
    "        };\n",
    "\n",
    "        // Testing rowSums method\n",
    "        // Call the rowSums method with mat1 as argument and store the returned array\n",
    "        int[] sums = rowSums(mat1);\n",
    "        \n",
    "        // Print a message indicating that row sums are being printed\n",
    "        System.out.println(\"Row sums:\");\n",
    "        \n",
    "        // Loop through each element in the sums array and print it\n",
    "        for (int sum : sums) {\n",
    "            System.out.println(sum);\n",
    "        }\n",
    "    }\n",
    "\n",
    "    // Method to calculate row sums of a 2D array\n",
    "    public static int[] rowSums(int[][] arr2D) {\n",
    "        // Get the number of rows in the input 2D array\n",
    "        int rowCount = arr2D.length;\n",
    "        \n",
    "        // Create a new integer array to store row sums with the same\n",
    "        // length as the number of rows\n",
    "        int[] sums = new int[rowCount];\n",
    "\n",
    "        // Loop through each row of the 2D array\n",
    "        for (int i = 0; i < rowCount; i++) {\n",
    "            // Calculate the sum of the current row using the getRowSum method and store it in sums array\n",
    "            sums[i] = getRowSum(arr2D[i]);\n",
    "        }\n",
    "\n",
    "        // Return the array containing row sums\n",
    "        return sums;\n",
    "    }\n",
    "\n",
    "    // Method to calculate the sum of elements in a 1D array (row)\n",
    "    public static int getRowSum(int[] row) {\n",
    "        // Initialize a variable to store the sum of elements in the row\n",
    "        int sum = 0;\n",
    "        \n",
    "        // Loop through each element in the row\n",
    "        for (int num : row) {\n",
    "            // Add the current element to the sum\n",
    "            sum += num;\n",
    "        }\n",
    "        \n",
    "        // Return the sum of elements in the row\n",
    "        return sum;\n",
    "    }\n",
    "}\n"
   ]
  },
  {
   "cell_type": "markdown",
   "metadata": {},
   "source": [
    "### (c) A two-dimensional array is diverse if no two of its rows have entries that sum to the same value. In the following examples, the array mat1 is diverse because each row sum is different, but the array mat2 is not diverse because the first and last rows have the same sum."
   ]
  },
  {
   "cell_type": "markdown",
   "metadata": {},
   "source": [
    "### Solution\n",
    "the code checks if each row in a given 2D array has a unique sum of its elements. If all rows have unique sums, the array is considered diverse, and the method returns true. Otherwise, if any row has a sum that's the same as another row, the array is not diverse, and the method returns false. The main method uses this method to determine whether two specific 2D arrays are diverse or not and prints the result accordingly.\n"
   ]
  },
  {
   "cell_type": "code",
   "execution_count": null,
   "metadata": {},
   "outputs": [],
   "source": [
    "import java.util.HashSet;\n",
    "import java.util.Set;\n",
    "\n",
    "public class Main {\n",
    "    public static void main(String[] args) {\n",
    "        int[][] mat1 = {\n",
    "            {1, 3, 2, 7, 3},\n",
    "            {10, 10, 4, 6, 2},\n",
    "            {5, 3, 5, 9, 6},\n",
    "            {7, 6, 4, 2, 1}\n",
    "        };\n",
    "\n",
    "        int[][] mat2 = {\n",
    "            {1, 1, 5, 3, 4},\n",
    "            {12, 7, 6, 1, 9},\n",
    "            {8, 11, 10, 2, 5},\n",
    "            {3, 2, 3, 0, 6}\n",
    "        };\n",
    "\n",
    "        System.out.println(\"mat1 is...\");\n",
    "        System.out.println(\"diverse? \" + isDiverse(mat1)); // should be true for mat1\n",
    "        System.out.println(\"mat2 is...\");\n",
    "        System.out.println(\"diverse? \" + isDiverse(mat2)); // should be true for mat2\n",
    "    }\n",
    "// The method iterates through each row of the input 2D array using \n",
    "// an enhanced for loop (for (int[] row : arr2D)).\n",
    "    public static boolean isDiverse(int[][] arr2D) { \n",
    "        Set<Integer> set = new HashSet<>(); // set to store unique row sums\n",
    "        for (int[] row : arr2D) {\n",
    "            int sum = 0;\n",
    "// It iterates through each element of the row using another enhanced \n",
    "// for loop (for (int num : row)) and adds each element to sum.\n",
    "            for (int num : row) {\n",
    "                sum += num; // calculate row sum\n",
    "            }\n",
    "            if (!set.add(sum)) { // if sum not added to set, not unique\n",
    "                return false; \n",
    "//After calculating the sum of elements in the current row, it checks\n",
    "//whether this sum is already present in the set using the set.add(sum) method.\n",
    "\n",
    "            }\n",
    "        }\n",
    "        return true; // if all row sums are unique, array is diverse\n",
    "    }\n",
    "}\n"
   ]
  },
  {
   "cell_type": "markdown",
   "metadata": {},
   "source": [
    "### Reflection and Key Learnings\n",
    "This exercise reinforced my understanding of working with 2D arrays in Java. In the provided code, mat1 and mat2 are 2D arrays of integers, each representing a matrix. Manipulating and iterating over 2D arrays is a fundamental skill in Java programming, and this exercise provided an opportunity to practice it. Another thing was The use of the HashSet data structure in the isDiverse method demonstrated the importance of selecting the appropriate data structure for the task at hand. In this case, a HashSet was chosen to efficiently store unique row sums. This choice allowed for constant-time insertion and lookup operations, ensuring an efficient solution to the problem of checking array diversity. Lastly, overall my algorithmic thinking has deeply increased for example: the problem of determining whether a 2D array is diverse requires algorithmic thinking. The isDiverse method employs a simple algorithm to iterate over each row of the array, calculate the sum of its elements, and check if the sum is unique using a set. This exercise encouraged me to think algorithmically and develop a solution to the problem using basic programming constructs.\n"
   ]
  }
 ],
 "metadata": {
  "kernelspec": {
   "display_name": "Java",
   "language": "java",
   "name": "java"
  },
  "language_info": {
   "codemirror_mode": "java",
   "file_extension": ".jshell",
   "mimetype": "text/x-java-source",
   "name": "java",
   "pygments_lexer": "java",
   "version": "17.0.9+9-Ubuntu-120.04"
  }
 },
 "nbformat": 4,
 "nbformat_minor": 2
}
