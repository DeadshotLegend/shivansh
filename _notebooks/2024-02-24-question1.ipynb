{
 "cells": [
  {
   "cell_type": "markdown",
   "metadata": {},
   "source": [
    "---\n",
    "toc: true\n",
    "comments: true\n",
    "layout: post\n",
    "title: Question 1 2015 FRQ\n",
    "description: Question 1 2015 FRQ\n",
    "type: hacks\n",
    "courses: { csa: {week: 21} }\n",
    "authors: Shivansh Goel\n",
    "---"
   ]
  },
  {
   "cell_type": "markdown",
   "metadata": {},
   "source": [
    "### (a) Write a static method arraySum that calculates and returns the sum of the entries in a specified one-dimensional array. The following example shows an array arr1 and the value returned by a call to arraySum."
   ]
  },
  {
   "cell_type": "markdown",
   "metadata": {},
   "source": [
    "### Solution\n",
    "the arraySum method goes through each number in the list, adds them all together, and tells you the total sum of all the numbers."
   ]
  },
  {
   "cell_type": "code",
   "execution_count": 3,
   "metadata": {
    "vscode": {
     "languageId": "java"
    }
   },
   "outputs": [
    {
     "name": "stdout",
     "output_type": "stream",
     "text": [
      "Sum of arr1: 16\n"
     ]
    }
   ],
   "source": [
    "public class ArrayUtils {\n",
    "    public static void main(String[] args) {\n",
    "        int[] arr1 = {1, 3, 2, 7, 3};\n",
    "        System.out.println(\"Sum of arr1: \" + arraySum(arr1));\n",
    "    }\n",
    "\n",
    "    public static int arraySum(int[] arr) {\n",
    "        int sum = 0;\n",
    "        for (int i = 0; i < arr.length; i++) {\n",
    "            sum += arr[i];\n",
    "        }\n",
    "        return sum;\n",
    "    }\n",
    "}\n",
    "\n",
    "ArrayUtils.main(null);"
   ]
  },
  {
   "cell_type": "markdown",
   "metadata": {},
   "source": [
    "### (b) Write a static method rowSums that calculates the sums of each of the rows in a given two-dimensional array and returns these sums in a one-dimensional array. The method has one parameter, a two-dimensional array arr2D of int values. The array is in row-major order: arr2D [ r ] [ c ] is the entry at row r and column c. The method returns a one-dimensional array with one entry for each row of arr2D such that each entry is the sum of the corresponding row in arr2D. As a reminder, each row of a two-dimensional array is a one-dimensional array."
   ]
  },
  {
   "cell_type": "markdown",
   "metadata": {},
   "source": [
    "### Solution\n",
    "I wanted to try a new way to iterate through a 2D Array instead of the traditional method, so I intorduced a new method getRowSum that calculates the sum of elements in a single row of the 2D array. The rowSums method then uses this getRowSum method to calculate and store the sums of all rows in the 2D array mat1. "
   ]
  },
  {
   "cell_type": "code",
   "execution_count": null,
   "metadata": {
    "vscode": {
     "languageId": "java"
    }
   },
   "outputs": [],
   "source": [
    "public class ArrayUtils {\n",
    "    public static void main(String[] args) {\n",
    "        int[][] mat1 = {\n",
    "            {1, 3, 2, 7, 3},\n",
    "            {10, 10, 4, 6, 2},\n",
    "            {5, 3, 5, 9, 6},\n",
    "            {7, 6, 4, 2, 1}\n",
    "        };\n",
    "\n",
    "        // Testing rowSums method\n",
    "        int[] sums = rowSums(mat1);\n",
    "        System.out.println(\"Row sums:\");\n",
    "        for (int sum : sums) {\n",
    "            System.out.println(sum);\n",
    "        }\n",
    "    }\n",
    "\n",
    "    public static int[] rowSums(int[][] arr2D) {\n",
    "        int rowCount = arr2D.length;\n",
    "        int[] sums = new int[rowCount];\n",
    "\n",
    "        for (int i = 0; i < rowCount; i++) {\n",
    "            sums[i] = getRowSum(arr2D[i]);\n",
    "        }\n",
    "\n",
    "        return sums;\n",
    "    }\n",
    "\n",
    "    public static int getRowSum(int[] row) {\n",
    "        int sum = 0;\n",
    "        for (int num : row) {\n",
    "            sum += num;\n",
    "        }\n",
    "        return sum;\n",
    "    }\n",
    "}"
   ]
  }
 ],
 "metadata": {
  "kernelspec": {
   "display_name": "Java",
   "language": "java",
   "name": "java"
  },
  "language_info": {
   "codemirror_mode": "java",
   "file_extension": ".jshell",
   "mimetype": "text/x-java-source",
   "name": "Java",
   "pygments_lexer": "java",
   "version": "17.0.9+9-Ubuntu-120.04"
  }
 },
 "nbformat": 4,
 "nbformat_minor": 2
}
