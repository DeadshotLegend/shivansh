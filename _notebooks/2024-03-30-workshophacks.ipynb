{
 "cells": [
  {
   "cell_type": "markdown",
   "metadata": {},
   "source": [
    "---\n",
    "toc: true\n",
    "comments: true\n",
    "layout: post\n",
    "title: Workshop 1 and 2 FRQ Hacks\n",
    "description: Workshop 1 and 2 FRQ Hacks\n",
    "type: hacks\n",
    "courses: { csa: {week: 28} }\n",
    "authors: Shivansh Goel\n",
    "---"
   ]
  },
  {
   "cell_type": "markdown",
   "metadata": {},
   "source": [
    "Question 1: Primitive Types vs Reference Types (Unit 1)\n",
    "\n",
    "\n",
    "Situation: You are developing a banking application where you need to represent customer information. You have decided to use both primitive types and reference types for this purpose.\n",
    "\n",
    "(a) Define primitive types and reference types in Java. Provide examples of each.\n",
    "\n",
    "Primitive types in Java are the basic data types provided by the language itself. They hold simple values and are not objects. Examples include int, double, boolean, char, etc.\n",
    "\n",
    "(b) Explain the differences between primitive types and reference types in terms of memory allocation and usage in Java programs.\n",
    "\n",
    "Reference types, on the other hand, are complex data types that are defined by classes in Java. They hold references (memory addresses) to objects stored in the heap memory. Examples include objects of classes like String, ArrayList, Customer, etc. Primitive types are allocated memory on the stack, and their values are stored directly. Reference types are allocated memory on the heap, and variables of reference types hold references (memory addresses) to the actual objects stored in the heap.\n",
    "Primitive types are used for simple data storage and manipulation. Reference types are used to represent complex objects and enable more sophisticated behavior through methods and inheritance.\n",
    "\n",
    "(c) Code:\n",
    "\n",
    "You have a method `calculateInterest` that takes a primitive `double` type representing the principal amount and a reference type `Customer` representing the customer information. Write  the method signature and the method implementation. Include comments to explain your code.\n"
   ]
  },
  {
   "cell_type": "code",
   "execution_count": null,
   "metadata": {},
   "outputs": [],
   "source": [
    "public class BankingApplication{\n",
    "    \n",
    "    public void calculateInterest(){\n",
    "\n",
    "    }\n",
    "}"
   ]
  },
  {
   "cell_type": "code",
   "execution_count": 1,
   "metadata": {},
   "outputs": [
    {
     "name": "stdout",
     "output_type": "stream",
     "text": [
      "Interest calculated: 50.0\n"
     ]
    }
   ],
   "source": [
    "public class BankingApplication {\n",
    "    \n",
    "    // Customer class representing customer information\n",
    "    public class Customer {\n",
    "        private String name;\n",
    "        private int age;\n",
    "        private double interestRate; // Assuming this is the interest rate associated with the customer\n",
    "\n",
    "        // Constructor for Customer Class\n",
    "        public Customer(String name, int age, double interestRate) {\n",
    "            this.name = name;\n",
    "            this.age = age;\n",
    "            this.interestRate = interestRate;\n",
    "        }\n",
    "\n",
    "        // Getter for interest rate\n",
    "        public double getInterestRate() {\n",
    "            return interestRate;\n",
    "        }\n",
    "    }\n",
    "\n",
    "    // Method signature\n",
    "    public void calculateInterest(double principal, Customer customer) {\n",
    "        // Method implementation\n",
    "        // Perform calculations based on principal and customer information\n",
    "        double interestRate = customer.getInterestRate();\n",
    "        double interest = principal * interestRate;\n",
    "\n",
    "        // Display the calculated interest\n",
    "        System.out.println(\"Interest calculated: \" + interest);\n",
    "    }\n",
    "\n",
    "    // Main method for testing\n",
    "    public static void main(String[] args) {\n",
    "        // Create an instance of BankingApplication\n",
    "        BankingApplication bankingApp = new BankingApplication();\n",
    "\n",
    "        // Create a Customer object\n",
    "        Customer customer = bankingApp.new Customer(\"John Doe\", 35, 0.05); // Example values for name, age, and interest rate\n",
    "\n",
    "        // Call the calculateInterest method\n",
    "        bankingApp.calculateInterest(1000.0, customer); // Example principal amount\n",
    "    }\n",
    "}\n",
    "BankingApplication.main(null);\n"
   ]
  },
  {
   "cell_type": "markdown",
   "metadata": {},
   "source": [
    "Question 2: Iteration over 2D arrays (Unit 4)\n",
    "\n",
    "Situation: You are developing a game where you need to track player scores on a 2D grid representing levels and attempts.\n",
    "\n",
    "(a) Explain the concept of iteration over a 2D array in Java. Provide an example scenario where iterating over a 2D array is useful in a programming task.\n",
    "\n",
    "Iteration over a 2D array in Java involves traversing through each element of the array, row by row and column by column, to perform certain operations or access the values stored in the array. This process involves nested loops, where one loop iterates over the rows and another loop iterates over the columns.\n",
    "\n",
    "Example scenario:\n",
    "Suppose you are developing a program to calculate the average score of students in a classroom where each student has taken multiple exams. You store the scores in a 2D array where each row represents a student, and each column represents an exam. Iterating over this 2D array allows you to access each individual score and calculate the average score for each student or the average score for each exam across all students. This iteration is useful for statistical analysis or generating reports based on the exam scores.\n",
    "\n",
    "(b) Code:\n",
    "\n",
    "You need to implement a method `calculateTotalScore` that takes a 2D array `scores` of integers representing player scores and returns the sum of all the elements in the array. Write the method signature and the method implementation. Include comments to explain your code.\n",
    "\n",
    "---\n"
   ]
  },
  {
   "cell_type": "code",
   "execution_count": 8,
   "metadata": {},
   "outputs": [
    {
     "name": "stdout",
     "output_type": "stream",
     "text": [
      "Total score: 165\n"
     ]
    }
   ],
   "source": [
    "public class ScoreCalculator {\n",
    "\n",
    "    // Method signature\n",
    "    public int calculateTotalScore(int[][] scores) {\n",
    "        int totalScore = 0; // Initialize total score variable to store the sum\n",
    "\n",
    "        // Iterate over the 2D array to calculate the total score\n",
    "        for (int i = 0; i < scores.length; i++) {\n",
    "            for (int j = 0; j < scores[i].length; j++) {\n",
    "                totalScore += scores[i][j]; // Add each element to the total score\n",
    "            }\n",
    "        }\n",
    "\n",
    "        return totalScore; // Return the calculated total score\n",
    "    }\n",
    "\n",
    "    // Main method for testing\n",
    "    public static void main(String[] args) {\n",
    "        // Example 2D array of scores\n",
    "        int[][] scores = {\n",
    "            {10, 20, 30},\n",
    "            {15, 25, 35},\n",
    "            {5, 10, 15}\n",
    "        };\n",
    "\n",
    "        // Create an instance of ScoreCalculator\n",
    "        ScoreCalculator calculator = new ScoreCalculator();\n",
    "\n",
    "        // Call the calculateTotalScore method and print the result\n",
    "        int totalScore = calculator.calculateTotalScore(scores);\n",
    "        System.out.println(\"Total score: \" + totalScore);\n",
    "    }\n",
    "}\n",
    "\n",
    "ScoreCalculator.main(null);\n"
   ]
  },
  {
   "cell_type": "markdown",
   "metadata": {},
   "source": [
    "Question 3: ArrayList (Unit 6)\n",
    "\n",
    "Situation: You are developing a student management system where you need to store and analyze the grades of students in a class.\n",
    "\n",
    "(a) Define an arrayList in Java. Explain its significance and usefulness in programming.\n",
    "\n",
    "An ArrayList in Java is a dynamic array-like data structure provided by the Java Collections Framework. It implements the List interface and provides resizable arrays, which means the size of the ArrayList can be dynamically adjusted as elements are added or removed. Unlike regular arrays, ArrayLists can grow or shrink automatically to accommodate the changing number of elements.\n",
    "\n",
    "\n",
    "\n",
    "(b) Code:\n",
    "\n",
    "You need to implement a method `calculateAverageGrade` that takes an arrayList `grades` of integers representing student grades and returns the average of all the elements in the arrayList. Write the method signature and the method implementation. Include comments to explain your code.\n",
    "\n"
   ]
  },
  {
   "cell_type": "code",
   "execution_count": 1,
   "metadata": {},
   "outputs": [
    {
     "name": "stdout",
     "output_type": "stream",
     "text": [
      "Average grade: 82.5\n"
     ]
    }
   ],
   "source": [
    "import java.util.ArrayList;\n",
    "\n",
    "public class GradeCalculator {\n",
    "\n",
    "    // Method signature\n",
    "    public double calculateAverageGrade(ArrayList<Integer> grades) {\n",
    "        if (grades.isEmpty()) {\n",
    "            return 0.0; // Return 0 if the ArrayList is empty to avoid division by zero\n",
    "        }\n",
    "\n",
    "        int sum = 0; // Initialize sum variable to store the total sum of grades\n",
    "\n",
    "        // Iterate over the ArrayList to calculate the sum of grades\n",
    "        for (int grade : grades) {\n",
    "            sum += grade;\n",
    "        }\n",
    "\n",
    "        // Calculate the average grade\n",
    "        double average = (double) sum / grades.size();\n",
    "\n",
    "        return average; // Return the calculated average\n",
    "    }\n",
    "\n",
    "    // Main method for testing\n",
    "    public static void main(String[] args) {\n",
    "        // Example ArrayList of grades\n",
    "        ArrayList<Integer> grades = new ArrayList<>();\n",
    "        grades.add(80);\n",
    "        grades.add(90);\n",
    "        grades.add(75);\n",
    "        grades.add(85);\n",
    "\n",
    "        // Create an instance of GradeCalculator\n",
    "        GradeCalculator calculator = new GradeCalculator();\n",
    "\n",
    "        // Call the calculateAverageGrade method and print the result\n",
    "        double averageGrade = calculator.calculateAverageGrade(grades);\n",
    "        System.out.println(\"Average grade: \" + averageGrade);\n",
    "    }\n",
    "}\n",
    "\n",
    "GradeCalculator.main(null);"
   ]
  }
 ],
 "metadata": {
  "kernelspec": {
   "display_name": "Java",
   "language": "java",
   "name": "java"
  },
  "language_info": {
   "codemirror_mode": "java",
   "file_extension": ".jshell",
   "mimetype": "text/x-java-source",
   "name": "java",
   "pygments_lexer": "java",
   "version": "17.0.9+9-Ubuntu-120.04"
  }
 },
 "nbformat": 4,
 "nbformat_minor": 2
}
