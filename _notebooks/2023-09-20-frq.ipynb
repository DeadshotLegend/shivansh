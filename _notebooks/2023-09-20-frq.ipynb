{
 "cells": [
  {
   "cell_type": "markdown",
   "metadata": {},
   "source": [
    "2016 FRQ Class\n",
    "Question 2: Hidden World Class"
   ]
  },
  {
   "cell_type": "code",
   "execution_count": 3,
   "metadata": {
    "vscode": {
     "languageId": "java"
    }
   },
   "outputs": [],
   "source": [
    "public class HiddenWord {\n",
    "\n",
    "private String secretWord;\n",
    "\n",
    "public HiddenWord(String word) {\n",
    "    secretWord = word;\n",
    "}\n",
    "\n",
    "public String getHint(String guess) {\n",
    "    StringBuilder hint = new StringBuilder();\n",
    "\n",
    "    for (int i = 0; i < guess.length(); i++) {\n",
    "        char guessChar = guess.charAt(i);\n",
    "        char secretChar = secretWord.charAt(i);\n",
    "\n",
    "        if (guessChar == secretChar)\n",
    "            hint.append(guessChar);\n",
    "        else if (secretWord.indexOf(guessChar) != -1)\n",
    "            hint.append(\"+\");\n",
    "        else\n",
    "            hint.append(\"*\");\n",
    "    }\n",
    "\n",
    "    return hint.toString();\n",
    "}\n",
    "}\n"
   ]
  },
  {
   "cell_type": "markdown",
   "metadata": {},
   "source": [
    "Class Definition:\n",
    "\n",
    "public class HiddenWord { ... }: This defines a class named HiddenWord.\n",
    "Instance Variable:\n",
    "\n",
    "private String secretWord;: This declares a private instance variable secretWord of type String. This variable will store the hidden word that the player needs to guess.\n",
    "Constructor:\n",
    "\n",
    "public HiddenWord(String word) { ... }: This is the class constructor. It takes a String parameter called word. When an instance of HiddenWord is created, this constructor is called to initialize the secretWord with the provided word.\n",
    "Method - getHint:\n",
    "\n",
    "public String getHint(String guess) { ... }: This is a method that takes a String parameter called guess and returns a String. It provides a hint based on the user's guess.\n",
    "Creating a StringBuilder:\n",
    "\n",
    "StringBuilder hint = new StringBuilder();: This line creates a StringBuilder named hint. A StringBuilder is a more efficient way to concatenate strings, especially in a loop.\n",
    "Loop through the Guess:\n",
    "\n",
    "for (int i = 0; i < guess.length(); i++) { ... }: This loop iterates over each character in the guess string.\n",
    "Accessing Characters:\n",
    "\n",
    "char guessChar = guess.charAt(i); and char secretChar = secretWord.charAt(i);: These lines retrieve the characters at the current position in both the guess and secretWord strings.\n",
    "Checking the Guess:\n",
    "\n",
    "if (guessChar == secretChar) { ... }: This checks if the character in guess matches the character in secretWord at the same position. If true, it appends the character to the hint.\n",
    "\n",
    "`else if (secretWord.indexOf(guessChar) != -1) { ... }: This checks if the\n",
    "\n"
   ]
  },
  {
   "cell_type": "code",
   "execution_count": null,
   "metadata": {
    "vscode": {
     "languageId": "java"
    }
   },
   "outputs": [],
   "source": []
  }
 ],
 "metadata": {
  "kernelspec": {
   "display_name": "Java",
   "language": "java",
   "name": "java"
  },
  "language_info": {
   "codemirror_mode": "java",
   "file_extension": ".jshell",
   "mimetype": "text/x-java-source",
   "name": "Java",
   "pygments_lexer": "java",
   "version": "11.0.17+8-post-Ubuntu-1ubuntu220.04"
  },
  "orig_nbformat": 4
 },
 "nbformat": 4,
 "nbformat_minor": 2
}
