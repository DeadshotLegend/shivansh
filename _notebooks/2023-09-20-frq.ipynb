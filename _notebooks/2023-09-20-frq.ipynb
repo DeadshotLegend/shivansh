{
 "cells": [
  {
   "cell_type": "markdown",
   "metadata": {},
   "source": [
    "---\n",
    "toc: true\n",
    "comments: true\n",
    "layout: post\n",
    "title: FRQ Hacks\n",
    "description: 2015 AP CSA FRQ Hack Classes\n",
    "courses: { csa: {week: 2} }\n",
    "type: hacks\n",
    "---"
   ]
  },
  {
   "cell_type": "markdown",
   "metadata": {},
   "source": [
    "2015 FRQ Class\n",
    "Question 2: Hidden Word Class"
   ]
  },
  {
   "cell_type": "markdown",
   "metadata": {},
   "source": [
    "### Easy Way to Lose Points\n",
    "1 point penalties:\n",
    "- Array/ArrayList Confusion\n",
    "- Extranneous Code that cuases side-effect\n",
    "- Local Vaiables that are used but not declared\n",
    "- Destruction of persistent data\n",
    "- Void Method or constructor that returns value"
   ]
  },
  {
   "cell_type": "markdown",
   "metadata": {},
   "source": [
    "### What they are looking for:\n",
    "- Uses Correct Class, constructor, and mehtod headers\n",
    "- Declares appropriate private instance variable\n",
    "- Initializes instance variable within constructor using paramter\n",
    "- Implement getHint\n",
    "- Access all letters in both guess and hidden word loop\n",
    "- Process letters within loop:\n",
    "- - Extracts and compares corresponding single letters from guess and hidden word\n",
    "- - Tests whether guess hidden letter is in same position in both guess\n",
    "- - Tests whether guess letter occurs in hidden word but not in same position as guess\n",
    "- - Adds correct character exactly once to the hint string based on the test result\n",
    "- Declares, initializes, and returns constructed hint string\n"
   ]
  },
  {
   "cell_type": "code",
   "execution_count": 3,
   "metadata": {},
   "outputs": [],
   "source": [
    "public class HiddenWord {\n",
    "// Defining the Class\n",
    "private String secretWord;\n",
    "// Private String variable\n",
    "public HiddenWord(String word) {\n",
    "    // Defining Class Constructor\n",
    "    // Taking String parameter callled word\n",
    "    // When an instance of HiddenWord is created, this constructor is called to initialize \n",
    "    // the secretWord with the provided word.\n",
    "    secretWord = word;\n",
    "}\n",
    "\n",
    "public String takeHint(String guess) {\n",
    "    // Creating a method \"takeHint\"\n",
    "    // This is a method that takes a String parameter called guess \n",
    "    // and returns a String. It provides a hint based on the user's guess.\n",
    "    StringBuilder hint = new StringBuilder();\n",
    "    // This line creates a StringBuilder named hint. \n",
    "    // A StringBuilder is a more efficient way to concatenate strings, especially in a loop.\n",
    "    for (int i = 0; i < guess.length(); i++) {\n",
    "        // This loop iterates over each character in the guess string.\n",
    "        char guessChar = guess.charAt(i);\n",
    "        char secretChar = secretWord.charAt(i);\n",
    "        //These lines retrieve the characters at the current position in both \n",
    "        // the guess and secretWord strings.\n",
    "        if (guessChar == secretChar)\n",
    "            hint.append(guessChar);\n",
    "        else if (secretWord.indexOf(guessChar) != -1)\n",
    "            hint.append(\"+\");\n",
    "        else\n",
    "            hint.append(\"*\");\n",
    "    }\n",
    "    //This checks if the character in guess matches the character in \n",
    "    // secretWord at the same position. If true, it appends the character to the hint.\n",
    "\n",
    "    return hint.toString();\n",
    "}\n",
    "}\n"
   ]
  },
  {
   "cell_type": "markdown",
   "metadata": {},
   "source": []
  },
  {
   "cell_type": "markdown",
   "metadata": {},
   "source": [
    "Class Definition:\n",
    "\n",
    "public class HiddenWord { ... }: This defines a class named HiddenWord.\n",
    "Instance Variable:\n",
    "\n",
    "private String secretWord;: This declares a private instance variable secretWord of type String. This variable will store the hidden word that the player needs to guess.\n",
    "Constructor:\n",
    "\n",
    "public HiddenWord(String word) { ... }: This is the class constructor. It takes a String parameter called word. When an instance of HiddenWord is created, this constructor is called to initialize the secretWord with the provided word.\n",
    "Method - takeHint:\n",
    "\n",
    "public String takeHint(String guess) { ... }: This is a method that takes a String parameter called guess and returns a String. It provides a hint based on the user's guess.\n",
    "Creating a StringBuilder:\n",
    "\n",
    "StringBuilder hint = new StringBuilder();: This line creates a StringBuilder named hint. A StringBuilder is a more efficient way to concatenate strings, especially in a loop.\n",
    "Loop through the Guess:\n",
    "\n",
    "for (int i = 0; i < guess.length(); i++) { ... }: This loop iterates over each character in the guess string.\n",
    "Accessing Characters:\n",
    "\n",
    "char guessChar = guess.charAt(i); and char secretChar = secretWord.charAt(i);: These lines retrieve the characters at the current position in both the guess and secretWord strings.\n",
    "Checking the Guess:\n",
    "\n",
    "if (guessChar == secretChar) { ... }: This checks if the character in guess matches the character in secretWord at the same position. If true, it appends the character to the hint.\n",
    "\n",
    "`else if (secretWord.indexOf(guessChar) != -1) { ... }: This checks if the\n",
    "\n"
   ]
  },
  {
   "cell_type": "code",
   "execution_count": null,
   "metadata": {},
   "outputs": [],
   "source": []
  }
 ],
 "metadata": {
  "kernelspec": {
   "display_name": "Java",
   "language": "java",
   "name": "java"
  },
  "language_info": {
   "codemirror_mode": "java",
   "file_extension": ".jshell",
   "mimetype": "text/x-java-source",
   "name": "java",
   "pygments_lexer": "java",
   "version": "11.0.17+8-post-Ubuntu-1ubuntu220.04"
  },
  "orig_nbformat": 4
 },
 "nbformat": 4,
 "nbformat_minor": 2
}
