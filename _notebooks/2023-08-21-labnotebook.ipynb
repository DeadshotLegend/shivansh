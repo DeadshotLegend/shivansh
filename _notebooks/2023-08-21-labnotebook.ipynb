{
 "cells": [
  {
   "cell_type": "markdown",
   "metadata": {},
   "source": [
    "---\n",
    "toc: true\n",
    "comments: true\n",
    "layout: post\n",
    "title: Lab Notebook\n",
    "description: Lab Notebook for Shivansh Goel APCSA\n",
    "courses: { csa: {week: 0} }\n",
    "type: hacks\n",
    "---"
   ]
  },
  {
   "cell_type": "markdown",
   "metadata": {},
   "source": [
    "# Record of Week 0 and 1 Hacks\n",
    "- Modified and personlaized index.md with informatin and a picture about myself\n",
    "- Changed style in config.yml and tested out a lot of idffernet themes and settled with midnight theme\n",
    "- Worked on Java Hello and Console Hacks, completing hacks for a \"rock, paper, scissors\" game\n",
    "- Added Commonly used Linux Commands to the Lab Notebook and created a Python Quiz About it\n",
    "- Added a \"Why I love my tools\" post which focused on github and vscode"
   ]
  },
  {
   "cell_type": "markdown",
   "metadata": {},
   "source": [
    "# Record of Week 2 Hacks\n",
    "- Worked on JS Output w/ jquery Hacks, where we used html and javascript tables to display information\n",
    "- Personalized tables from cars, to information about players in the NFL\n",
    "- Worked on styling HTML tables using W3 Schools\n",
    "- Worked on Lab Notebook Hacks for Week 1: IPYNB Table, Code"
   ]
  },
  {
   "attachments": {},
   "cell_type": "markdown",
   "metadata": {},
   "source": [
    "# Shivansh Goel Lab Notebook"
   ]
  },
  {
   "attachments": {},
   "cell_type": "markdown",
   "metadata": {},
   "source": [
    "### Linux Commands that we use Frequently\n",
    "\n",
    "ls - list all items in a directory\n",
    "\n",
    "cd - change directory\n",
    "\n",
    "mkdir - make directory\n",
    "\n",
    "sudo - enter admin priveleges\n",
    "\n",
    "code - enter into GUI (vscode) \n",
    "\n",
    "git clone - clones git repository into own \n",
    "\n",
    "cat - view a file"
   ]
  },
  {
   "cell_type": "code",
   "execution_count": 1,
   "metadata": {},
   "outputs": [
    {
     "name": "stdout",
     "output_type": "stream",
     "text": [
      "Hello, shivansh running /home/shivansh/anaconda3/bin/python\n",
      "You will be asked 7 questions.\n",
      "Are you ready to take a test! Press Enter key to begin. Best of luck :)\n",
      "Question 1 : What does the command 'ls' do\n",
      "list all items in a directoryh is incorrect! Better Luck next time.\n",
      "Question 2 : What does the command 'cd' do\n",
      "change directory is correct! Good Job!\n",
      "Question 3 : What does the command 'mkdir' do\n",
      "make directory is correct! Good Job!\n",
      "Question 4 : What does the command 'sudo' do\n",
      "enter admin priveleges is correct! Good Job!\n",
      "Question 5 : What does the command 'code' do\n",
      "enter into GUI (vscode) is correct! Good Job!\n",
      "Question 6 : What does the command 'git clone' do?\n",
      "clones git repsoitory into won computer is incorrect! Better Luck next time.\n",
      "Question 7 : What does the command 'cat' do\n",
      "views a file is correct! Good Job!\n",
      "shivansh you scored 5/7\n",
      "Total Percentage: 71.43%\n"
     ]
    }
   ],
   "source": [
    "import getpass, sys\n",
    "\n",
    "# method to display question and get user's answers\n",
    "def question_with_response(prompt, qCount):\n",
    "    print(\"Question \" + str(qCount)  + \" : \" + prompt)\n",
    "    msg = input()\n",
    "    return msg\n",
    "\n",
    "# dictionary to hold questions and answers as key : value pairs\n",
    "questionsDict = {\"What does the command 'ls' do\": \"list all items in a directory\",\n",
    "    \"What does the command 'cd' do\": \"change directory\", \n",
    "    \"What does the command 'mkdir' do\": \"make directory\",\n",
    "    \"What does the command 'sudo' do\": \"enter admin priveleges\",\n",
    "    \"What does the command 'code' do\": \"enter into GUI (vscode)\",\n",
    "    \"What does the command 'git clone' do?\": \"clones git repository into own computer\",\n",
    "    \"What does the command 'cat' do\": \"views a file\"\n",
    "}\n",
    "\n",
    "# number of questions as length of the dictionary\n",
    "questions = len(questionsDict)\n",
    "\n",
    "# set correct to 0\n",
    "correct = 0\n",
    "\n",
    "\n",
    "print('Hello, ' + getpass.getuser() + \" running \" + sys.executable)\n",
    "print(\"You will be asked \" + str(questions) + \" questions.\")\n",
    "print(\"Are you ready to take a test! Press Enter key to begin. Best of luck :)\")\n",
    "input()\n",
    "\n",
    "questionCount = 0\n",
    "# iterate over list of keys from the dictionary. pass dictionary key as question to the question_with_response function\n",
    "for key in questionsDict:\n",
    "    questionCount += 1\n",
    "    rsp = question_with_response(key, questionCount)\n",
    "    # compare the value from the dictionary to the user's input\n",
    "    if rsp.lower() == questionsDict[key].lower():\n",
    "        print(rsp + \" is correct! Good Job!\")\n",
    "        correct += 1\n",
    "    else:\n",
    "        print(rsp + \" is incorrect! Better Luck next time.\")\n",
    "\n",
    "# print final score    \n",
    "print(getpass.getuser() + \" you scored \" + str(correct) +\"/\" + str(questions))\n",
    "\n",
    "# calculate percentage\n",
    "page = correct/questions * 100\n",
    "\n",
    "# print percentage\n",
    "\n",
    "\n",
    "print(\"Total Percentage: \" + str (format(page,\".2f\")) + \"%\")"
   ]
  },
  {
   "cell_type": "markdown",
   "metadata": {},
   "source": [
    "### Notes for this Hack:\n",
    "A basic Review for Linux Commands which is important for basic function around the computer to access the different github repositories that I need to use for the class"
   ]
  },
  {
   "attachments": {},
   "cell_type": "markdown",
   "metadata": {},
   "source": [
    "### Basic Java Concepts\n",
    "\n",
    "method: In Java, a method is a block of code that performs a specific task or action.  \n",
    "\n",
    "main method: In java, a main method is the entry point when your run the java application.\n",
    "\n",
    "variables:\n"
   ]
  },
  {
   "cell_type": "markdown",
   "metadata": {},
   "source": [
    "### Java Hello Hacks"
   ]
  },
  {
   "cell_type": "code",
   "execution_count": 11,
   "metadata": {},
   "outputs": [],
   "source": [
    "// Hack 1: Explain Anatomy of a Class in comments of program (Diagram key parts of the class).\n",
    "// Hack 2: Comment in code where there is a definition of a Class and an instance of a Class (ie object)\n",
    "// Hack 3: Comment in code where there are constructors and highlight the signature difference in the signature\n",
    "//Hack 4: Call an object method with parameter (ie setters).\n",
    "// Definition of the class\n",
    "public class Person\n",
    "{\n",
    "    // body of the class\n",
    "    // Method of Class\n",
    "    public void information(int age, String email, double salary){\n",
    "        System.out.println(\"User is: \" + age + \"years old!\");\n",
    "        System.out.println(age);\n",
    "        System.out.println(email);\n",
    "        System.out.println(salary);\n",
    "    }\n",
    "    \n",
    "    public static void main(String[] args) {\n",
    "        // Instance of the Class\n",
    "        Person shivansh = new Person();\n",
    "        \n",
    "        // Calling an object method with parameters\n",
    "        shivansh.information(10, \"testing\", 20.5);\n",
    "    }\n",
    "    \n",
    "\n",
    "}"
   ]
  },
  {
   "cell_type": "markdown",
   "metadata": {},
   "source": [
    "### Java Hello Hacks Additional Requirements "
   ]
  },
  {
   "cell_type": "code",
   "execution_count": 21,
   "metadata": {},
   "outputs": [],
   "source": [
    "public class Class1 {\n",
    "\n",
    "    public void Person(String name, int age){\n",
    "        System.out.println(\"The name of the person is: \" + name + \"The age of the person is: \" + age);\n",
    "    }\n",
    "\n",
    "    public void Dessert(String type, int cost) {\n",
    "        System.out.println(\"The type of the dessert is: \" + type + \"The cost of the desert is: \" + cost);\n",
    "    }\n",
    "\n",
    "    public static void main(String[] args){\n",
    "        Person person1 = new Person(\"Person1\", 15);\n",
    "        Dessert dessert1 = new Dessert(\"Ice Cream\", 15);\n",
    "    }    \n",
    "\n",
    "}"
   ]
  },
  {
   "cell_type": "code",
   "execution_count": 17,
   "metadata": {},
   "outputs": [
    {
     "name": "stdout",
     "output_type": "stream",
     "text": [
      "2\n",
      "1\n",
      "3\n"
     ]
    }
   ],
   "source": [
    "import java.util.ArrayList; // import the ArrayList class\n",
    "\n",
    "// Go through progression of understanding a Static Class. Build a purposeful static Class, no Objects.\n",
    "    \n",
    "// Calculate stats functions on an array of values: mean, median, mode.\n",
    "ArrayList<Integer> numbers = new ArrayList<Integer>();\n",
    "numbers.add(1);\n",
    "numbers.add(2);\n",
    "numbers.add(2);\n",
    "numbers.add(3);\n",
    "numbers.add(3);\n",
    "numbers.add(4);\n",
    "numbers.add(4);\n",
    "numbers.add(5);\n",
    "// Getting speciifc values from the ArrayList\n",
    "int x = numbers.get(1);\n",
    "System.out.println(x);\n",
    "System.out.println(numbers.get(0));\n",
    "// Calculating Mean from ArrayList\n",
    "int y = numbers.get(0) + numbers.get(1) + numbers.get(2) + numbers.get(3) + numbers.get(4) + numbers.get(5) + numbers.get(6) + numbers.get(7);\n",
    "int z  = y/8;\n",
    "System.out.println(z);\n",
    "\n",
    "\n"
   ]
  },
  {
   "cell_type": "markdown",
   "metadata": {},
   "source": [
    "### Java Console Hacks"
   ]
  },
  {
   "cell_type": "code",
   "execution_count": 32,
   "metadata": {},
   "outputs": [
    {
     "name": "stdout",
     "output_type": "stream",
     "text": [
      "[I@169a8ed0\n"
     ]
    },
    {
     "name": "stdout",
     "output_type": "stream",
     "text": [
      "[1, 2, 3, 4]\n",
      "{Person1=15, Person2=16, Person3=17, Person4=18}\n"
     ]
    }
   ],
   "source": [
    "// Showing the use of Hashmaps, Arrays, and Arraylists\n",
    "import java.util.ArrayList; // import the ArrayList class\n",
    "import java.util.HashMap; // import Hashmap Class\n",
    "\n",
    "// Fixed Array \n",
    "int[] numbers = {1, 2, 3, 4, 5};\n",
    "System.out.println(numbers);\n",
    "// ArrayList\n",
    "ArrayList<String> integers = new ArrayList<String>();\n",
    "    integers.add(\"1\");\n",
    "    integers.add(\"2\");\n",
    "    integers.add(\"3\");\n",
    "    integers.add(\"4\");\n",
    "    System.out.println(integers);\n",
    "// Different methods using ArrayList\n",
    "// Changing at item in arraylist\n",
    "integers.set(0, \"1\");\n",
    "// Hashmap \n",
    "HashMap<String, Integer> people = new HashMap<String, Integer>();\n",
    "// Putting A Person Name and their Age\n",
    "people.put(\"Person1\", 15);\n",
    "people.put(\"Person2\", 16);\n",
    "people.put(\"Person3\", 17);\n",
    "people.put(\"Person4\", 18);\n",
    "System.out.println(people);\n",
    "\n",
    "\n",
    "\n",
    "\n"
   ]
  },
  {
   "cell_type": "code",
   "execution_count": null,
   "metadata": {},
   "outputs": [],
   "source": [
    "import java.util.Scanner;\n",
    "import java.util.Random;\n",
    "\n",
    "public class RockPaperScissors {\n",
    "    public static void main(String[] args) {\n",
    "        // Getting input from the user\n",
    "        Scanner scanner = new Scanner(System.in);\n",
    "        \n",
    "        System.out.println(\"Choose one: rock,paper,scissors\");\n",
    "        String playerMove = scanner.nextLine();\n",
    "      \n",
    "        // Getting input from the Opponent\n",
    "        Random random = new Random();\n",
    "        int othernumber = random.nextInt(3);\n",
    "\n",
    "        String opponentMove;\n",
    "        // If, else if, else statement:\n",
    "        if (othernumber == 0) {\n",
    "            opponentMove = \"rock\";\n",
    "        } else if (othernumber == 1) {\n",
    "            opponentMove = \"paper\";\n",
    "        } else {\n",
    "            opponentMove = \"scissors\";\n",
    "        }\n",
    "        System.out.println(\"Opponest chose: \" + opponentMove + \"!\");\n",
    "        // Printing out opponent Move\n",
    "        \n",
    "    }\n",
    "}"
   ]
  },
  {
   "cell_type": "markdown",
   "metadata": {},
   "source": [
    "### Reviewing the 10 Units of Computer Science A and how identifying if we used them\n",
    "\n",
    " Unit 1: Primitive Types\n",
    "\n",
    " Unit 2: Using Objects\n",
    "\n",
    " Unit 3: Boolean Expressions and if Statements\n",
    "\n",
    " Unit 4: Iteration\n",
    "\n",
    " Unit 5: Writing Classes\n",
    "\n",
    " Unit 6: Array\n",
    "\n",
    " Unit 7: ArrayList\n",
    "\n",
    " Unit 8: 2D Array\n",
    "\n",
    " Unit 9: Inheritance\n",
    "\n",
    " Unit 10: Recursion\n",
    "\n",
    "\n",
    "I applied Arrays, ArrayLists, Primitive Types, and Using Objects in the code above"
   ]
  },
  {
   "cell_type": "markdown",
   "metadata": {},
   "source": [
    "### Answer why you think this reorganization and AP indetification is important?\n",
    "Reorgnaizations aad AP identification is important because they show what pices of code you are suppossed to use for your individual projects and requirments. It also shows where you are at in terms of using the various skills in Java and if you are at AP standards"
   ]
  },
  {
   "cell_type": "markdown",
   "metadata": {},
   "source": [
    "### Week 2 Hacks: HTML Table Hacks\n",
    "Hacks:\n",
    "- Make your own tables, with data according to your interests.\n",
    "- Describe a benefit of a markdown table.\n",
    "- Try to Style the HTML table using w3schools.\n",
    "- Describe the difference between HTML and JavaScript.\n",
    "- Describe a benefit of a table that uses JavaScript.\n"
   ]
  },
  {
   "cell_type": "code",
   "execution_count": 1,
   "metadata": {
    "vscode": {
     "languageId": "html"
    }
   },
   "outputs": [
    {
     "data": {
      "text/html": [
       "\n",
       "<!-- Head contains information to Support the Document -->\n",
       "<head>\n",
       "    <!-- load jQuery and DataTables output style and scripts -->\n",
       "    <link rel=\"stylesheet\" type=\"text/css\" href=\"https://cdn.datatables.net/1.13.4/css/jquery.dataTables.min.css\">\n",
       "    <script type=\"text/javascript\" language=\"javascript\" src=\"https://code.jquery.com/jquery-3.6.0.min.js\"></script>\n",
       "    <script>var define = null;</script>\n",
       "    <script type=\"text/javascript\" language=\"javascript\" src=\"https://cdn.datatables.net/1.13.4/js/jquery.dataTables.min.js\"></script>\n",
       "</head>\n",
       "\n",
       "<!-- Body contains the contents of the Document -->\n",
       "<body>\n",
       "    <table id=\"demo\" class=\"table\">\n",
       "        <thead>\n",
       "            <tr>\n",
       "                <th>Player</th>\n",
       "                <th>Position</th>\n",
       "                <th>Height</th>\n",
       "                <th>Age</th>\n",
       "                <th>Weight</th>\n",
       "                <th>Team</th>\n",
       "            </tr>\n",
       "        </thead>\n",
       "        <tbody>\n",
       "            <tr>\n",
       "                <td>Patrick Mahomes</td>\n",
       "                <td>Quarterback</td>\n",
       "                <td>6ft 2</td>\n",
       "                <td>27</td>\n",
       "                <td>225</td>\n",
       "                <td>Kansas City Chiefs</td>\n",
       "            </tr>\n",
       "            <tr>\n",
       "                <td>Tyreek Hill</td>\n",
       "                <td>Wide Reciever</td>\n",
       "                <td>5ft 10</td>\n",
       "                <td>29</td>\n",
       "                <td>185</td>\n",
       "                <td>Miami Dolphins</td>\n",
       "            </tr>\n",
       "            <tr>\n",
       "                <td>Jaylen Waddle</td>\n",
       "                <td>Wide Reciever</td>\n",
       "                <td>5ft 10</td>\n",
       "                <td>24</td>\n",
       "                <td>185</td>\n",
       "                <td>Miami Dolphins</td>\n",
       "            </tr>\n",
       "            <tr>\n",
       "                <td>Ja'Marr Chase</td>\n",
       "                <td>Wide Reciever</td>\n",
       "                <td>6ft 0</td>\n",
       "                <td>23</td>\n",
       "                <td>201</td>\n",
       "                <td>Cinciniati Bengals</td>\n",
       "            </tr>\n",
       "            <tr>\n",
       "                <td>Joe Burrow</td>\n",
       "                <td>Quarterback</td>\n",
       "                <td>6ft 4</td>\n",
       "                <td>26</td>\n",
       "                <td>216</td>\n",
       "                <td>Cinciniati Bengals</td>\n",
       "            </tr>\n",
       "            <tr>\n",
       "                <td>Josh Allen</td>\n",
       "                <td>Quarterback</td>\n",
       "                <td>6ft 5</td>\n",
       "                <td>27</td>\n",
       "                <td>234</td>\n",
       "                <td>Buffallo Bills</td>\n",
       "            </tr>\n",
       "            <tr>\n",
       "                <td>T.J. Watt</td>\n",
       "                <td>linebacker</td>\n",
       "                <td>6ft 4</td>\n",
       "                <td>28</td>\n",
       "                <td>251</td>\n",
       "                <td>Pittsburgh Steelers</td>\n",
       "            </tr>\n",
       "            <tr>\n",
       "                <td>Myles Garrett</td>\n",
       "                <td>Defensive End</td>\n",
       "                <td>6ft 4</td>\n",
       "                <td>27</td>\n",
       "                <td>271</td>\n",
       "                <td>Cleveland Browns</td>\n",
       "            </tr>\n",
       "            <tr>\n",
       "                <td>Nick Chubb</td>\n",
       "                <td>Running Back</td>\n",
       "                <td>5ft 11</td>\n",
       "                <td>27</td>\n",
       "                <td>227</td>\n",
       "                <td>Cleveland Browns</td>\n",
       "            </tr>\n",
       "            <tr>\n",
       "                <td>Derrick Henry</td>\n",
       "                <td>Running Back</td>\n",
       "                <td>6ft 3</td>\n",
       "                <td>29</td>\n",
       "                <td>247</td>\n",
       "                <td>Tennessee Titans</td>\n",
       "            </tr>\n",
       "            <tr>\n",
       "                <td>Sauce Gardner</td>\n",
       "                <td>Cornerback</td>\n",
       "                <td>6ft 3</td>\n",
       "                <td>22</td>\n",
       "                <td>201</td>\n",
       "                <td>New York Jets</td>\n",
       "            </tr>\n",
       "        </tbody>\n",
       "    </table>\n",
       "</body>\n",
       "\n",
       "<!-- Script is used to embed executable code -->\n",
       "<script>\n",
       "    $(\"#demo\").DataTable();\n",
       "</script>\n"
      ],
      "text/plain": [
       "<IPython.core.display.HTML object>"
      ]
     },
     "metadata": {},
     "output_type": "display_data"
    }
   ],
   "source": [
    "%%html\n",
    "\n",
    "<!-- Head contains information to Support the Document -->\n",
    "<head>\n",
    "    <!-- load jQuery and DataTables output style and scripts -->\n",
    "    <link rel=\"stylesheet\" type=\"text/css\" href=\"https://cdn.datatables.net/1.13.4/css/jquery.dataTables.min.css\">\n",
    "    <script type=\"text/javascript\" language=\"javascript\" src=\"https://code.jquery.com/jquery-3.6.0.min.js\"></script>\n",
    "    <script>var define = null;</script>\n",
    "    <script type=\"text/javascript\" language=\"javascript\" src=\"https://cdn.datatables.net/1.13.4/js/jquery.dataTables.min.js\"></script>\n",
    "</head>\n",
    "\n",
    "<!-- Body contains the contents of the Document -->\n",
    "<body>\n",
    "    <table id=\"demo\" class=\"table\">\n",
    "        <thead>\n",
    "            <tr>\n",
    "                <th>Player</th>\n",
    "                <th>Position</th>\n",
    "                <th>Height</th>\n",
    "                <th>Age</th>\n",
    "                <th>Weight</th>\n",
    "                <th>Team</th>\n",
    "            </tr>\n",
    "        </thead>\n",
    "        <tbody>\n",
    "            <tr>\n",
    "                <td>Patrick Mahomes</td>\n",
    "                <td>Quarterback</td>\n",
    "                <td>6ft 2</td>\n",
    "                <td>27</td>\n",
    "                <td>225</td>\n",
    "                <td>Kansas City Chiefs</td>\n",
    "            </tr>\n",
    "            <tr>\n",
    "                <td>Tyreek Hill</td>\n",
    "                <td>Wide Reciever</td>\n",
    "                <td>5ft 10</td>\n",
    "                <td>29</td>\n",
    "                <td>185</td>\n",
    "                <td>Miami Dolphins</td>\n",
    "            </tr>\n",
    "            <tr>\n",
    "                <td>Jaylen Waddle</td>\n",
    "                <td>Wide Reciever</td>\n",
    "                <td>5ft 10</td>\n",
    "                <td>24</td>\n",
    "                <td>185</td>\n",
    "                <td>Miami Dolphins</td>\n",
    "            </tr>\n",
    "            <tr>\n",
    "                <td>Ja'Marr Chase</td>\n",
    "                <td>Wide Reciever</td>\n",
    "                <td>6ft 0</td>\n",
    "                <td>23</td>\n",
    "                <td>201</td>\n",
    "                <td>Cinciniati Bengals</td>\n",
    "            </tr>\n",
    "            <tr>\n",
    "                <td>Joe Burrow</td>\n",
    "                <td>Quarterback</td>\n",
    "                <td>6ft 4</td>\n",
    "                <td>26</td>\n",
    "                <td>216</td>\n",
    "                <td>Cinciniati Bengals</td>\n",
    "            </tr>\n",
    "            <tr>\n",
    "                <td>Josh Allen</td>\n",
    "                <td>Quarterback</td>\n",
    "                <td>6ft 5</td>\n",
    "                <td>27</td>\n",
    "                <td>234</td>\n",
    "                <td>Buffallo Bills</td>\n",
    "            </tr>\n",
    "            <tr>\n",
    "                <td>T.J. Watt</td>\n",
    "                <td>linebacker</td>\n",
    "                <td>6ft 4</td>\n",
    "                <td>28</td>\n",
    "                <td>251</td>\n",
    "                <td>Pittsburgh Steelers</td>\n",
    "            </tr>\n",
    "            <tr>\n",
    "                <td>Myles Garrett</td>\n",
    "                <td>Defensive End</td>\n",
    "                <td>6ft 4</td>\n",
    "                <td>27</td>\n",
    "                <td>271</td>\n",
    "                <td>Cleveland Browns</td>\n",
    "            </tr>\n",
    "            <tr>\n",
    "                <td>Nick Chubb</td>\n",
    "                <td>Running Back</td>\n",
    "                <td>5ft 11</td>\n",
    "                <td>27</td>\n",
    "                <td>227</td>\n",
    "                <td>Cleveland Browns</td>\n",
    "            </tr>\n",
    "            <tr>\n",
    "                <td>Derrick Henry</td>\n",
    "                <td>Running Back</td>\n",
    "                <td>6ft 3</td>\n",
    "                <td>29</td>\n",
    "                <td>247</td>\n",
    "                <td>Tennessee Titans</td>\n",
    "            </tr>\n",
    "            <tr>\n",
    "                <td>Sauce Gardner</td>\n",
    "                <td>Cornerback</td>\n",
    "                <td>6ft 3</td>\n",
    "                <td>22</td>\n",
    "                <td>201</td>\n",
    "                <td>New York Jets</td>\n",
    "            </tr>\n",
    "        </tbody>\n",
    "    </table>\n",
    "</body>\n",
    "\n",
    "<!-- Script is used to embed executable code -->\n",
    "<script>\n",
    "    $(\"#demo\").DataTable();\n",
    "</script>\n"
   ]
  },
  {
   "cell_type": "markdown",
   "metadata": {},
   "source": [
    "### Describe a benefit of using markdown tables\n",
    "A benefit of using markdown tables is that it is very easy to show data that would be organized in tables, such as statsitics and other facts that can be shown such as the table above."
   ]
  },
  {
   "cell_type": "markdown",
   "metadata": {},
   "source": [
    "### Try to Style the HTML table using w3schools.\n",
    "In W3 schools styles HTML Tables in zebra stripes\n",
    "![W3schools](../images/w3schoolshack.JPG)\n"
   ]
  },
  {
   "cell_type": "markdown",
   "metadata": {},
   "source": [
    "### Describe the difference between HTML and JavaScript.\n",
    "The Difference between HTML and Javascript is that HTML gives the basic structure and meaning for web content whereas javascript is more advanced of a programming langauge "
   ]
  },
  {
   "cell_type": "markdown",
   "metadata": {},
   "source": [
    "### Describe a benefit of a table that uses JavaScript.\n",
    "A beneift of a table that uses JavaScript includes that it is more advanced and can have more features as well as style becuase javascript is a more advanaced programming langauge than HTML."
   ]
  },
  {
   "cell_type": "markdown",
   "metadata": {},
   "source": [
    "### Basic Java Code"
   ]
  },
  {
   "cell_type": "markdown",
   "metadata": {},
   "source": [
    "### Lab Notebook Hacks Week 1: IPYNB Table, Code"
   ]
  },
  {
   "cell_type": "code",
   "execution_count": 3,
   "metadata": {},
   "outputs": [
    {
     "ename": "SyntaxError",
     "evalue": "invalid syntax (3248209577.py, line 3)",
     "output_type": "error",
     "traceback": [
      "\u001b[0;36m  Input \u001b[0;32mIn [3]\u001b[0;36m\u001b[0m\n\u001b[0;31m    if (a === b) {\u001b[0m\n\u001b[0m            ^\u001b[0m\n\u001b[0;31mSyntaxError\u001b[0m\u001b[0;31m:\u001b[0m invalid syntax\n"
     ]
    }
   ],
   "source": [
    "\n",
    "a = 1\n",
    "b = 1;\n",
    "if (a === b) {\n",
    "    // JavaScript also uses curly braces to establish code block\n",
    "    console.log(\"A equals B\");\n",
    "}\n"
   ]
  },
  {
   "cell_type": "code",
   "execution_count": 5,
   "metadata": {},
   "outputs": [
    {
     "ename": "NameError",
     "evalue": "name 'FileSystem' is not defined",
     "output_type": "error",
     "traceback": [
      "\u001b[0;31m---------------------------------------------------------------------------\u001b[0m",
      "\u001b[0;31mNameError\u001b[0m                                 Traceback (most recent call last)",
      "\u001b[1;32m/home/shivansh/APCSA/realone/shivansh/_notebooks/2023-08-21-labnotebook.ipynb Cell 16\u001b[0m in \u001b[0;36m<cell line: 1>\u001b[0;34m()\u001b[0m\n\u001b[0;32m----> <a href='vscode-notebook-cell://wsl%2Bubuntu/home/shivansh/APCSA/realone/shivansh/_notebooks/2023-08-21-labnotebook.ipynb#X24sdnNjb2RlLXJlbW90ZQ%3D%3D?line=0'>1</a>\u001b[0m FileSystem\u001b[39m.\u001b[39mout\u001b[39m.\u001b[39mprintln(\u001b[39m1\u001b[39m)\n",
      "\u001b[0;31mNameError\u001b[0m: name 'FileSystem' is not defined"
     ]
    }
   ],
   "source": [
    "FileSystem.out.println(1);"
   ]
  }
 ],
 "metadata": {
  "kernelspec": {
   "display_name": "base",
   "language": "python",
   "name": "python3"
  },
  "language_info": {
   "codemirror_mode": {
    "name": "ipython",
    "version": 3
   },
   "file_extension": ".py",
   "mimetype": "text/x-python",
   "name": "python",
   "nbconvert_exporter": "python",
   "pygments_lexer": "ipython3",
   "version": "3.9.12"
  }
 },
 "nbformat": 4,
 "nbformat_minor": 2
}
