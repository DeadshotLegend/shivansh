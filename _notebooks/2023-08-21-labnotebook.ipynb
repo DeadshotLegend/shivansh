{
 "cells": [
  {
   "cell_type": "markdown",
   "metadata": {},
   "source": [
    "---\n",
    "toc: true\n",
    "comments: true\n",
    "layout: post\n",
    "title: Lab Notebook\n",
    "description: Lab Notebook for Shivansh Goel APCSA\n",
    "courses: { csa: {week: 0} }\n",
    "type: hacks\n",
    "---"
   ]
  },
  {
   "cell_type": "markdown",
   "metadata": {},
   "source": [
    "# Record of Week 0 and 1 Hacks\n",
    "- Modified and personlaized index.md with informatin and a picture about myself\n",
    "- Changed style in config.yml and tested out a lot of idffernet themes and settled with midnight theme\n",
    "- Worked on Java Hello and Console Hacks, completing hacks for a \"rock, paper, scissors\" game\n",
    "- Added Commonly used Linux Commands to the Lab Notebook and created a Python Quiz About it\n",
    "- Added a \"Why I love my tools\" post which focused on github and vscode"
   ]
  },
  {
   "cell_type": "markdown",
   "metadata": {},
   "source": [
    "# Record of Week 2 Hacks\n",
    "- Worked on JS Output w/ jquery Hacks, where we used html and javascript tables to display information\n",
    "- Personalized tables from cars, to information about players in the NFL\n",
    "- Worked on styling HTML tables using W3 Schools\n",
    "- Worked on Lab Notebook Hacks for Week 1: IPYNB Table, Code"
   ]
  },
  {
   "attachments": {},
   "cell_type": "markdown",
   "metadata": {},
   "source": [
    "# Shivansh Goel Lab Notebook"
   ]
  },
  {
   "attachments": {},
   "cell_type": "markdown",
   "metadata": {},
   "source": [
    "### Linux Commands that we use Frequently\n",
    "\n",
    "ls - list all items in a directory\n",
    "\n",
    "cd - change directory\n",
    "\n",
    "mkdir - make directory\n",
    "\n",
    "sudo - enter admin priveleges\n",
    "\n",
    "code - enter into GUI (vscode) \n",
    "\n",
    "git clone - clones git repository into own \n",
    "\n",
    "cat - view a file"
   ]
  },
  {
   "cell_type": "code",
   "execution_count": 1,
   "metadata": {},
   "outputs": [
    {
     "name": "stdout",
     "output_type": "stream",
     "text": [
      "Hello, shivansh running /home/shivansh/anaconda3/bin/python\n",
      "You will be asked 7 questions.\n",
      "Are you ready to take a test! Press Enter key to begin. Best of luck :)\n",
      "Question 1 : What does the command 'ls' do\n",
      "list all items in a directoryh is incorrect! Better Luck next time.\n",
      "Question 2 : What does the command 'cd' do\n",
      "change directory is correct! Good Job!\n",
      "Question 3 : What does the command 'mkdir' do\n",
      "make directory is correct! Good Job!\n",
      "Question 4 : What does the command 'sudo' do\n",
      "enter admin priveleges is correct! Good Job!\n",
      "Question 5 : What does the command 'code' do\n",
      "enter into GUI (vscode) is correct! Good Job!\n",
      "Question 6 : What does the command 'git clone' do?\n",
      "clones git repsoitory into won computer is incorrect! Better Luck next time.\n",
      "Question 7 : What does the command 'cat' do\n",
      "views a file is correct! Good Job!\n",
      "shivansh you scored 5/7\n",
      "Total Percentage: 71.43%\n"
     ]
    }
   ],
   "source": [
    "import getpass, sys\n",
    "\n",
    "# method to display question and get user's answers\n",
    "def question_with_response(prompt, qCount):\n",
    "    print(\"Question \" + str(qCount)  + \" : \" + prompt)\n",
    "    msg = input()\n",
    "    return msg\n",
    "\n",
    "# dictionary to hold questions and answers as key : value pairs\n",
    "questionsDict = {\"What does the command 'ls' do\": \"list all items in a directory\",\n",
    "    \"What does the command 'cd' do\": \"change directory\", \n",
    "    \"What does the command 'mkdir' do\": \"make directory\",\n",
    "    \"What does the command 'sudo' do\": \"enter admin priveleges\",\n",
    "    \"What does the command 'code' do\": \"enter into GUI (vscode)\",\n",
    "    \"What does the command 'git clone' do?\": \"clones git repository into own computer\",\n",
    "    \"What does the command 'cat' do\": \"views a file\"\n",
    "}\n",
    "\n",
    "# number of questions as length of the dictionary\n",
    "questions = len(questionsDict)\n",
    "\n",
    "# set correct to 0\n",
    "correct = 0\n",
    "\n",
    "\n",
    "print('Hello, ' + getpass.getuser() + \" running \" + sys.executable)\n",
    "print(\"You will be asked \" + str(questions) + \" questions.\")\n",
    "print(\"Are you ready to take a test! Press Enter key to begin. Best of luck :)\")\n",
    "input()\n",
    "\n",
    "questionCount = 0\n",
    "# iterate over list of keys from the dictionary. pass dictionary key as question to the question_with_response function\n",
    "for key in questionsDict:\n",
    "    questionCount += 1\n",
    "    rsp = question_with_response(key, questionCount)\n",
    "    # compare the value from the dictionary to the user's input\n",
    "    if rsp.lower() == questionsDict[key].lower():\n",
    "        print(rsp + \" is correct! Good Job!\")\n",
    "        correct += 1\n",
    "    else:\n",
    "        print(rsp + \" is incorrect! Better Luck next time.\")\n",
    "\n",
    "# print final score    \n",
    "print(getpass.getuser() + \" you scored \" + str(correct) +\"/\" + str(questions))\n",
    "\n",
    "# calculate percentage\n",
    "page = correct/questions * 100\n",
    "\n",
    "# print percentage\n",
    "\n",
    "\n",
    "print(\"Total Percentage: \" + str (format(page,\".2f\")) + \"%\")"
   ]
  },
  {
   "attachments": {},
   "cell_type": "markdown",
   "metadata": {},
   "source": [
    "### Basic Java Concepts\n",
    "\n",
    "method: In Java, a method is a block of code that performs a specific task or action.  \n",
    "\n",
    "main method: In java, a main method is the entry point when your run the java application.\n",
    "\n",
    "variables:\n"
   ]
  },
  {
   "cell_type": "markdown",
   "metadata": {},
   "source": [
    "### Basic Java Code"
   ]
  },
  {
   "cell_type": "markdown",
   "metadata": {},
   "source": [
    "### Lab Notebook Hacks Week 1: IPYNB Table, Code"
   ]
  },
  {
   "cell_type": "code",
   "execution_count": 6,
   "metadata": {
    "vscode": {
     "languageId": "javascript"
    }
   },
   "outputs": [
    {
     "ename": "SyntaxError",
     "evalue": "invalid syntax (3052727837.py, line 1)",
     "output_type": "error",
     "traceback": [
      "\u001b[0;36m  Input \u001b[0;32mIn [6]\u001b[0;36m\u001b[0m\n\u001b[0;31m    <script>\u001b[0m\n\u001b[0m    ^\u001b[0m\n\u001b[0;31mSyntaxError\u001b[0m\u001b[0;31m:\u001b[0m invalid syntax\n"
     ]
    }
   ],
   "source": [
    "%%js%%\n",
    "\n",
    "let a = 1;\n",
    "let b = 1;\n",
    "if (a === b) {\n",
    "    // JavaScript also uses curly braces to establish code block\n",
    "    console.log(\"A equals B\");\n",
    "}\n"
   ]
  }
 ],
 "metadata": {
  "kernelspec": {
   "display_name": "Python 3 (ipykernel)",
   "language": "python",
   "name": "python3"
  },
  "language_info": {
   "codemirror_mode": {
    "name": "ipython",
    "version": 3
   },
   "file_extension": ".py",
   "mimetype": "text/x-python",
   "name": "python",
   "nbconvert_exporter": "python",
   "pygments_lexer": "ipython3",
   "version": "3.9.12"
  }
 },
 "nbformat": 4,
 "nbformat_minor": 2
}
