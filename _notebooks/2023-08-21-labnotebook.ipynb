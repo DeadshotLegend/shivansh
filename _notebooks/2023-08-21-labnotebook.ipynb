{
 "cells": [
  {
   "cell_type": "markdown",
   "metadata": {},
   "source": [
    "---\n",
    "toc: true\n",
    "comments: true\n",
    "layout: post\n",
    "title: Lab Notebook\n",
    "description: Lab Notebook for Shivansh Goel APCSA\n",
    "courses: { csa: {week: 0} }\n",
    "type: hacks\n",
    "---"
   ]
  },
  {
   "cell_type": "markdown",
   "metadata": {},
   "source": [
    "# Record of Week 0 and 1 Hacks\n",
    "- Modified and personlaized index.md with informatin and a picture about myself\n",
    "- Changed style in config.yml and tested out a lot of idffernet themes and settled with midnight theme\n",
    "- Worked on Java Hello and Console Hacks, completing hacks for a \"rock, paper, scissors\" game\n",
    "- Added Commonly used Linux Commands to the Lab Notebook and created a Python Quiz About it\n",
    "- Added a \"Why I love my tools\" post which focused on github and vscode"
   ]
  },
  {
   "cell_type": "markdown",
   "metadata": {},
   "source": [
    "# Record of Week 2 Hacks\n",
    "- Worked on JS Output w/ jquery Hacks, where we used html and javascript tables to display information\n",
    "- Personalized tables from cars, to information about players in the NFL\n",
    "- Worked on styling HTML tables using W3 Schools\n",
    "- Worked on Lab Notebook Hacks for Week 1: IPYNB Table, Code"
   ]
  },
  {
   "attachments": {},
   "cell_type": "markdown",
   "metadata": {},
   "source": [
    "# Shivansh Goel Lab Notebook"
   ]
  },
  {
   "attachments": {},
   "cell_type": "markdown",
   "metadata": {},
   "source": [
    "### Linux Commands that we use Frequently\n",
    "\n",
    "ls - list all items in a directory\n",
    "\n",
    "cd - change directory\n",
    "\n",
    "mkdir - make directory\n",
    "\n",
    "sudo - enter admin priveleges\n",
    "\n",
    "code - enter into GUI (vscode) \n",
    "\n",
    "git clone - clones git repository into own \n",
    "\n",
    "cat - view a file"
   ]
  },
  {
   "cell_type": "code",
   "execution_count": 1,
   "metadata": {
    "vscode": {
     "languageId": "java"
    }
   },
   "outputs": [
    {
     "name": "stdout",
     "output_type": "stream",
     "text": [
      "Hello, shivansh running /home/shivansh/anaconda3/bin/python\n",
      "You will be asked 7 questions.\n",
      "Are you ready to take a test! Press Enter key to begin. Best of luck :)\n",
      "Question 1 : What does the command 'ls' do\n",
      "list all items in a directoryh is incorrect! Better Luck next time.\n",
      "Question 2 : What does the command 'cd' do\n",
      "change directory is correct! Good Job!\n",
      "Question 3 : What does the command 'mkdir' do\n",
      "make directory is correct! Good Job!\n",
      "Question 4 : What does the command 'sudo' do\n",
      "enter admin priveleges is correct! Good Job!\n",
      "Question 5 : What does the command 'code' do\n",
      "enter into GUI (vscode) is correct! Good Job!\n",
      "Question 6 : What does the command 'git clone' do?\n",
      "clones git repsoitory into won computer is incorrect! Better Luck next time.\n",
      "Question 7 : What does the command 'cat' do\n",
      "views a file is correct! Good Job!\n",
      "shivansh you scored 5/7\n",
      "Total Percentage: 71.43%\n"
     ]
    }
   ],
   "source": [
    "import getpass, sys\n",
    "\n",
    "# method to display question and get user's answers\n",
    "def question_with_response(prompt, qCount):\n",
    "    print(\"Question \" + str(qCount)  + \" : \" + prompt)\n",
    "    msg = input()\n",
    "    return msg\n",
    "\n",
    "# dictionary to hold questions and answers as key : value pairs\n",
    "questionsDict = {\"What does the command 'ls' do\": \"list all items in a directory\",\n",
    "    \"What does the command 'cd' do\": \"change directory\", \n",
    "    \"What does the command 'mkdir' do\": \"make directory\",\n",
    "    \"What does the command 'sudo' do\": \"enter admin priveleges\",\n",
    "    \"What does the command 'code' do\": \"enter into GUI (vscode)\",\n",
    "    \"What does the command 'git clone' do?\": \"clones git repository into own computer\",\n",
    "    \"What does the command 'cat' do\": \"views a file\"\n",
    "}\n",
    "\n",
    "# number of questions as length of the dictionary\n",
    "questions = len(questionsDict)\n",
    "\n",
    "# set correct to 0\n",
    "correct = 0\n",
    "\n",
    "\n",
    "print('Hello, ' + getpass.getuser() + \" running \" + sys.executable)\n",
    "print(\"You will be asked \" + str(questions) + \" questions.\")\n",
    "print(\"Are you ready to take a test! Press Enter key to begin. Best of luck :)\")\n",
    "input()\n",
    "\n",
    "questionCount = 0\n",
    "# iterate over list of keys from the dictionary. pass dictionary key as question to the question_with_response function\n",
    "for key in questionsDict:\n",
    "    questionCount += 1\n",
    "    rsp = question_with_response(key, questionCount)\n",
    "    # compare the value from the dictionary to the user's input\n",
    "    if rsp.lower() == questionsDict[key].lower():\n",
    "        print(rsp + \" is correct! Good Job!\")\n",
    "        correct += 1\n",
    "    else:\n",
    "        print(rsp + \" is incorrect! Better Luck next time.\")\n",
    "\n",
    "# print final score    \n",
    "print(getpass.getuser() + \" you scored \" + str(correct) +\"/\" + str(questions))\n",
    "\n",
    "# calculate percentage\n",
    "page = correct/questions * 100\n",
    "\n",
    "# print percentage\n",
    "\n",
    "\n",
    "print(\"Total Percentage: \" + str (format(page,\".2f\")) + \"%\")"
   ]
  },
  {
   "cell_type": "markdown",
   "metadata": {},
   "source": [
    "### Notes for this Hack:\n",
    "A basic Review for Linux Commands which is important for basic function around the computer to access the different github repositories that I need to use for the class"
   ]
  },
  {
   "attachments": {},
   "cell_type": "markdown",
   "metadata": {},
   "source": [
    "### Basic Java Concepts\n",
    "\n",
    "method: In Java, a method is a block of code that performs a specific task or action.  \n",
    "\n",
    "main method: In java, a main method is the entry point when your run the java application.\n",
    "\n",
    "variables:\n"
   ]
  },
  {
   "cell_type": "markdown",
   "metadata": {},
   "source": [
    "### Java Hello Hacks"
   ]
  },
  {
   "cell_type": "code",
   "execution_count": 21,
   "metadata": {
    "vscode": {
     "languageId": "java"
    }
   },
   "outputs": [],
   "source": [
    "public class Class1 {\n",
    "\n",
    "    public void Person(String name, int age){\n",
    "        System.out.println(\"The name of the person is: \" + name + \"The age of the person is: \" + age);\n",
    "    }\n",
    "\n",
    "    public void Dessert(String type, int cost) {\n",
    "        System.out.println(\"The type of the dessert is: \" + type + \"The cost of the desert is: \" + cost);\n",
    "    }\n",
    "\n",
    "    public static void main(String[] args){\n",
    "        Person person1 = new Person(\"Person1\", 15);\n",
    "        Dessert dessert1 = new Dessert(\"Ice Cream\", 15);\n",
    "    }    \n",
    "\n",
    "}"
   ]
  },
  {
   "cell_type": "code",
   "execution_count": 17,
   "metadata": {
    "vscode": {
     "languageId": "java"
    }
   },
   "outputs": [
    {
     "name": "stdout",
     "output_type": "stream",
     "text": [
      "2\n",
      "1\n",
      "3\n"
     ]
    }
   ],
   "source": [
    "import java.util.ArrayList; // import the ArrayList class\n",
    "\n",
    "// Go through progression of understanding a Static Class. Build a purposeful static Class, no Objects.\n",
    "    \n",
    "// Calculate stats functions on an array of values: mean, median, mode.\n",
    "ArrayList<Integer> numbers = new ArrayList<Integer>();\n",
    "numbers.add(1);\n",
    "numbers.add(2);\n",
    "numbers.add(2);\n",
    "numbers.add(3);\n",
    "numbers.add(3);\n",
    "numbers.add(4);\n",
    "numbers.add(4);\n",
    "numbers.add(5);\n",
    "// Getting speciifc values from the ArrayList\n",
    "int x = numbers.get(1);\n",
    "System.out.println(x);\n",
    "System.out.println(numbers.get(0));\n",
    "// Calculating Mean from ArrayList\n",
    "int y = numbers.get(0) + numbers.get(1) + numbers.get(2) + numbers.get(3) + numbers.get(4) + numbers.get(5) + numbers.get(6) + numbers.get(7);\n",
    "int z  = y/8;\n",
    "System.out.println(z);\n",
    "\n",
    "\n"
   ]
  },
  {
   "cell_type": "markdown",
   "metadata": {},
   "source": [
    "### Java Console Hacks"
   ]
  },
  {
   "cell_type": "code",
   "execution_count": 26,
   "metadata": {
    "vscode": {
     "languageId": "java"
    }
   },
   "outputs": [
    {
     "name": "stdout",
     "output_type": "stream",
     "text": [
      "[I@31be33a0\n"
     ]
    },
    {
     "name": "stdout",
     "output_type": "stream",
     "text": [
      "[1, 2, 3, 4]\n",
      "{Person1=15, Person2=16, Person3=17, Person4=18}\n"
     ]
    }
   ],
   "source": [
    "// Showing the use of Hashmaps, Arrays, and Arraylists\n",
    "import java.util.ArrayList; // import the ArrayList class\n",
    "import java.util.HashMap; // import Hashmap Class\n",
    "\n",
    "// Fixed Array \n",
    "int[] numbers = {1, 2, 3, 4, 5};\n",
    "System.out.println(numbers);\n",
    "// ArrayList\n",
    "ArrayList<String> integers = new ArrayList<String>();\n",
    "    integers.add(\"1\");\n",
    "    integers.add(\"2\");\n",
    "    integers.add(\"3\");\n",
    "    integers.add(\"4\");\n",
    "    System.out.println(integers);\n",
    "// Different methods using ArrayList\n",
    "// Changing at item in arraylist\n",
    "integers.set(0, \"1\");\n",
    "// Hashmap \n",
    "HashMap<String, Integer> people = new HashMap<String, Integer>();\n",
    "// Putting A Person Name and their Age\n",
    "people.put(\"Person1\", 15);\n",
    "people.put(\"Person2\", 16);\n",
    "people.put(\"Person3\", 17);\n",
    "people.put(\"Person4\", 18);\n",
    "System.out.println(people);\n",
    "\n",
    "\n",
    "\n",
    "\n"
   ]
  },
  {
   "cell_type": "code",
   "execution_count": null,
   "metadata": {
    "vscode": {
     "languageId": "java"
    }
   },
   "outputs": [],
   "source": [
    "import java.util.Scanner;\n",
    "import java.util.Random;\n",
    "\n",
    "public class RockPaperScissors {\n",
    "    public static void main(String[] args) {\n",
    "        // Getting input from the user\n",
    "        Scanner scanner = new Scanner(System.in);\n",
    "        \n",
    "        System.out.println(\"Choose one: rock,paper,scissors\");\n",
    "        String playerMove = scanner.nextLine();\n",
    "      \n",
    "        // Getting input from the Opponent\n",
    "        Random random = new Random();\n",
    "        int othernumber = random.nextInt(3);\n",
    "\n",
    "        String opponentMove;\n",
    "        // If, else if, else statement:\n",
    "        if (othernumber == 0) {\n",
    "            opponentMove = \"rock\";\n",
    "        } else if (othernumber == 1) {\n",
    "            opponentMove = \"paper\";\n",
    "        } else {\n",
    "            opponentMove = \"scissors\";\n",
    "        }\n",
    "        System.out.println(\"Opponest chose: \" + opponentMove + \"!\");\n",
    "        // Printing out opponent Move\n",
    "        \n",
    "    }\n",
    "}"
   ]
  },
  {
   "cell_type": "markdown",
   "metadata": {},
   "source": [
    "### Basic Java Code"
   ]
  },
  {
   "cell_type": "markdown",
   "metadata": {},
   "source": [
    "### Lab Notebook Hacks Week 1: IPYNB Table, Code"
   ]
  },
  {
   "cell_type": "code",
   "execution_count": 3,
   "metadata": {
    "vscode": {
     "languageId": "java"
    }
   },
   "outputs": [
    {
     "ename": "SyntaxError",
     "evalue": "invalid syntax (3248209577.py, line 3)",
     "output_type": "error",
     "traceback": [
      "\u001b[0;36m  Input \u001b[0;32mIn [3]\u001b[0;36m\u001b[0m\n\u001b[0;31m    if (a === b) {\u001b[0m\n\u001b[0m            ^\u001b[0m\n\u001b[0;31mSyntaxError\u001b[0m\u001b[0;31m:\u001b[0m invalid syntax\n"
     ]
    }
   ],
   "source": [
    "\n",
    "a = 1\n",
    "b = 1;\n",
    "if (a === b) {\n",
    "    // JavaScript also uses curly braces to establish code block\n",
    "    console.log(\"A equals B\");\n",
    "}\n"
   ]
  },
  {
   "cell_type": "code",
   "execution_count": 5,
   "metadata": {
    "vscode": {
     "languageId": "java"
    }
   },
   "outputs": [
    {
     "ename": "NameError",
     "evalue": "name 'FileSystem' is not defined",
     "output_type": "error",
     "traceback": [
      "\u001b[0;31m---------------------------------------------------------------------------\u001b[0m",
      "\u001b[0;31mNameError\u001b[0m                                 Traceback (most recent call last)",
      "\u001b[1;32m/home/shivansh/APCSA/realone/shivansh/_notebooks/2023-08-21-labnotebook.ipynb Cell 16\u001b[0m in \u001b[0;36m<cell line: 1>\u001b[0;34m()\u001b[0m\n\u001b[0;32m----> <a href='vscode-notebook-cell://wsl%2Bubuntu/home/shivansh/APCSA/realone/shivansh/_notebooks/2023-08-21-labnotebook.ipynb#X24sdnNjb2RlLXJlbW90ZQ%3D%3D?line=0'>1</a>\u001b[0m FileSystem\u001b[39m.\u001b[39mout\u001b[39m.\u001b[39mprintln(\u001b[39m1\u001b[39m)\n",
      "\u001b[0;31mNameError\u001b[0m: name 'FileSystem' is not defined"
     ]
    }
   ],
   "source": [
    "FileSystem.out.println(1);"
   ]
  }
 ],
 "metadata": {
  "kernelspec": {
   "display_name": "Java",
   "language": "java",
   "name": "java"
  },
  "language_info": {
   "codemirror_mode": "java",
   "file_extension": ".jshell",
   "mimetype": "text/x-java-source",
   "name": "Java",
   "pygments_lexer": "java",
   "version": "11.0.17+8-post-Ubuntu-1ubuntu220.04"
  }
 },
 "nbformat": 4,
 "nbformat_minor": 2
}
