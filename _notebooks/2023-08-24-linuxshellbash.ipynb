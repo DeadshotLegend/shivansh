{
 "cells": [
  {
   "attachments": {},
   "cell_type": "markdown",
   "metadata": {},
   "source": [
    "# Linux Shell and Bash Hacks"
   ]
  },
  {
   "attachments": {},
   "cell_type": "markdown",
   "metadata": {},
   "source": [
    "\n",
    "Bash Tutorial: Your Journey to Linux Mastery\n",
    "\n",
    "Welcome to the world of Bash, where you're on your way to becoming a Linux expert. When a computer boots up, a kernel (whether it's MacOS, Windows, or Linux) is initiated. This kernel provides a powerful tool known as the shell or terminal, which allows users to interact with the system using a set of basic commands. Although casual users often rely on graphical user interfaces, you're about to uncover the true potential of the terminal. Let's dive into the essentials and embark on your Linux journey."
   ]
  },
  {
   "attachments": {},
   "cell_type": "markdown",
   "metadata": {},
   "source": [
    "Variables: Your Programming Building Blocks\n",
    "Before we go deeper, let's understand the fundamentals of programming: variables. A variable has a \"name\" and a corresponding \"value,\" and it forms the basics of programming concepts."
   ]
  },
  {
   "cell_type": "code",
   "execution_count": null,
   "metadata": {
    "vscode": {
     "languageId": "shellscript"
    }
   },
   "outputs": [],
   "source": [
    "# Set up variables for your project directories\n"
   ]
  },
  {
   "attachments": {},
   "cell_type": "markdown",
   "metadata": {},
   "source": [
    "Last 3 hacks:\n",
    "\n",
    "Name and create blog notes on some Linux commands you will use frequently.\n",
    "\n",
    "Is there anything we use to verify tools we installed? Review versions?\n",
    "\n",
    "How would you update a repository? Use the git command line?\n",
    "I would update a repository to the update and commit on vscode or edit directyly on github, I would also use the pull command or use the pull command in github itself."
   ]
  }
 ],
 "metadata": {
  "language_info": {
   "name": "python"
  },
  "orig_nbformat": 4
 },
 "nbformat": 4,
 "nbformat_minor": 2
}
