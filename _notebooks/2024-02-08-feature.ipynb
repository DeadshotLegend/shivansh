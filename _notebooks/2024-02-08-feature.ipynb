{
 "cells": [
  {
   "cell_type": "markdown",
   "metadata": {},
   "source": [
    "---\n",
    "toc: true\n",
    "comments: true\n",
    "layout: post\n",
    "title: Feature Check\n",
    "description: In depth research about how AI Chatting works, the history of AI Chatting, and how Machine Learning is changing the industry of AI Chatting\n",
    "type: hacks\n",
    "courses: { csa: {week: 20} }\n",
    "authors: Shivansh Goel\n",
    "---"
   ]
  }
 ],
 "metadata": {
  "kernelspec": {
   "display_name": "Java",
   "language": "java",
   "name": "java"
  },
  "language_info": {
   "name": "java"
  }
 },
 "nbformat": 4,
 "nbformat_minor": 2
}
