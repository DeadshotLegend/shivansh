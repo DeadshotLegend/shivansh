{
 "cells": [
  {
   "cell_type": "markdown",
   "metadata": {},
   "source": [
    "---\n",
    "toc: true\n",
    "comments: true\n",
    "layout: post\n",
    "title: Research on AI Chatting and Machine Learning\n",
    "description: In depth research about how AI Chatting works, the history of AI Chatting, and how Machine Learning is changing the industry of AI Chatting\n",
    "type: hacks\n",
    "courses: { csa: {week: 19} }\n",
    "authors: Shivansh Goel\n",
    "---"
   ]
  },
  {
   "cell_type": "markdown",
   "metadata": {},
   "source": [
    "# Basic Information on AI Chatting\n",
    "AI chatbots are programmed to provide human-like conversations to customers or viewers.\n",
    "AI Chat"
   ]
  }
 ],
 "metadata": {
  "kernelspec": {
   "display_name": "Java",
   "language": "java",
   "name": "java"
  },
  "language_info": {
   "name": "java"
  }
 },
 "nbformat": 4,
 "nbformat_minor": 2
}
