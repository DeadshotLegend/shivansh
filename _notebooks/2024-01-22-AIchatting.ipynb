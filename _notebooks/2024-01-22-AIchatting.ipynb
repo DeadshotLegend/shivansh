{
 "cells": [
  {
   "cell_type": "markdown",
   "metadata": {},
   "source": [
    "---\n",
    "toc: true\n",
    "comments: true\n",
    "layout: post\n",
    "title: Research on AI Chatting and Machine Learning\n",
    "description: In depth research about how AI Chatting works, the history of AI Chatting, and how Machine Learning is changing the industry of AI Chatting\n",
    "type: hacks\n",
    "courses: { csa: {week: 19} }\n",
    "authors: Shivansh Goel\n",
    "---"
   ]
  },
  {
   "cell_type": "markdown",
   "metadata": {},
   "source": [
    "# Different Types of AI Chatbots\n",
    "There are many different types of AI Chatbots, and they all provide different capabalities and uses:\n",
    "\n",
    "- Rule-based chatbots. Rule-based chatbots are also known as decision-tree chatbots. These are the simplest chatbots, which attempt to map out customer conversations to narrow down the customer’s intent. Rule-based chatbots do not learn over time and only work in the specific scenarios that you design them for.\n",
    "\n",
    "- Menu-based chatbots: Menu-based chatbots provide a selection of options to the end user. These options will eventually lead to an answer to the user’s query. While these kinds of chatbots may be well suited for simple solutions, they may frustrate users with more complicated questions.\n",
    "\n",
    "- Hybrid chatbots: Hybrid chatbots combine automation technology with a live representative. The chatbots can respond to common questions, while a person will address the more complicated issues.\n",
    "\n",
    "- Keyword-based chatbots: Keyword-based chatbots are programmed to analyze text for keyword combinations and generate a relevant response. This allows for more flexible and natural conversations and users can ask more complex questions.\n",
    "\n",
    "- Machine-learning chatbots. Machine-learning chatbots, also known as artificial intelligence (AI) chatbots, are the most sophisticated. They enable users to ask advanced, open-ended questions and offer the most natural responses. These chatbots continue to learn from conversations and improve their responses over time.\n",
    "\n",
    "# The Type of Chatbot which will be used for the project\n",
    "For the project, I will be using a rule-based Chatbot, because it the simplest and with no previous AI expereience, especially in making AI Chatbots it is the easiest to create a rule-based Chatbot.\n",
    "\n",
    "## Basic Information on Rule-based Chatbots:\n",
    "Rule-based Chatbot is a type of chatbot that operates on a set of predefined rules. It uses a decision tree to guide users through a conversation and provide them with relevant information. Rule-based Chatbot works by following a set of predefined rules that dictate how it should respond to user queries. These rules are typically based on keywords or phrases that trigger specific responses. For example, if a user asks for the store hours, the Rule-based Chatbot will recognize the keyword \"hours\" and respond with the store's opening and closing times. Rule-based Chatbot also uses natural language processing (NLP) to understand user queries and provide more accurate responses. NLP is a key component of Rule-based Chatbot. It allows the chatbot to understand user queries and provide more accurate responses. NLP works by breaking down user queries into smaller components, such as keywords and phrases, and then analyzing these components to determine the user's intent. This allows Rule-based Chatbot to provide more personalized responses and improve the overall user experience.\n",
    "\n",
    "## Designing Conversational Flow\n",
    "Outlining the possible inputs from users and the chatbot's responses. Must consider different secenarios and how the chatbot should handle user queries. To this, I can create a comprehensive flow with if-else or conditional statements.\n",
    "\n",
    "\n",
    "## How a Rule-based Chatbot will work:\n",
    "- Rule-based chatbots are structured as a dialog tree and often use regular expressions to match a user’s input to human-like responses. The aim is to simulate the back-and-forth of a real-life conversation, often in a specific context, like telling the user what the weather is like outside. In chatbot design, rule-based chatbots are closed-domain, also called dialog agents, because they are limited to conversations on a specific subject.\n",
    "\n",
    "- Chatbot Intents:\n",
    "In chatbots design, an intent is the purpose or category of the user query. The user’s utterance gets matched to a chatbot intent. In rule-based chatbots, you can use regular expressions to match a user’s statement to a chatbot intent.\n",
    "\n",
    "- Chatbot Utterances:\n",
    "In chatbot design, an utterance is a statement that the user makes to the chatbot. The chatbot attempts to match the utterance to an intent.\n",
    "\n",
    "- Chatbot Entities:\n",
    "In chatbot design, an entity is a value that is parsed from a user utterance and passed for use within the user response.\n"
   ]
  },
  {
   "cell_type": "code",
   "execution_count": 1,
   "metadata": {
    "vscode": {
     "languageId": "java"
    }
   },
   "outputs": [
    {
     "name": "stdout",
     "output_type": "stream",
     "text": [
      "Chatbot: Hello! How can I assist you today?\n",
      "Chatbot: Hi there!\n",
      "Chatbot: Sorry, I didn't understand that.\n",
      "Chatbot: Sorry, I didn't understand that.\n",
      "Chatbot: I'm good, thank you. How about you?\n",
      "Chatbot: Goodbye! Have a great day!\n"
     ]
    }
   ],
   "source": [
    "import java.util.Scanner;  \n",
    "public class RuleBasedChatbot {  \n",
    "    public static void main(String[] args) {  \n",
    "        Scanner scanner = new Scanner(System.in);  \n",
    "        System.out.println(\"Chatbot: Hello! How can I assist you today?\");         \n",
    "        while (true) {  \n",
    "            String userInput = scanner.nextLine();  \n",
    "            if (userInput.equalsIgnoreCase(\"hello\")) {  \n",
    "                System.out.println(\"Chatbot: Hi there!\");  \n",
    "            } else if (userInput.equalsIgnoreCase(\"how are you?\")) {  \n",
    "                System.out.println(\"Chatbot: I'm good, thank you. How about you?\");  \n",
    "            } else if (userInput.equalsIgnoreCase(\"bye\")) {  \n",
    "                System.out.println(\"Chatbot: Goodbye! Have a great day!\");  \n",
    "                break;  \n",
    "            } else {  \n",
    "                System.out.println(\"Chatbot: Sorry, I didn't understand that.\");  \n",
    "            }  \n",
    "        }  \n",
    "        scanner.close();  \n",
    "    }  \n",
    "}  \n",
    "RuleBasedChatbot.main(null);"
   ]
  }
 ],
 "metadata": {
  "kernelspec": {
   "display_name": "Java",
   "language": "java",
   "name": "java"
  },
  "language_info": {
   "codemirror_mode": "java",
   "file_extension": ".jshell",
   "mimetype": "text/x-java-source",
   "name": "Java",
   "pygments_lexer": "java",
   "version": "17.0.9+9-Ubuntu-120.04"
  }
 },
 "nbformat": 4,
 "nbformat_minor": 2
}
