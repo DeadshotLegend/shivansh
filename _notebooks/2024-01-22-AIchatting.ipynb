{
 "cells": [
  {
   "cell_type": "markdown",
   "metadata": {},
   "source": [
    "---\n",
    "toc: true\n",
    "comments: true\n",
    "layout: post\n",
    "title: Research on AI Chatting and Machine Learning\n",
    "description: In depth research about how AI Chatting works, the history of AI Chatting, and how Machine Learning is changing the industry of AI Chatting\n",
    "type: hacks\n",
    "courses: { csa: {week: 19} }\n",
    "authors: Shivansh Goel\n",
    "---"
   ]
  },
  {
   "cell_type": "markdown",
   "metadata": {},
   "source": [
    "# Different Types of AI Chatbots\n",
    "There are many different types of AI Chatbots, and they all provide different capabalities and uses:\n",
    "\n",
    "- Rule-based chatbots. Rule-based chatbots are also known as decision-tree chatbots. These are the simplest chatbots, which attempt to map out customer conversations to narrow down the customer’s intent. Rule-based chatbots do not learn over time and only work in the specific scenarios that you design them for.\n",
    "\n",
    "- Menu-based chatbots: Menu-based chatbots provide a selection of options to the end user. These options will eventually lead to an answer to the user’s query. While these kinds of chatbots may be well suited for simple solutions, they may frustrate users with more complicated questions.\n",
    "\n",
    "- Hybrid chatbots: Hybrid chatbots combine automation technology with a live representative. The chatbots can respond to common questions, while a person will address the more complicated issues.\n",
    "\n",
    "- Keyword-based chatbots: Keyword-based chatbots are programmed to analyze text for keyword combinations and generate a relevant response. This allows for more flexible and natural conversations and users can ask more complex questions.\n",
    "\n",
    "- Machine-learning chatbots. Machine-learning chatbots, also known as artificial intelligence (AI) chatbots, are the most sophisticated. They enable users to ask advanced, open-ended questions and offer the most natural responses. These chatbots continue to learn from conversations and improve their responses over time.\n",
    "\n",
    "# The Type of Chatbot which will be used for the project\n",
    "For the project, I will be using a rule-based Chatbot, because it the simplest and with no previous AI expereience, especially in making AI Chatbots it is the easiest to create a rule-based Chatbot.\n",
    "\n",
    "## Basic Information on Rule-based Chatbots:\n",
    "Rule-based Chatbot is a type of chatbot that operates on a set of predefined rules. It uses a decision tree to guide users through a conversation and provide them with relevant information. Rule-based Chatbot works by following a set of predefined rules that dictate how it should respond to user queries. These rules are typically based on keywords or phrases that trigger specific responses. For example, if a user asks for the store hours, the Rule-based Chatbot will recognize the keyword \"hours\" and respond with the store's opening and closing times. Rule-based Chatbot also uses natural language processing (NLP) to understand user queries and provide more accurate responses. NLP is a key component of Rule-based Chatbot. It allows the chatbot to understand user queries and provide more accurate responses. NLP works by breaking down user queries into smaller components, such as keywords and phrases, and then analyzing these components to determine the user's intent. This allows Rule-based Chatbot to provide more personalized responses and improve the overall user experience.\n",
    "\n",
    "## Designing Conversational Flow\n",
    "Outlining the possible inputs from users and the chatbot's responses. Must consider different secenarios and how the chatbot should handle user queries. To this, I can create a comprehensive flow with if-else or conditional statements.\n",
    "\n",
    "\n",
    "## How a Rule-based Chatbot will work:\n",
    "- Rule-based chatbots are structured as a dialog tree and often use regular expressions to match a user’s input to human-like responses. The aim is to simulate the back-and-forth of a real-life conversation, often in a specific context, like telling the user what the weather is like outside. In chatbot design, rule-based chatbots are closed-domain, also called dialog agents, because they are limited to conversations on a specific subject.\n",
    "\n",
    "- Chatbot Intents:\n",
    "In chatbots design, an intent is the purpose or category of the user query. The user’s utterance gets matched to a chatbot intent. In rule-based chatbots, you can use regular expressions to match a user’s statement to a chatbot intent.\n",
    "\n",
    "- Chatbot Utterances:\n",
    "In chatbot design, an utterance is a statement that the user makes to the chatbot. The chatbot attempts to match the utterance to an intent.\n",
    "\n",
    "- Chatbot Entities:\n",
    "In chatbot design, an entity is a value that is parsed from a user utterance and passed for use within the user response.\n"
   ]
  },
  {
   "cell_type": "code",
   "execution_count": 1,
   "metadata": {},
   "outputs": [
    {
     "name": "stdout",
     "output_type": "stream",
     "text": [
      "Chatbot: Hello! How can I assist you today?\n",
      "Chatbot: Hi there!\n",
      "Chatbot: Sorry, I didn't understand that.\n",
      "Chatbot: Sorry, I didn't understand that.\n",
      "Chatbot: I'm good, thank you. How about you?\n",
      "Chatbot: Goodbye! Have a great day!\n"
     ]
    }
   ],
   "source": [
    "import java.util.Scanner;  \n",
    "public class RuleBasedChatbot {  \n",
    "    public static void main(String[] args) {  \n",
    "        Scanner scanner = new Scanner(System.in);  \n",
    "        System.out.println(\"Chatbot: Hello! How can I assist you today?\");         \n",
    "        while (true) {  \n",
    "            String userInput = scanner.nextLine();  \n",
    "            if (userInput.equalsIgnoreCase(\"hello\")) {  \n",
    "                System.out.println(\"Chatbot: Hi there!\");  \n",
    "            } else if (userInput.equalsIgnoreCase(\"how are you?\")) {  \n",
    "                System.out.println(\"Chatbot: I'm good, thank you. How about you?\");  \n",
    "            } else if (userInput.equalsIgnoreCase(\"bye\")) {  \n",
    "                System.out.println(\"Chatbot: Goodbye! Have a great day!\");  \n",
    "                break;  \n",
    "            } else {  \n",
    "                System.out.println(\"Chatbot: Sorry, I didn't understand that.\");  \n",
    "            }  \n",
    "        }  \n",
    "        scanner.close();  \n",
    "    }  \n",
    "}  \n",
    "RuleBasedChatbot.main(null);"
   ]
  },
  {
   "cell_type": "markdown",
   "metadata": {},
   "source": [
    "# Implementing a Chatbot using the AIML Library:\n",
    "AIML (Artificial Intelligence Markup Language) is an XML-based language used to develop chatbots. The Program AB library provides an AIML interpreter for Java. In order to use AIML we need to:\n",
    "- Download the Program AB library (program-ab-0.0.4.3.zip) from the Google Code Archive.\n",
    "- Extract the downloaded archive and navigate to the \"program-ab\" directory."
   ]
  },
  {
   "cell_type": "code",
   "execution_count": null,
   "metadata": {},
   "outputs": [],
   "source": [
    "import org.alicebot.ab.*;  \n",
    "public class AIMLChatbot {  \n",
    "    public static void main(String[] args) {  \n",
    "        String botName = \"alice\";  \n",
    "        Bot bot = new Bot(botName, \"src/main/resources\");  \n",
    "        Chat chat = new Chat(bot);  \n",
    "        String user = \"Hello\";  \n",
    "        String response = chat.multisentenceRespond(user);  \n",
    "        System.out.println(\"User: \" + user);  \n",
    "        System.out.println(\"Chatbot: \" + response);  \n",
    "    }  \n",
    "}  "
   ]
  },
  {
   "cell_type": "markdown",
   "metadata": {},
   "source": [
    "# Integrating Chatbot with APIs:\n",
    "Below is an example:"
   ]
  },
  {
   "cell_type": "code",
   "execution_count": null,
   "metadata": {},
   "outputs": [],
   "source": [
    "import java.io.IOException;  \n",
    "import org.json.JSONException;  \n",
    "import org.json.JSONObject;  \n",
    "import okhttp3.OkHttpClient;  \n",
    "import okhttp3.Request;  \n",
    "import okhttp3.Response;  \n",
    "public class WeatherChatbot {  \n",
    "    public static void main(String[] args) {  \n",
    "        // Create an instance of OkHttpClient to make HTTP requests  \n",
    "        OkHttpClient client = new OkHttpClient();    \n",
    "        // Set your OpenWeatherMap API key  \n",
    "        String apiKey = \"YOUR_API_KEY\";       \n",
    "        // Set the city for which you want to fetch weather information  \n",
    "        String city = \"London\";   \n",
    "        // Construct the URL for the API request  \n",
    "        String url = \"https://api.openweathermap.org/data/2.5/weather?q=\" + city + \"&appid=\" + apiKey;  \n",
    "        // Create a new request using the constructed URL  \n",
    "        Request request = new Request.Builder().url(url).build();  \n",
    "        try {  \n",
    "            // Send the request and retrieve the response  \n",
    "            Response response = client.newCall(request).execute();         \n",
    "            // Extract the response body as a string  \n",
    "            String responseBody = response.body().string();  \n",
    "            // Parse the response body as a JSON object  \n",
    "            JSONObject json = new JSONObject(responseBody);  \n",
    "            // Extract the \"main\" object from the JSON response  \n",
    "            JSONObject main = json.getJSONObject(\"main\");        \n",
    "            // Extract the temperature and humidity from the \"main\" object  \n",
    "            double temperature = main.getDouble(\"temp\");  \n",
    "            double humidity = main.getDouble(\"humidity\");     \n",
    "            // Print the weather information  \n",
    "            System.out.println(\"Chatbot: The temperature in \" + city + \" is \" + temperature + \"°C with \" + humidity + \"% humidity.\");           \n",
    "        } catch (IOException | JSONException e) {  \n",
    "            // Handle any exceptions that occur during the API request or JSON parsing  \n",
    "            e.printStackTrace();  \n",
    "        }  \n",
    "    }  \n",
    "}  "
   ]
  },
  {
   "cell_type": "code",
   "execution_count": null,
   "metadata": {},
   "outputs": [],
   "source": []
  }
 ],
 "metadata": {
  "kernelspec": {
   "display_name": "Java",
   "language": "java",
   "name": "java"
  },
  "language_info": {
   "codemirror_mode": "java",
   "file_extension": ".jshell",
   "mimetype": "text/x-java-source",
   "name": "java",
   "pygments_lexer": "java",
   "version": "17.0.9+9-Ubuntu-120.04"
  }
 },
 "nbformat": 4,
 "nbformat_minor": 2
}
