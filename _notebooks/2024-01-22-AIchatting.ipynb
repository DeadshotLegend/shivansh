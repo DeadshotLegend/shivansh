{
 "cells": [
  {
   "cell_type": "markdown",
   "metadata": {},
   "source": [
    "---\n",
    "toc: true\n",
    "comments: true\n",
    "layout: post\n",
    "title: Research on AI Chatting and Machine Learning\n",
    "description: In depth research about how AI Chatting works, the history of AI Chatting, and how Machine Learning is changing the industry of AI Chatting\n",
    "type: hacks\n",
    "courses: { csa: {week: 19} }\n",
    "authors: Shivansh Goel\n",
    "---"
   ]
  },
  {
   "cell_type": "markdown",
   "metadata": {},
   "source": [
    "# Basic Information on AI Chatting\n",
    "AI chatbots are programmed to provide human-like conversations to customers or viewers.\n",
    "AI Chat\n",
    "\n",
    "\n",
    "\n",
    "\n",
    "# Different Types of AI Chatbots\n",
    "There are many different types of AI Chatbots, and they all provide different capabalities and uses:\n",
    "\n",
    "- Rule-based chatbots. Rule-based chatbots are also known as decision-tree chatbots. These are the simplest chatbots, which attempt to map out customer conversations to narrow down the customer’s intent. Rule-based chatbots do not learn over time and only work in the specific scenarios that you design them for.\n",
    "\n",
    "- Menu-based chatbots: Menu-based chatbots provide a selection of options to the end user. These options will eventually lead to an answer to the user’s query. While these kinds of chatbots may be well suited for simple solutions, they may frustrate users with more complicated questions.\n",
    "\n",
    "- Hybrid chatbots: Hybrid chatbots combine automation technology with a live representative. The chatbots can respond to common questions, while a person will address the more complicated issues.\n",
    "\n",
    "- Keyword-based chatbots: Keyword-based chatbots are programmed to analyze text for keyword combinations and generate a relevant response. This allows for more flexible and natural conversations and users can ask more complex questions.\n",
    "\n",
    "- Machine-learning chatbots. Machine-learning chatbots, also known as artificial intelligence (AI) chatbots, are the most sophisticated. They enable users to ask advanced, open-ended questions and offer the most natural responses. These chatbots continue to learn from conversations and improve their responses over time."
   ]
  }
 ],
 "metadata": {
  "kernelspec": {
   "display_name": "Java",
   "language": "java",
   "name": "java"
  },
  "language_info": {
   "name": "java"
  }
 },
 "nbformat": 4,
 "nbformat_minor": 2
}
