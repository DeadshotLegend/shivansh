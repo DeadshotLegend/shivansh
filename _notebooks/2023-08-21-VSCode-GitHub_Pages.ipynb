{
 "cells": [
  {
   "attachments": {},
   "cell_type": "markdown",
   "metadata": {},
   "source": [
    "# Shivansh Goel Lab Notebook"
   ]
  },
  {
   "attachments": {},
   "cell_type": "markdown",
   "metadata": {},
   "source": [
    "### Linux Commands that we use Frequently\n",
    "\n",
    "ls - list all items in a directory\n",
    "\n",
    "cd - change directory\n",
    "\n",
    "mkdir - make directory\n",
    "\n",
    "sudo - enter admin priveleges\n",
    "\n",
    "code - enter into GUI (vscode) \n",
    "\n",
    "git clone - clones git repository into own \n",
    "\n",
    "cat - view a file"
   ]
  },
  {
   "cell_type": "code",
   "execution_count": 1,
   "metadata": {},
   "outputs": [
    {
     "name": "stdout",
     "output_type": "stream",
     "text": [
      "Hello, shivansh running /home/shivansh/anaconda3/bin/python\n",
      "You will be asked 7 questions.\n",
      "Are you ready to take a test! Press Enter key to begin. Best of luck :)\n",
      "Question 1 : What does the command 'ls' do\n",
      "list all items in a directoryh is incorrect! Better Luck next time.\n",
      "Question 2 : What does the command 'cd' do\n",
      "change directory is correct! Good Job!\n",
      "Question 3 : What does the command 'mkdir' do\n",
      "make directory is correct! Good Job!\n",
      "Question 4 : What does the command 'sudo' do\n",
      "enter admin priveleges is correct! Good Job!\n",
      "Question 5 : What does the command 'code' do\n",
      "enter into GUI (vscode) is correct! Good Job!\n",
      "Question 6 : What does the command 'git clone' do?\n",
      "clones git repsoitory into won computer is incorrect! Better Luck next time.\n",
      "Question 7 : What does the command 'cat' do\n",
      "views a file is correct! Good Job!\n",
      "shivansh you scored 5/7\n",
      "Total Percentage: 71.43%\n"
     ]
    }
   ],
   "source": [
    "import getpass, sys\n",
    "\n",
    "# method to display question and get user's answers\n",
    "def question_with_response(prompt, qCount):\n",
    "    print(\"Question \" + str(qCount)  + \" : \" + prompt)\n",
    "    msg = input()\n",
    "    return msg\n",
    "\n",
    "# dictionary to hold questions and answers as key : value pairs\n",
    "questionsDict = {\"What does the command 'ls' do\": \"list all items in a directory\",\n",
    "    \"What does the command 'cd' do\": \"change directory\", \n",
    "    \"What does the command 'mkdir' do\": \"make directory\",\n",
    "    \"What does the command 'sudo' do\": \"enter admin priveleges\",\n",
    "    \"What does the command 'code' do\": \"enter into GUI (vscode)\",\n",
    "    \"What does the command 'git clone' do?\": \"clones git repository into own computer\",\n",
    "    \"What does the command 'cat' do\": \"views a file\"\n",
    "}\n",
    "\n",
    "# number of questions as length of the dictionary\n",
    "questions = len(questionsDict)\n",
    "\n",
    "# set correct to 0\n",
    "correct = 0\n",
    "\n",
    "\n",
    "print('Hello, ' + getpass.getuser() + \" running \" + sys.executable)\n",
    "print(\"You will be asked \" + str(questions) + \" questions.\")\n",
    "print(\"Are you ready to take a test! Press Enter key to begin. Best of luck :)\")\n",
    "input()\n",
    "\n",
    "questionCount = 0\n",
    "# iterate over list of keys from the dictionary. pass dictionary key as question to the question_with_response function\n",
    "for key in questionsDict:\n",
    "    questionCount += 1\n",
    "    rsp = question_with_response(key, questionCount)\n",
    "    # compare the value from the dictionary to the user's input\n",
    "    if rsp.lower() == questionsDict[key].lower():\n",
    "        print(rsp + \" is correct! Good Job!\")\n",
    "        correct += 1\n",
    "    else:\n",
    "        print(rsp + \" is incorrect! Better Luck next time.\")\n",
    "\n",
    "# print final score    \n",
    "print(getpass.getuser() + \" you scored \" + str(correct) +\"/\" + str(questions))\n",
    "\n",
    "# calculate percentage\n",
    "page = correct/questions * 100\n",
    "\n",
    "# print percentage\n",
    "\n",
    "\n",
    "print(\"Total Percentage: \" + str (format(page,\".2f\")) + \"%\")"
   ]
  },
  {
   "attachments": {},
   "cell_type": "markdown",
   "metadata": {},
   "source": [
    "### Basic Java Concepts"
   ]
  }
 ],
 "metadata": {
  "kernelspec": {
   "display_name": "Python 3 (ipykernel)",
   "language": "python",
   "name": "python3"
  },
  "language_info": {
   "codemirror_mode": {
    "name": "ipython",
    "version": 3
   },
   "file_extension": ".py",
   "mimetype": "text/x-python",
   "name": "python",
   "nbconvert_exporter": "python",
   "pygments_lexer": "ipython3",
   "version": "3.9.12"
  }
 },
 "nbformat": 4,
 "nbformat_minor": 2
}
