{
 "cells": [
  {
   "attachments": {},
   "cell_type": "markdown",
   "metadata": {},
   "source": []
  },
  {
   "cell_type": "markdown",
   "metadata": {},
   "source": [
    "# Java Hello Hacks"
   ]
  },
  {
   "cell_type": "code",
   "execution_count": 8,
   "metadata": {},
   "outputs": [],
   "source": [
    "public class Class1 {\n",
    "\n",
    "    public void Person(String name, int age){\n",
    "        System.out.println(\"The name of the person is: \" + name + \"The age of the person is: \" + age);\n",
    "    }\n",
    "\n",
    "    public void Dessert(String type, int cost) {\n",
    "        System.out.println(\"The type of the dessert is: \" + type + \"The cost of the desert is: \" + cost);\n",
    "    }\n",
    "\n",
    "    public static void main(String[] args){\n",
    "        Person person1 = new Person(\"Person1\", 15);\n",
    "        Dessert dessert1 = new Dessert(\"Ice Cream\", 15);\n",
    "    }    \n",
    "\n",
    "}"
   ]
  },
  {
   "cell_type": "code",
   "execution_count": null,
   "metadata": {},
   "outputs": [],
   "source": [
    "// Java Calculator Hack\n",
    "\n",
    "public class "
   ]
  },
  {
   "cell_type": "markdown",
   "metadata": {},
   "source": [
    "# Java Console Hacks"
   ]
  },
  {
   "cell_type": "code",
   "execution_count": 15,
   "metadata": {},
   "outputs": [],
   "source": [
    "// Showing the use of Hashmaps, Arrays, and Arraylists\n",
    "import java.util.ArrayList; // import the ArrayList class\n",
    "import java.util.HashMap; // import Hashmap Class\n",
    "public class Class2{\n",
    "\n",
    "public static void main(String[] args) {\n",
    "// Fixed Array\n",
    "numbers = new int[5];\n",
    "int[] numbers = {1, 2, 3, 4, 5, 6};\n",
    "System.out.println(numbers);\n",
    "\n",
    "// ArrayList\n",
    "ArrayList<String> integers = new ArrayList<String>();\n",
    "    integers.add(\"1\");\n",
    "    integers.add(\"2\");\n",
    "    integers.add(\"3\");\n",
    "    integers.add(\"4\");\n",
    "    System.out.println(integers);\n",
    "// Different methods using ArrayList\n",
    "// Changing at item in arraylist\n",
    "integers.set(0, \"1\");\n",
    "// Hashmap \n",
    "HashMap<String, Int> people = new HashMap<String, Int>();\n",
    "// Putting A Person Name and their Age\n",
    "people.put(\"Person1\", 15);\n",
    "people.put(\"Person2\", 16);\n",
    "people.put(\"Person3\", 17);\n",
    "people.put(\"Person4\", 18);\n",
    "System.out.println(people);\n",
    "\n",
    "\n",
    "\n",
    "\n",
    "}\n",
    "\n",
    "}"
   ]
  },
  {
   "cell_type": "code",
   "execution_count": 1,
   "metadata": {},
   "outputs": [],
   "source": [
    "import java.util.Scanner;\n",
    "import java.util.Random;\n",
    "\n",
    "public class RockPaperScissors {\n",
    "    public static void main(String[] args) {\n",
    "        // Getting input from the user\n",
    "        Scanner scanner = new Scanner(System.in);\n",
    "        \n",
    "        System.out.println(\"Choose one: rock,paper,scissors\");\n",
    "        String playerMove = scanner.nextLine();\n",
    "      \n",
    "        // Getting input from the computer\n",
    "        Random random = new Random();\n",
    "        int othernumber = random.nextInt(3);\n",
    "\n",
    "        String opponentMove;\n",
    "        if (othernumber == 0) {\n",
    "            opponentMove = \"rock\";\n",
    "        } else if (othernumber == 1) {\n",
    "            opponentMove = \"paper\";\n",
    "        } else {\n",
    "            opponentMove = \"scissors\";\n",
    "        }\n",
    "        System.out.println(\"Opponest chose: \" + opponentMove + \"!\");\n",
    "        \n",
    "    }\n",
    "}"
   ]
  },
  {
   "cell_type": "markdown",
   "metadata": {},
   "source": [
    "# Answer why you think this reorganization and AP indetification is important?\n",
    "Reorgnaizations nad AP identification is important because they show what pices of code you are suppossed to use for your individual projects and requirments."
   ]
  },
  {
   "cell_type": "markdown",
   "metadata": {},
   "source": []
  }
 ],
 "metadata": {
  "kernelspec": {
   "display_name": "Java",
   "language": "java",
   "name": "java"
  },
  "language_info": {
   "codemirror_mode": "java",
   "file_extension": ".jshell",
   "mimetype": "text/x-java-source",
   "name": "java",
   "pygments_lexer": "java",
   "version": "11.0.17+8-post-Ubuntu-1ubuntu220.04"
  },
  "orig_nbformat": 4
 },
 "nbformat": 4,
 "nbformat_minor": 2
}
