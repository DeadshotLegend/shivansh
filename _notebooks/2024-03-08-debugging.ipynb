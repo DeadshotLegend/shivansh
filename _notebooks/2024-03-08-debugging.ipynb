{
 "cells": [
  {
   "cell_type": "markdown",
   "metadata": {},
   "source": [
    "---\n",
    "toc: true\n",
    "comments: true\n",
    "layout: post\n",
    "title: Debugging\n",
    "description: Debugging\n",
    "type: hacks\n",
    "courses: { csa: {week: 25} }\n",
    "authors: Shivansh Goel\n",
    "---"
   ]
  },
  {
   "cell_type": "markdown",
   "metadata": {},
   "source": [
    "![]({{sute,baseyrk}}/images/debug1.png)\n",
    "![]({{sute,baseyrk}}/images/debug2.png)\n",
    "![]({{sute,baseyrk}}/images/debug3.png)\n",
    "![]({{sute,baseyrk}}/images/debug4.png)\n",
    "![]({{sute,baseyrk}}/images/debug5.png)\n",
    "![]({{sute,baseyrk}}/images/debug6.png)"
   ]
  },
  {
   "cell_type": "markdown",
   "metadata": {},
   "source": [
    "![]({{sute,baseyrk}}/images/debug1.png)\n",
    "![]({{sute,baseyrk}}/images/debug1.png)"
   ]
  }
 ],
 "metadata": {
  "kernelspec": {
   "display_name": "Java",
   "language": "java",
   "name": "java"
  },
  "language_info": {
   "name": "java"
  }
 },
 "nbformat": 4,
 "nbformat_minor": 2
}
