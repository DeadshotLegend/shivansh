{
 "cells": [
  {
   "cell_type": "markdown",
   "metadata": {},
   "source": [
    "---\n",
    "toc: true\n",
    "comments: true\n",
    "layout: post\n",
    "title: Debugging\n",
    "description: Debugging\n",
    "type: hacks\n",
    "courses: { csa: {week: 25} }\n",
    "authors: Shivansh Goel\n",
    "---"
   ]
  },
  {
   "cell_type": "markdown",
   "metadata": {},
   "source": [
    "![]({{sute,baseyrk}}/images/debug1.jpg)\n",
    "\n",
    "Checking code:\n",
    "// basic hello greeting\n",
    "\t@GetMapping(\"\")\n",
    "\tpublic String greeting() {\n",
    "\t\treturn \"Hello From Chatbot AI.\";\n",
    "\t}\n",
    "This is just testing if the basic Get from the AI Chatbot\n",
    "![]({{sute,baseyrk}}/images/debug2.jpg)\n",
    "\n",
    "Checking Code: \n",
    "// chat request mapping\n",
    "\t@GetMapping(\"/chat\")\n",
    "\tpublic String chat(@RequestParam String message) {\n",
    "\t\ttry {\n",
    "\t\t\t// user sends a message that is sent to chat gpt and a response is returned\n",
    "\t\t\tString response = getResponseFromAI(message);\n",
    "\t\t\tChat chat = new Chat(message, response, new Date(System.currentTimeMillis()), 1l);\n",
    "\t\t\tChat chatUpdated = chatJpaRepository.save(chat);\n",
    "\t\t\tSystem.out.println(\"Chat saved in db: \" + chatUpdated.getId());\n",
    "\t\t\treturn response;\n",
    "\t\t} catch (Exception e) {\n",
    "\t\t\te.printStackTrace();\n",
    "\t\t\treturn e.getMessage();\n",
    "\t\t}\n",
    "\t}\n",
    "\t\n",
    "![]({{sute,baseyrk}}/images/debug3.jpg)\n",
    "\n",
    "Checking code:\n",
    "@DeleteMapping(\"/chat/history/clear\")\n",
    "\tpublic String clearCharHistory() {\n",
    "\t\tList<Chat> \tchats = chatJpaRepository.deleteByPersonId(1l);\n",
    "\t\tJSONObject obj = new JSONObject();\n",
    "\t\tJSONArray list = new JSONArray();\n",
    "       \n",
    "\t\tfor (Chat c : chats) {\n",
    "\t\t\tSystem.out.println(c.getId());\n",
    "\t\t\t list.add(c.toJSON());\n",
    "\t\t}\n",
    "\t\t\n",
    "\t\tobj.put(\"chats\", list);\n",
    "\t\treturn obj.toJSONString();\n",
    "\t}\n",
    "\t\n",
    "    This is for clearing history\n",
    "![]({{sute,baseyrk}}/images/debug4.jpg)\n",
    "\n",
    "Checking code for:\n",
    "@GetMapping(\"/chat/history\")\n",
    "\tpublic String getAllChatsForUser() {\n",
    "\t\tList<Chat> \tchats = chatJpaRepository.findByPersonId(1l);\n",
    "\t\tJSONObject obj = new JSONObject();\n",
    "\t\tJSONArray list = new JSONArray();\n",
    "       \n",
    "\t\tfor (Chat c : chats) {\n",
    "\t\t\tSystem.out.println(c.getId());\n",
    "\t\t\t list.add(c.toJSON());\n",
    "\t\t}\n",
    "\t\t\n",
    "\t\tobj.put(\"chats\", list);\n",
    "\t\treturn obj.toString();\n",
    "\t}\n",
    "![]({{sute,baseyrk}}/images/debug5.jpg)\n",
    "![]({{sute,baseyrk}}/images/debug6.jpg)\n",
    "\n",
    "\n",
    "Reflection:\n",
    "All the code worked like last trimester with the review with the teacher"
   ]
  },
  {
   "cell_type": "markdown",
   "metadata": {},
   "source": [
    "![]({{sute,baseyrk}}/images/debug1.png)\n",
    "![]({{sute,baseyrk}}/images/debug1.png)"
   ]
  }
 ],
 "metadata": {
  "kernelspec": {
   "display_name": "Java",
   "language": "java",
   "name": "java"
  },
  "language_info": {
   "name": "java"
  }
 },
 "nbformat": 4,
 "nbformat_minor": 2
}
