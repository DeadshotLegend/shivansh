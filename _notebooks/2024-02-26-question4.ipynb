{
 "cells": [
  {
   "cell_type": "markdown",
   "metadata": {},
   "source": [
    "---\n",
    "toc: true\n",
    "comments: true\n",
    "layout: post\n",
    "title: Question 4 2015 FRQ\n",
    "description: Question 4 2015 FRQ\n",
    "type: hacks\n",
    "courses: { csa: {week: 24} }\n",
    "authors: Shivansh Goel\n",
    "---"
   ]
  },
  {
   "cell_type": "markdown",
   "metadata": {},
   "source": [
    "### (a) A number group represents a group of integers defined in some way. It could be empty, or it could contain one or more integers.\n",
    "\n",
    "Write an interface named NumberGroup that represents a group of integers. The interface should have a single contains method that determines if a given integer is in the group. For example, if group1 is of type NumberGroup, and it contains only the two numbers -5 and 3, then group1.contains(-5) would return true, and group1.contains(2) would return false. Write the complete NumberGroup interface. It must have exactly one method."
   ]
  },
  {
   "cell_type": "markdown",
   "metadata": {},
   "source": [
    " ### Solution\n",
    "\n",
    "The NumberGroup interface sets the rules for groups of numbers, the Test class runs tests on these groups, and the NormalNumberGroup class is one type of group that follows the rules and can check if certain numbers are in its list.\n",
    "\n",
    "\n"
   ]
  },
  {
   "cell_type": "code",
   "execution_count": 1,
   "metadata": {
    "vscode": {
     "languageId": "java"
    }
   },
   "outputs": [
    {
     "name": "stdout",
     "output_type": "stream",
     "text": [
      "Testing number group:\n",
      "Group contains 5: true\n",
      "Group contains -3: true\n",
      "Group contains 100: false\n",
      "Group contains 23: false\n"
     ]
    }
   ],
   "source": [
    "public interface NumberGroup {\n",
    "    boolean contains(int number);\n",
    "}\n",
    "\n",
    "class Object {\n",
    "    public static void main(String[] args) {\n",
    "        testNumberGroup();\n",
    "    }\n",
    "    // tests the contains method of the NumberGroup implementation \n",
    "    // for various numbers and prints the results.\n",
    "    public static void testNumberGroup() {\n",
    "        NumberGroup group = createNumberGroup();\n",
    "        System.out.println(\"Testing number group:\");\n",
    "        System.out.println(\"Group contains 5: \" + group.contains(5)); // contains 5, true\n",
    "        System.out.println(\"Group contains -3: \" + group.contains(-3)); // contains -3, true\n",
    "        System.out.println(\"Group contains 100: \" + group.contains(100)); // does not contain 100, false\n",
    "        System.out.println(\"Group contains 23: \" + group.contains(23)); // does not contain 23, false\n",
    "    }\n",
    "    // method is responsible for creating an instance \n",
    "    // of a class that implements the NumberGroup interface.\n",
    "    public static NumberGroup createNumberGroup() {\n",
    "        return new NormalNumberGroup();\n",
    "        // returns an instance of the NormalNumberGroup class.\n",
    "    }\n",
    "}\n",
    "// implements the NumberGroup interface, which means \n",
    "// it must provide an implementation for the contains method.\n",
    "class NormalNumberGroup implements NumberGroup {\n",
    "    private int[] numbers = {5, -3}; // array to hold the numbers in the group\n",
    "\n",
    "    @Override\n",
    "    public boolean contains(int number) {\n",
    "        for (int n : numbers) { // iterate through the numbers in the group\n",
    "            if (n == number) { // check if the current number matches the given number\n",
    "                return true; // return true if the number is found in the group\n",
    "            }\n",
    "        }\n",
    "        return false; // return false if the number is not found in the group\n",
    "    }\n",
    "}\n",
    "Object.main(null);"
   ]
  },
  {
   "cell_type": "markdown",
   "metadata": {},
   "source": [
    "### (b) A range represents a number group that contains all (and only) the integers between a minimum value and a maximum value, inclusive. Write the Range class, which is a NumberGroup. The Range class represents the group of int values that range from a given minimum value up through a given maximum value, inclusive. For example,the declaration\n",
    "\n",
    "NumberGroup range1 = new Range(-3, 2);\n",
    "\n",
    "represents the group of integer values -3, -2, -1, 0, 1, 2.\n",
    "\n",
    "Write the complete Range class. Include all necessary instance variables and methods as well as a constructor that takes two int parameters. The first parameter represents the minimum value, and the second parameter represents the maximum value of the range. You may assume that the minimum is less than or equal to the maximum."
   ]
  },
  {
   "cell_type": "markdown",
   "metadata": {},
   "source": [
    "### Solution\n",
    "the code creates a class to represent a range of numbers and checks if certain numbers are within that range. It then tests this functionality using the main method and prints the results. The NumberGroup interface sets rules for classes that represent groups of numbers.\n"
   ]
  },
  {
   "cell_type": "code",
   "execution_count": 2,
   "metadata": {
    "vscode": {
     "languageId": "java"
    }
   },
   "outputs": [
    {
     "ename": "CompilationException",
     "evalue": "",
     "output_type": "error",
     "traceback": [
      "\u001b[1m\u001b[30m|   \u001b[1m\u001b[30mpublic class Range implements \u001b[0m\u001b[1m\u001b[30m\u001b[41mNumberGroup\u001b[0m\u001b[1m\u001b[30m {\u001b[0m",
      "\u001b[1m\u001b[31mcannot find symbol\u001b[0m",
      "\u001b[1m\u001b[31m  symbol:   class NumberGroup\u001b[0m",
      "",
      "\u001b[1m\u001b[30m|   \u001b[1m\u001b[30m    public static void testNumberGroup(\u001b[0m\u001b[1m\u001b[30m\u001b[41mNumberGroup\u001b[0m\u001b[1m\u001b[30m range) {\u001b[0m",
      "\u001b[1m\u001b[31mcannot find symbol\u001b[0m",
      "\u001b[1m\u001b[31m  symbol:   class NumberGroup\u001b[0m",
      "",
      "\u001b[1m\u001b[30m|   \u001b[1m\u001b[30m    \u001b[0m\u001b[1m\u001b[30m\u001b[41m@Override\u001b[0m\u001b[1m\u001b[30m\u001b[0m",
      "\u001b[1m\u001b[31mmethod does not override or implement a method from a supertype\u001b[0m",
      ""
     ]
    }
   ],
   "source": [
    "public class Range implements NumberGroup {\n",
    "    private int min; // minimum value of the range\n",
    "    private int max; // maximum value of the range\n",
    "\n",
    "    public Range(int min, int max) {\n",
    "        this.min = min;\n",
    "        this.max = max;\n",
    "    }\n",
    "\n",
    "    @Override\n",
    "    public boolean contains(int number) {\n",
    "        return number >= min && number <= max; // check if the number is within the range\n",
    "    }\n",
    "\n",
    "    public static void main(String[] args) {\n",
    "        Range range = new Range(10, 30); // create a range from 10 to 30\n",
    "        testNumberGroup(range); // call the test method with the created range\n",
    "    }\n",
    "\n",
    "    public static void testNumberGroup(NumberGroup range) {\n",
    "        System.out.println(\"Range contains 15: \" + range.contains(15)); // true\n",
    "        System.out.println(\"Range contains 25: \" + range.contains(25)); // true\n",
    "        System.out.println(\"Range contains 5: \" + range.contains(5)); // false\n",
    "    }\n",
    "}\n",
    "\n",
    "interface NumberGroup {\n",
    "    boolean contains(int number);\n",
    "}\n"
   ]
  },
  {
   "cell_type": "markdown",
   "metadata": {},
   "source": [
    "### (c) The MultipleGroups class (not shown) represents a collection of NumberGroup objects and isa NumberGroup. The MultipleGroups class stores the number groups in the instance variable groupList (shown below), which is initialized in the constructor.\n",
    "\n",
    "private List groupList;\n",
    "\n",
    "Write the MultipleGroups method contains. The method takes an integer and returns true if and only if the integer is contained in one or more of the number groups in groupList.\n",
    "\n",
    "For example, suppose multiple1 has been declared as an instance of MultipleGroups and consists of the three ranges created by the calls new Range(5, 8), new Range(10, 12), and new Range(1, 6). The following table shows the results of several calls to contains."
   ]
  },
  {
   "cell_type": "markdown",
   "metadata": {},
   "source": [
    "### Solution\n",
    "the code creates a class to represent a range of numbers and checks if certain numbers are within that range. It then tests this functionality using the main method and prints the results. The NumberGroup interface sets rules for classes that represent groups of numbers."
   ]
  },
  {
   "cell_type": "code",
   "execution_count": 1,
   "metadata": {
    "vscode": {
     "languageId": "java"
    }
   },
   "outputs": [
    {
     "ename": "CompilationException",
     "evalue": "",
     "output_type": "error",
     "traceback": [
      "\u001b[1m\u001b[30m|   \u001b[1m\u001b[30mpublic class Range implements \u001b[0m\u001b[1m\u001b[30m\u001b[41mNumberGroup\u001b[0m\u001b[1m\u001b[30m {\u001b[0m",
      "\u001b[1m\u001b[31mcannot find symbol\u001b[0m",
      "\u001b[1m\u001b[31m  symbol:   class NumberGroup\u001b[0m",
      "",
      "\u001b[1m\u001b[30m|   \u001b[1m\u001b[30m    public static void testNumberGroup(\u001b[0m\u001b[1m\u001b[30m\u001b[41mNumberGroup\u001b[0m\u001b[1m\u001b[30m range) {\u001b[0m",
      "\u001b[1m\u001b[31mcannot find symbol\u001b[0m",
      "\u001b[1m\u001b[31m  symbol:   class NumberGroup\u001b[0m",
      "",
      "\u001b[1m\u001b[30m|   \u001b[1m\u001b[30m    \u001b[0m\u001b[1m\u001b[30m\u001b[41m@Override\u001b[0m\u001b[1m\u001b[30m\u001b[0m",
      "\u001b[1m\u001b[31mmethod does not override or implement a method from a supertype\u001b[0m",
      ""
     ]
    }
   ],
   "source": [
    "public class Range implements NumberGroup {\n",
    "    private int start; // starting value of the range\n",
    "    private int end; // ending value of the range\n",
    "\n",
    "    public Range(int start, int end) {\n",
    "        this.start = start;\n",
    "        this.end = end;\n",
    "    }\n",
    "\n",
    "    @Override\n",
    "    public boolean contains(int number) {\n",
    "        return number >= start && number <= end; // check if the number is within the range\n",
    "    }\n",
    "\n",
    "    public static void main(String[] args) {\n",
    "        Range range = new Range(5, 15); // create a range from 5 to 15\n",
    "        testNumberGroup(range); // call the test method with the created range\n",
    "    }\n",
    "\n",
    "    public static void testNumberGroup(NumberGroup range) {\n",
    "        System.out.println(\"Range contains 10: \" + range.contains(10)); // true\n",
    "        System.out.println(\"Range contains 20: \" + range.contains(20)); // false\n",
    "        System.out.println(\"Range contains -5: \" + range.contains(-5)); // false\n",
    "    }\n",
    "}\n",
    "\n",
    "interface NumberGroup {\n",
    "    boolean contains(int number);\n",
    "}\n",
    "\n"
   ]
  },
  {
   "cell_type": "markdown",
   "metadata": {},
   "source": [
    "### Key Learnings and Reflection\n",
    "This FRQ enhanced my understanding of interfaces in Java and their role in defining a contract for classes to implement. The NumberGroup interface serves as a contract defining the behavior that classes like Range must implement. I also learned more about encapsulation as I encapusulated the start and end fields within the Range class which promoted better code organization and reduces the risk of unintended modifications by external classes. Overall, this FRQ deepened my understanding of Java programming concepts such as classes, interfaces, encapsulation, and testing methodologies, which builds up my Java skills.\n",
    "\n",
    "\n",
    "\n",
    "\n",
    "\n"
   ]
  }
 ],
 "metadata": {
  "kernelspec": {
   "display_name": "Java",
   "language": "java",
   "name": "java"
  },
  "language_info": {
   "codemirror_mode": "java",
   "file_extension": ".jshell",
   "mimetype": "text/x-java-source",
   "name": "Java",
   "pygments_lexer": "java",
   "version": "17.0.9+9-Ubuntu-120.04"
  }
 },
 "nbformat": 4,
 "nbformat_minor": 2
}
