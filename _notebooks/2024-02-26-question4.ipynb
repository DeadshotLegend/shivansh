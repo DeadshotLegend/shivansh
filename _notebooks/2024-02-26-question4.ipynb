{
 "cells": [
  {
   "cell_type": "markdown",
   "metadata": {},
   "source": [
    "---\n",
    "toc: true\n",
    "comments: true\n",
    "layout: post\n",
    "title: Question 4 2015 FRQ\n",
    "description: Question 4 2015 FRQ\n",
    "type: hacks\n",
    "courses: { csa: {week: 24} }\n",
    "authors: Shivansh Goel\n",
    "---"
   ]
  },
  {
   "cell_type": "markdown",
   "metadata": {},
   "source": [
    "### (a) A number group represents a group of integers defined in some way. It could be empty, or it could contain one or more integers.\n",
    "\n",
    "Write an interface named NumberGroup that represents a group of integers. The interface should have a single contains method that determines if a given integer is in the group. For example, if group1 is of type NumberGroup, and it contains only the two numbers -5 and 3, then group1.contains(-5) would return true, and group1.contains(2) would return false. Write the complete NumberGroup interface. It must have exactly one method."
   ]
  },
  {
   "cell_type": "markdown",
   "metadata": {},
   "source": [
    " ### Solution\n",
    "\n",
    "The NumberGroup interface sets the rules for groups of numbers, the Test class runs tests on these groups, and the NormalNumberGroup class is one type of group that follows the rules and can check if certain numbers are in its list.\n",
    "\n",
    "\n"
   ]
  },
  {
   "cell_type": "code",
   "execution_count": 3,
   "metadata": {
    "vscode": {
     "languageId": "java"
    }
   },
   "outputs": [
    {
     "name": "stdout",
     "output_type": "stream",
     "text": [
      "Testing number group:\n",
      "Group contains 5: true\n",
      "Group contains -3: true\n",
      "Group contains 100: false\n",
      "Group contains 23: false\n"
     ]
    }
   ],
   "source": [
    "public interface NumberGroup {\n",
    "    boolean contains(int number);\n",
    "}\n",
    "\n",
    "class Object {\n",
    "    public static void main(String[] args) {\n",
    "        testNumberGroup();\n",
    "    }\n",
    "    \n",
    "    public static void testNumberGroup() {\n",
    "        NumberGroup group = createNumberGroup();\n",
    "        System.out.println(\"Testing number group:\");\n",
    "        System.out.println(\"Group contains 5: \" + group.contains(5)); // contains 5, true\n",
    "        System.out.println(\"Group contains -3: \" + group.contains(-3)); // contains -3, true\n",
    "        System.out.println(\"Group contains 100: \" + group.contains(100)); // does not contain 100, false\n",
    "        System.out.println(\"Group contains 23: \" + group.contains(23)); // does not contain 23, false\n",
    "    }\n",
    "    \n",
    "    public static NumberGroup createNumberGroup() {\n",
    "        return new NormalNumberGroup();\n",
    "    }\n",
    "}\n",
    "\n",
    "class NormalNumberGroup implements NumberGroup {\n",
    "    private int[] numbers = {5, -3}; // array to hold the numbers in the group\n",
    "\n",
    "    @Override\n",
    "    public boolean contains(int number) {\n",
    "        for (int n : numbers) { // iterate through the numbers in the group\n",
    "            if (n == number) { // check if the current number matches the given number\n",
    "                return true; // return true if the number is found in the group\n",
    "            }\n",
    "        }\n",
    "        return false; // return false if the number is not found in the group\n",
    "    }\n",
    "}\n",
    "Object.main(null);"
   ]
  },
  {
   "cell_type": "markdown",
   "metadata": {},
   "source": [
    "### (b) A range represents a number group that contains all (and only) the integers between a minimum value and a maximum value, inclusive. Write the Range class, which is a NumberGroup. The Range class represents the group of int values that range from a given minimum value up through a given maximum value, inclusive. For example,the declaration\n",
    "\n",
    "NumberGroup range1 = new Range(-3, 2);\n",
    "\n",
    "represents the group of integer values -3, -2, -1, 0, 1, 2.\n",
    "\n",
    "Write the complete Range class. Include all necessary instance variables and methods as well as a constructor that takes two int parameters. The first parameter represents the minimum value, and the second parameter represents the maximum value of the range. You may assume that the minimum is less than or equal to the maximum."
   ]
  },
  {
   "cell_type": "markdown",
   "metadata": {},
   "source": [
    "### Solution\n",
    "\n"
   ]
  }
 ],
 "metadata": {
  "kernelspec": {
   "display_name": "Java",
   "language": "java",
   "name": "java"
  },
  "language_info": {
   "codemirror_mode": "java",
   "file_extension": ".jshell",
   "mimetype": "text/x-java-source",
   "name": "Java",
   "pygments_lexer": "java",
   "version": "17.0.9+9-Ubuntu-120.04"
  }
 },
 "nbformat": 4,
 "nbformat_minor": 2
}
