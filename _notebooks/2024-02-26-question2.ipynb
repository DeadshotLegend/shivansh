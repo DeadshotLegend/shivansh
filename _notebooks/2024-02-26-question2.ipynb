{
 "cells": [
  {
   "cell_type": "markdown",
   "metadata": {},
   "source": [
    "---\n",
    "toc: true\n",
    "comments: true\n",
    "layout: post\n",
    "title: Question 2 2015 FRQ\n",
    "description: Question 2 2015 FRQ\n",
    "type: hacks\n",
    "courses: { csa: {week: 24} }\n",
    "authors: Shivansh Goel\n",
    "---"
   ]
  },
  {
   "cell_type": "markdown",
   "metadata": {},
   "source": [
    "### Consider a guessing game in which a player tries to guess a hidden word. The hidden word contains only capital letters and has a length known to the player. A guess contains only capital letters and has the same length as the hidden word.\n",
    "\n",
    "After a guess is made, the player is given a hint that is based on a comparison between the hidden word and the guess. Each position in the hint contains a character that corresponds to the letter in the same position in the guess. The following rules determine the characters that appear in the hint.\n",
    "\n",
    "A table is shown with two columns titled If the letter in the guess is... on the left and the corresponding character in the hint is on the right. The first row reads also in the same position in the hidden word on the left, and the matching letter on the right. The second row reads also in the hidden word but in a different position on the left, and a plus sign on the right. The third row reads not in the hidden word on the left, and an asterisk on the right.\n",
    "\n",
    "The HiddenWord class will be used to represent the hidden word in the game. The hidden word is passed to the constructor. The class contains a method, getHint, that takes a guess and produces a hint.\n",
    "\n",
    "For example, suppose the variable puzzle is declared as follows.\n",
    "\n",
    "\n",
    "\n",
    "HiddenWord puzzle = new HiddenWord(\"HARPS\");\n",
    "\n",
    "\n",
    "The following table shows several guesses and the hints that would be produced."
   ]
  },
  {
   "cell_type": "markdown",
   "metadata": {},
   "source": [
    "### Solution\n",
    "The code simulates a word guessing game where the player tries to guess a hidden word. The getHint method provides hints based on the player's guesses, indicating correct letters in their correct positions, correct letters in incorrect positions, and incorrect letters. the getHint method compares each letter of the guessed word with the corresponding letter of the hidden word. Based on the comparison results, it constructs a hint string that indicates correct letters in their correct positions, correct letters in incorrect positions, and incorrect letters. Finally, it returns the hint string."
   ]
  },
  {
   "cell_type": "code",
   "execution_count": 1,
   "metadata": {
    "vscode": {
     "languageId": "java"
    }
   },
   "outputs": [
    {
     "name": "stdout",
     "output_type": "stream",
     "text": [
      "+A+++\n",
      "H****\n",
      "H*++*\n",
      "HAR*S\n",
      "HARPS\n"
     ]
    }
   ],
   "source": [
    "public class HiddenWord {\n",
    "    private String word;\n",
    "\n",
    "    public HiddenWord(String word) {\n",
    "        this.word = word;\n",
    "    }\n",
    "\n",
    "    public String getHint(String guess) {\n",
    "        StringBuilder hint = new StringBuilder();\n",
    "    \n",
    "        for (int i = 0; i < word.length(); i++) {\n",
    "            char guessedLetter = guess.charAt(i);\n",
    "            char actualLetter = word.charAt(i);\n",
    "    \n",
    "            if (guessedLetter == actualLetter) {\n",
    "                hint.append(actualLetter); \n",
    "            } else if (word.contains(Character.toString(guessedLetter))) {\n",
    "                hint.append('+'); \n",
    "            } else {\n",
    "                hint.append('*'); \n",
    "            }\n",
    "        }\n",
    "        return hint.toString();\n",
    "    }    \n",
    "\n",
    "    public static void main(String[] args) {\n",
    "        HiddenWord puzzle = new HiddenWord(\"HARPS\");\n",
    "\n",
    "        System.out.println(puzzle.getHint(\"AAAAA\")); \n",
    "        System.out.println(puzzle.getHint(\"HELLO\"));   \n",
    "        System.out.println(puzzle.getHint(\"HEART\"));   \n",
    "        System.out.println(puzzle.getHint(\"HARMS\")); \n",
    "        System.out.println(puzzle.getHint(\"HARPS\"));   \n",
    "    }\n",
    "}\n",
    "\n",
    "HiddenWord.main(null);\n"
   ]
  }
 ],
 "metadata": {
  "kernelspec": {
   "display_name": "Java",
   "language": "java",
   "name": "java"
  },
  "language_info": {
   "codemirror_mode": "java",
   "file_extension": ".jshell",
   "mimetype": "text/x-java-source",
   "name": "Java",
   "pygments_lexer": "java",
   "version": "17.0.9+9-Ubuntu-120.04"
  }
 },
 "nbformat": 4,
 "nbformat_minor": 2
}
