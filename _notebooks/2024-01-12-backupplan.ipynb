{
 "cells": [
  {
   "cell_type": "markdown",
   "metadata": {},
   "source": [
    "---\n",
    "toc: true\n",
    "comments: true\n",
    "layout: post\n",
    "title: Backup Project Plan\n",
    "description: Backup Plan Idea Criteria and Segments\n",
    "type: hacks\n",
    "courses: { csa: {week: 17} }\n",
    "authors: Shivansh Goel\n",
    "---"
   ]
  },
  {
   "cell_type": "markdown",
   "metadata": {},
   "source": [
    "# Backup Plan Idea Criteria and Segments\n",
    "Overall description of the project: \n",
    "Create a website which has data, chatbots, practice problems, course information, study material, and lessons for various courses in Del Norte High School.\n",
    "\n",
    "Criteria:\n",
    "- Spring Framework will be used with Spring REST Services and Spring Security\n",
    "- Implementing JWT, JPA, and SQL\n",
    "- API: Predictionm of the scores or placement based on the overall school's preformance levels which is calculated anually by the California Department of Education.\n",
    "    - Description of the API: A school’s score or placement on the API is designed to be an indicator of a school’s performance level and is calculated annually by the California Department of Education\n",
    "\n",
    "- Parent class for basic Del Norte High School course\n",
    "- Inheritance used when the various Child classes (the different courses of Del Norte High School) extends Parent Class.\n",
    "- Data recieved from Overall Grade of class, time for homework, AP Exam Scores, Passing percentage, Prerequsites, materials needed, and study material.\n",
    "- Log-in page for individual progress and customization of website.\n",
    "\n",
    "\n",
    "\n"
   ]
  },
  {
   "cell_type": "code",
   "execution_count": null,
   "metadata": {},
   "outputs": [],
   "source": []
  }
 ],
 "metadata": {
  "kernelspec": {
   "display_name": "Java",
   "language": "java",
   "name": "java"
  },
  "language_info": {
   "name": "java"
  }
 },
 "nbformat": 4,
 "nbformat_minor": 2
}
