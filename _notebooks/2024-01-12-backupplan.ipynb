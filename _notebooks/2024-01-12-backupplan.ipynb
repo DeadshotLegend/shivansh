{
 "cells": [
  {
   "cell_type": "markdown",
   "metadata": {},
   "source": [
    "---\n",
    "toc: true\n",
    "comments: true\n",
    "layout: post\n",
    "title: Backup Project Plan\n",
    "description: Backup Plan Idea Criteria and Segments\n",
    "type: hacks\n",
    "courses: { csa: {week: 17} }\n",
    "authors: Shivansh Goel\n",
    "---"
   ]
  },
  {
   "cell_type": "markdown",
   "metadata": {},
   "source": [
    "# Backup Plan Idea Criteria and Segments\n",
    "Overall description of the project: \n",
    "Create a website which has data, chatbots, practice problems, course information, study material, and lessons for various courses in Del Norte High School.\n",
    "\n",
    "Criteria:\n",
    "- Parent class for basic Del Norte High School course\n",
    "- Inheritance used when the various Child classes (the different courses of Del Norte High School) extends Parent Class.\n",
    "- Data recieved from Overall Grade of class, time for homework, AP Exam Scores, Passing percentage, Prerequsites, materials needed, and study material.\n",
    "- Log-in page for individual progress and customization of website.\n",
    "- Backend: Using Java\n",
    "- Frontend: Using Javascript, HTML , SASS, CSS\n"
   ]
  },
  {
   "cell_type": "code",
   "execution_count": null,
   "metadata": {},
   "outputs": [],
   "source": []
  }
 ],
 "metadata": {
  "language_info": {
   "name": "python"
  }
 },
 "nbformat": 4,
 "nbformat_minor": 2
}
