{
 "cells": [
  {
   "cell_type": "markdown",
   "metadata": {},
   "source": [
    "---\n",
    "toc: true\n",
    "comments: true\n",
    "layout: post\n",
    "title: Question 37 Collegeboard Question\n",
    "description: Description of jhow to solve Question 37 Collegeboard Question\n",
    "type: hacks\n",
    "courses: { csa: {week: 18} }\n",
    "authors: Shivansh Goel\n",
    "---"
   ]
  },
  {
   "cell_type": "markdown",
   "metadata": {},
   "source": [
    "# Screenshot Of Question 37\n",
    "![Screenshot]({{ site.baseurl }}/images/question37collegeboard.JPG)\n"
   ]
  },
  {
   "cell_type": "code",
   "execution_count": null,
   "metadata": {
    "vscode": {
     "languageId": "java"
    }
   },
   "outputs": [],
   "source": [
    "// Problem Given\n",
    "public static String concatWords(String[] words, int StartIndex)\n",
    "{\n",
    "    String result = \"\";\n",
    "\n",
    "    /* missing code */\n",
    "\n",
    "    return result;\n",
    "}"
   ]
  },
  {
   "cell_type": "code",
   "execution_count": 3,
   "metadata": {
    "vscode": {
     "languageId": "java"
    }
   },
   "outputs": [],
   "source": [
    "public static String concatWords(String[] words, int StartIndex)\n",
    "{\n",
    "    String result = \"\";\n",
    "\n",
    "    int k = words.length - 1;\n",
    "    while (k >= startIndex)\n",
    "    {\n",
    "        result += words[k];\n",
    "        k--;\n",
    "    }\n",
    "\n",
    "    return result;\n",
    "}"
   ]
  },
  {
   "cell_type": "markdown",
   "metadata": {},
   "source": [
    "## Explanation of Code\n",
    "The first step is to initalize index(k). The variable k is initialized to the last index of the words array (words.length - 1). The second set is settuping the while loop for concatenation, the while loop continues as long as k is greater than or equal to the specified startIndex. Inside the loop, the current element at index k in the words array is concatenated to the result string. The third step is to moving to the previous element, after concatenating the current element, the index k is decremented, moving to the previous element in reverse order. Then then you must return the resulted string which is the final result is the concatenated string containing elements from the words array in reverse order starting from the specified startIndex. "
   ]
  },
  {
   "cell_type": "code",
   "execution_count": 4,
   "metadata": {
    "vscode": {
     "languageId": "java"
    }
   },
   "outputs": [],
   "source": [
    "public static String concatWords(String[] words, int StartIndex)\n",
    "{\n",
    "    String result = \"\";\n",
    "\n",
    "    for (int k = 0; k <= words.length / 2; k++)\n",
    "    {\n",
    "        temp[k] = words[words.length - k - 1];\n",
    "        temp[words.length - k -1] = words[k];\n",
    "    }\n",
    "\n",
    "    for (int k = 0; k < temp.length - startIndex; k++)\n",
    "    {\n",
    "        result += temp[k];\n",
    "    }\n",
    "\n",
    "    return result;\n",
    "}"
   ]
  },
  {
   "cell_type": "markdown",
   "metadata": {},
   "source": [
    "## Explanation of Code\n",
    "A temporary array temp is created to store the reversed elements of the words array. Then it reverses the elements: The first for loop iterates through the first half of the words array (up to words.length / 2). During each iteration, it swaps the elements at positions k and words.length - k - 1 in the temp array, effectively reversing the order of elements.\n",
    "Then the next step is to concatenate elements starting from startIndex: The second for loop iterates through the reversed temp array, starting from the beginning, and concatenates the elements to the result string. It stops when it reaches the specified startIndex.\n",
    "Then the last step is to return the resulting string: The final result is the concatenated string containing reversed elements from the words array starting from the specified startIndex."
   ]
  },
  {
   "cell_type": "code",
   "execution_count": null,
   "metadata": {
    "vscode": {
     "languageId": "java"
    }
   },
   "outputs": [],
   "source": [
    "// Another Response: \n",
    "public static String concatWords(String[] words, int startIndex) {\n",
    "    String result = \"\";\n",
    "\n",
    "    // Check if the startIndex is within bounds\n",
    "    if (startIndex >= 0 && startIndex < words.length) {\n",
    "        // Iterate through the words array in reverse order starting from startIndex\n",
    "        for (int i = words.length - 1; i >= startIndex; i--) {\n",
    "            result += words[i];\n",
    "        }\n",
    "    }\n",
    "\n",
    "    return result;\n",
    "}\n"
   ]
  },
  {
   "cell_type": "markdown",
   "metadata": {},
   "source": [
    "## Explanation of the Code:\n",
    "This code checks if the startIndex is within the bounds of the words array before iterating through the array in reverse order, concatenating the elements to the result string. The result string will contain the elements from startIndex to the end of the array in reverse order."
   ]
  }
 ],
 "metadata": {
  "kernelspec": {
   "display_name": "Java",
   "language": "java",
   "name": "java"
  },
  "language_info": {
   "codemirror_mode": "java",
   "file_extension": ".jshell",
   "mimetype": "text/x-java-source",
   "name": "Java",
   "pygments_lexer": "java",
   "version": "17.0.9+9-Ubuntu-120.04"
  }
 },
 "nbformat": 4,
 "nbformat_minor": 2
}
