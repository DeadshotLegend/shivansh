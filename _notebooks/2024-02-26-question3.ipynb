{
 "cells": [
  {
   "cell_type": "markdown",
   "metadata": {},
   "source": [
    "---\n",
    "toc: true\n",
    "comments: true\n",
    "layout: post\n",
    "title: Question 3 2015 FRQ\n",
    "description: Question 3 2015 FRQ\n",
    "type: hacks\n",
    "courses: { csa: {week: 24} }\n",
    "authors: Shivansh Goel\n",
    "---"
   ]
  },
  {
   "cell_type": "markdown",
   "metadata": {
    "vscode": {
     "languageId": "java"
    }
   },
   "source": [
    "### (a) Write the SparseArray method getValueAt. The method returns the value of the sparse array element at a given row and column in the sparse array. If the list entries contains an entry with the specified row and column, the value associated with the entry is returned. If there is no entry in entries corresponding to the specified row and column, 0 is returned. In the example above, the call sparse.getValueAt(3, 1) would return -9, and sparse.getValueAt(3, 3) would return 0.\n",
    "\n",
    "Complete method getValueAt below."
   ]
  },
  {
   "cell_type": "markdown",
   "metadata": {},
   "source": [
    "### Solutions\n",
    " the code defines classes to represent entries and sparse arrays. Entries are individual elements in the sparse array that have non-zero values. The sparse array efficiently stores these entries. The Main class tests the functionality of the sparse array by adding entries and retrieving values at specific positions."
   ]
  },
  {
   "cell_type": "code",
   "execution_count": null,
   "metadata": {
    "vscode": {
     "languageId": "java"
    }
   },
   "outputs": [],
   "source": [
    "import java.util.ArrayList;\n",
    "import java.util.List;\n",
    "\n",
    "class SparseArrayEntry { // class representing an entry in a sparse array\n",
    "    private int row; \n",
    "    private int col; \n",
    "    private int value; \n",
    "\n",
    "    public SparseArrayEntry(int row, int col, int value) { // constructor to initialize row, col, and value\n",
    "        this.row = row;\n",
    "        this.col = col;\n",
    "        this.value = value;\n",
    "    }\n",
    "\n",
    "    public int getRow() { \n",
    "        return row;\n",
    "    }\n",
    "\n",
    "    public int getCol() { \n",
    "        return col;\n",
    "    }\n",
    "\n",
    "    public int getValue() {\n",
    "        return value;\n",
    "    }\n",
    "}\n",
    "\n",
    "class SparseArray { // class representing a sparse array\n",
    "    private int numRows; \n",
    "    private int numCols; \n",
    "    private List<SparseArrayEntry> entries; // list to store non-zero entries in the sparse array\n",
    "\n",
    "    public SparseArray() { \n",
    "        entries = new ArrayList<>();\n",
    "    }\n",
    "\n",
    "    public int getNumRows() { \n",
    "        return numRows;\n",
    "    }\n",
    "\n",
    "    public int getNumCols() { \n",
    "        return numCols;\n",
    "    }\n",
    "\n",
    "    public int getValueAt(int row, int col) { \n",
    "        for (SparseArrayEntry entry : entries) { // iterate through the entries\n",
    "            if (entry.getRow() == row && entry.getCol() == col) { // if the entry matches the specified row and column\n",
    "                return entry.getValue(); // return the value of the entry\n",
    "            }\n",
    "        }\n",
    "        return 0; // if no entry found for specified row and column, return 0\n",
    "    }\n",
    "    \n",
    "    public void newEntry(SparseArrayEntry entry) { // add an entry to the sparse array\n",
    "        entries.add(entry); // add entry to list of entries\n",
    "        numRows = Math.max(numRows, entry.getRow() + 1); // update the number of rows if necessary\n",
    "        numCols = Math.max(numCols, entry.getCol() + 1); // update the number of columns if necessary\n",
    "    }\n",
    "}\n",
    "// Testing my code :D\n",
    "public class Main {\n",
    "    public static void main(String[] args) {\n",
    "        SparseArray sparse = new SparseArray();\n",
    "        sparse.newEntry(new SparseArrayEntry(1, 4, 4));\n",
    "        sparse.newEntry(new SparseArrayEntry(2, 0, 1));\n",
    "        sparse.newEntry(new SparseArrayEntry(3, 1, -9));\n",
    "        sparse.newEntry(new SparseArrayEntry(1, 1, 5));\n",
    "        \n",
    "        System.out.println(\"(1,4) value: \" + sparse.getValueAt(1, 4)); // entry\n",
    "        System.out.println(\"(2,0) value: \" + sparse.getValueAt(2, 0)); // entry\n",
    "        System.out.println(\"(12,23) value: \" + sparse.getValueAt(12, 23)); // not an entry\n",
    "    }\n",
    "}\n",
    "Main.main(null);"
   ]
  },
  {
   "cell_type": "markdown",
   "metadata": {},
   "source": [
    "### (b) Write the SparseArray method removeColumn. After removing a specified column from a sparsearray:\n",
    "\n",
    "All entries in the list entries with column indexes matching col are removed from the list.\n",
    "\n",
    "All entries in the list entries with column indexes greater than col are replaced by entries with column indexes that are decremented by one (moved one column to the left).\n",
    "\n",
    "The number of columns in the sparse array is adjusted to reflect the column removed.\n",
    "\n",
    "The sample object sparse from the beginning of the question is repeated for your convenience.\n",
    "\n"
   ]
  },
  {
   "cell_type": "markdown",
   "metadata": {},
   "source": [
    "### Solution\n",
    " the code defines classes to represent sparse arrays and their entries. Entries are individual elements in the sparse array that have non-zero values. The sparse array efficiently stores these entries. The Main class tests the functionality of the sparse array by adding entries, retrieving values, and removing columns."
   ]
  },
  {
   "cell_type": "code",
   "execution_count": null,
   "metadata": {
    "vscode": {
     "languageId": "java"
    }
   },
   "outputs": [],
   "source": [
    "import java.util.ArrayList;\n",
    "import java.util.Iterator;\n",
    "import java.util.List;\n",
    "\n",
    "class SparseArray { // class representing a sparse array\n",
    "    private int numRows; \n",
    "    private int numCols; \n",
    "    private List<SparseArrayEntry> entries; // list to store non-zero entries in the sparse array\n",
    "\n",
    "    public SparseArray() { \n",
    "        entries = new ArrayList<>();\n",
    "    }\n",
    "\n",
    "    public int getNumRows() { \n",
    "        return numRows;\n",
    "    }\n",
    "\n",
    "    public int getNumCols() { \n",
    "        return numCols;\n",
    "    }\n",
    "\n",
    "    public int getValueAt(int row, int col) { \n",
    "        for (SparseArrayEntry entry : entries) { // iterate through the entries\n",
    "            if (entry.getRow() == row && entry.getCol() == col) { // if the entry matches the specified row and column\n",
    "                return entry.getValue(); // return the value of the entry\n",
    "            }\n",
    "        }\n",
    "        return 0; // if no entry found for specified row and column, return 0\n",
    "    }\n",
    "    \n",
    "    public void addEntry(SparseArrayEntry entry) { // add an entry to the sparse array\n",
    "        entries.add(entry); // add entry to list of entries\n",
    "        numRows = Math.max(numRows, entry.getRow() + 1); // update the number of rows if necessary\n",
    "        numCols = Math.max(numCols, entry.getCol() + 1); // update the number of columns if necessary\n",
    "    }\n",
    "\n",
    "    public void removeColumn(int col) { // method to remove a column from sparse array\n",
    "        Iterator<SparseArrayEntry> iterator = entries.iterator(); // create an iterator to iterate through entries\n",
    "        while (iterator.hasNext()) { // iterate through entries\n",
    "            SparseArrayEntry entry = iterator.next();\n",
    "            if (entry.getCol() == col) { // if the entry's column matches the one to be removed\n",
    "                iterator.remove(); // remove the entry\n",
    "                for (SparseArrayEntry e : entries) { // update column indices of remaining entries\n",
    "                    if (e.getCol() > col) {\n",
    "                        e.setCol(e.getCol() - 1); // decrement column index\n",
    "                    }\n",
    "                }\n",
    "                numCols--; // decrement the number of columns\n",
    "            }\n",
    "        }\n",
    "    }\n",
    "}\n",
    "\n",
    "// Testing my code \n",
    "public class Main {\n",
    "    public static void main(String[] args) {\n",
    "        SparseArray sparse = new SparseArray();\n",
    "        sparse.addEntry(new SparseArrayEntry(1, 4, 4));\n",
    "        sparse.addEntry(new SparseArrayEntry(2, 0, 1));\n",
    "        sparse.addEntry(new SparseArrayEntry(3, 1, -9));\n",
    "        sparse.addEntry(new SparseArrayEntry(1, 1, 5));\n",
    "        \n",
    "        System.out.println(\"Before column removal:\");\n",
    "        System.out.println(\"(1, 4) value: \" + sparse.getValueAt(1, 4)); // entry\n",
    "        System.out.println(\"(2, 0) value: \" + sparse.getValueAt(2, 0)); // entry\n",
    "        System.out.println(\"(12, 23) value: \" + sparse.getValueAt(12, 23)); // not an entry\n",
    "        \n",
    "        sparse.removeColumn(1); // remove column 1\n",
    "        \n",
    "        System.out.println(\"\\nAfter column removal:\");\n",
    "        System.out.println(\"(1, 3) value: \" + sparse.getValueAt(1, 3)); // entry shifted left\n",
    "        System.out.println(\"(2, 0) value: \" + sparse.getValueAt(2, 0)); // entry unchanged\n",
    "        System.out.println(\"(12, 23) value: \" + sparse.getValueAt(12, 23)); // not an entry\n",
    "    }\n",
    "}\n"
   ]
  },
  {
   "cell_type": "markdown",
   "metadata": {},
   "source": [
    "### Key Learnings and Reflection\n"
   ]
  }
 ],
 "metadata": {
  "language_info": {
   "name": "python"
  }
 },
 "nbformat": 4,
 "nbformat_minor": 2
}
